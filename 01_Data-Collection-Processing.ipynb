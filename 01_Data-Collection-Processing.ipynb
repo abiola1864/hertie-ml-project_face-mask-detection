{
 "cells": [
  {
   "cell_type": "markdown",
   "id": "interesting-parking",
   "metadata": {},
   "source": [
    "# Processing Data Download\n",
    "\n",
    "This Jupyter Notebook serves the purpose to transform the downloaded data set (a collection of `.jpg` pictures) into interpretable input for the Machine Learning algorithm. As this has to be done only once, we keep it out of the main Jupyter Notebook that implements the different methods and models on the training and testing data set.\n",
    "\n",
    "Three majors steps have to be performed in this Jupyter Notebook:\n",
    "1. Proper loading of all images from the subdirectories\n",
    "2. Definition of functions that construct the pipeline\n",
    "    + Translate `.jpg` picture into pixels with intensity per pixel\n",
    "    + Creating arrays of corresponding labels\n",
    "    + Combining all arrays into proper dictionary\n",
    "    + Store translated pixel data so that main Jupyter Notebook can access the data\n",
    "3. Running pipeline with different pixel resolutions\n",
    "\n",
    "<br>\n",
    "<br>\n",
    "<br>\n",
    "\n",
    "## 1. Defintion of where to find files in folders\n",
    "\n",
    "<br>"
   ]
  },
  {
   "cell_type": "code",
   "execution_count": 53,
   "id": "civil-emission",
   "metadata": {},
   "outputs": [],
   "source": [
    "# Import necessary libraries and set-up Jupyter Notebook.\n",
    "\n",
    "# Common imports\n",
    "import numpy as np\n",
    "import os\n",
    "import matplotlib.pyplot as plt\n",
    "import timeit # for measuring time/code performance\n",
    "import pickle # for storing dictionary in the end\n",
    "import PIL #Python Image Library\n",
    "\n",
    "# to make this notebook's output stable across runs (safety measure)\n",
    "np.random.seed(42)"
   ]
  },
  {
   "cell_type": "code",
   "execution_count": 54,
   "id": "renewable-affect",
   "metadata": {},
   "outputs": [],
   "source": [
    "# Switch between toy and full data\n",
    "full_data_switch_on = False #Set True for full data set and False for Dummy Data set (see comment below)"
   ]
  },
  {
   "cell_type": "markdown",
   "id": "registered-judges",
   "metadata": {},
   "source": [
    "<div class=\"alert alert-block alert-danger\">\n",
    "<b>Action required</b>\n",
    "<p>\n",
    "    \n",
    "You have to set the switch whether you want to use the full dataset (True) or the dummy toy dataset (False). We set aside 100 correct and 100 incorrect pictures into a dummy toy data set in order to test our code faster. For running the algorithm with the dummy toy data everything is included in the GitHub-Repository (in the folder \"01_data/99_dummy_toy_data\").\n",
    "    \n",
    "However, if you want to run the algorithm with the full data set, you have to download the corresponding files under the Dropbox-Link below. The raw data is placed in the Dropbox folder \"00_raw\" (Hint: It is ca. 40,5 GB) and you have to download it into the repository folder \"01_data/00_raw/\".\n",
    "\n",
    "The reason why we cannot directly use the links here is that we do not have figured out yet how to loop through subfolders and files Dropbox online. GitHub does not allow us to upload such an amount of data.\n",
    "<br>\n",
    "Dropbox-Link: https://www.dropbox.com/sh/45vbkq1ihfnhqem/AAADdq6mJKaLsG1w7SDK-QV8a?dl=0    \n",
    "\n",
    "<br>\n",
    "<b>\n",
    "!!!  Be aware: Running this Jupyter Notebook with the full data set requires probably >8 hours of runtime for a 32x32 pixel resolution - depending on your hardware !!!\n",
    "\n",
    "</b>    \n",
    "</div>"
   ]
  },
  {
   "cell_type": "code",
   "execution_count": 55,
   "id": "lesbian-integer",
   "metadata": {},
   "outputs": [],
   "source": [
    "# Setting path variables depending on switch\n",
    "if full_data_switch_on == True: \n",
    "    # Set path to full data set of correct and incorrect files\n",
    "    ROOT_DATA = \"01_data/00_raw/Masked-Face-Net-Dataset\"\n",
    "    PATH_DATA_CORRECT = os.path.join(ROOT_DATA + \"/CMFD\")\n",
    "    PATH_DATA_INCORRECT = os.path.join(ROOT_DATA + \"/IMFD\")\n",
    "else:\n",
    "    # Set path to dummy toy data set of correct and incorrect files\n",
    "    ROOT_DATA = \"01_data/99_dummy_toy_data\"\n",
    "    PATH_DATA_CORRECT = os.path.join(ROOT_DATA + \"/correct\")\n",
    "    PATH_DATA_INCORRECT = os.path.join(ROOT_DATA + \"/incorrect\")"
   ]
  },
  {
   "cell_type": "code",
   "execution_count": 56,
   "id": "attempted-killer",
   "metadata": {},
   "outputs": [],
   "source": [
    "# Defining list of all pictures to include\n",
    "import os\n",
    "\n",
    "def list_files(dir):\n",
    "    r = []\n",
    "    for root, dirs, files in os.walk(dir):\n",
    "        for name in files:\n",
    "            r.append(os.path.join(root, name))\n",
    "    return r\n",
    "\n",
    "filenames_correct = list_files(PATH_DATA_CORRECT)\n",
    "filenames_incorrect = list_files(PATH_DATA_INCORRECT)"
   ]
  },
  {
   "cell_type": "code",
   "execution_count": 57,
   "id": "social-shade",
   "metadata": {},
   "outputs": [],
   "source": [
    "fil_cor_array = np.array(filenames_correct)\n",
    "fil_incor_array = np.array(filenames_incorrect)\n",
    "\n",
    "pic_ids = np.array([])\n",
    "pic_ids = np.vstack((fil_cor_array, fil_incor_array))"
   ]
  },
  {
   "cell_type": "code",
   "execution_count": 58,
   "id": "meaning-mining",
   "metadata": {},
   "outputs": [
    {
     "data": {
      "text/plain": [
       "(2, 100)"
      ]
     },
     "execution_count": 58,
     "metadata": {},
     "output_type": "execute_result"
    }
   ],
   "source": [
    "pic_ids.shape"
   ]
  },
  {
   "cell_type": "code",
   "execution_count": 59,
   "id": "bacterial-slide",
   "metadata": {},
   "outputs": [
    {
     "data": {
      "text/plain": [
       "'01_data/99_dummy_toy_data/correct/00010_Mask.jpg'"
      ]
     },
     "execution_count": 59,
     "metadata": {},
     "output_type": "execute_result"
    }
   ],
   "source": [
    "filenames_correct[1]"
   ]
  },
  {
   "cell_type": "code",
   "execution_count": 60,
   "id": "opening-season",
   "metadata": {},
   "outputs": [
    {
     "data": {
      "text/plain": [
       "'00010_Mask.jpg'"
      ]
     },
     "execution_count": 60,
     "metadata": {},
     "output_type": "execute_result"
    }
   ],
   "source": [
    "if PATH_DATA_CORRECT in filenames_correct[1]:\n",
    "    test = filenames_correct[1].replace(PATH_DATA_CORRECT + \"/\", \"\")\n",
    "\n",
    "test"
   ]
  },
  {
   "cell_type": "code",
   "execution_count": 61,
   "id": "wanted-atlas",
   "metadata": {},
   "outputs": [],
   "source": [
    "pic_ids = np.array([])\n",
    "for i in range(len(filenames_correct)):\n",
    "    file_short = filenames_correct[i].replace(PATH_DATA_CORRECT + \"/\", \"\")\n",
    "    pic_ids = np.append(pic_ids, file_short)\n",
    "for i in range(len(filenames_incorrect)):\n",
    "    file_short = filenames_incorrect[i].replace(PATH_DATA_INCORRECT + \"/\", \"\")\n",
    "    pic_ids = np.append(pic_ids, file_short)"
   ]
  },
  {
   "cell_type": "code",
   "execution_count": 62,
   "id": "charitable-designer",
   "metadata": {},
   "outputs": [
    {
     "data": {
      "text/plain": [
       "(200,)"
      ]
     },
     "execution_count": 62,
     "metadata": {},
     "output_type": "execute_result"
    }
   ],
   "source": [
    "pic_ids.shape"
   ]
  },
  {
   "cell_type": "code",
   "execution_count": null,
   "id": "miniature-expression",
   "metadata": {},
   "outputs": [],
   "source": []
  },
  {
   "cell_type": "markdown",
   "id": "regional-chemical",
   "metadata": {},
   "source": [
    "<br>\n",
    "\n",
    "## 2. Defining necessary functions that construct the pipeline\n",
    "\n",
    "<br>\n",
    "<br>\n",
    "<br>\n",
    "\n",
    "\n",
    "### Function for transforming .jpg-fils into numerical arrays\n",
    "\n",
    "<br>"
   ]
  },
  {
   "cell_type": "code",
   "execution_count": 63,
   "id": "statistical-absence",
   "metadata": {},
   "outputs": [],
   "source": [
    "# Importing necessary libraries/functions\n",
    "from PIL import Image as PIL_Image\n",
    "\n",
    "\n",
    "# Defining function that performs translation of jpg files into numerical representation\n",
    "def pixel_transformation(target_pixel, correct_switch):\n",
    "    # Correct/Incorrect switch\n",
    "    if correct_switch==True:\n",
    "            \n",
    "        # Run-time information\n",
    "        start_time = timeit.default_timer()\n",
    "        print(\">... Starting pixel transformation for correct pictures for resolution: \", target_pixel, \"x\", target_pixel)\n",
    "\n",
    "        # Initialize emtpy array of fitting length\n",
    "        array_length = target_pixel*target_pixel*3 #Times 3 as we have 3 values (RGB) per pixel\n",
    "        loaded_pics_correct = np.empty([0,array_length])\n",
    "\n",
    "        #Running trough all correctly worn image files\n",
    "        for filename in filenames_correct:\n",
    "            # open picture\n",
    "            pic = PIL_Image.open(filename)\n",
    "            # Reduce size from original format to target format\n",
    "            pic_resized = pic.resize((target_pixel, target_pixel))\n",
    "            # Extract RGB data\n",
    "            pic_data = np.array(pic_resized)\n",
    "            # Include help array to reshape 3D-array(e.g.: 1024, 1024, 3) into 1D array\n",
    "            help_array = np.reshape(pic_data,(pic_data.size,))\n",
    "            # Stack each array onto each other to have one larger array of shape (#obs,#pixels*3)\n",
    "            loaded_pics_correct = np.vstack((loaded_pics_correct, help_array))\n",
    "        \n",
    "        #End run-time information\n",
    "        elapsed = timeit.default_timer() - start_time\n",
    "        print(\"Finished\", target_pixel, \"x\", target_pixel ,\"pixel transformation for correct pictures. Run-time in seconds: \", round(elapsed,2))\n",
    " \n",
    "        # Returning\n",
    "        return loaded_pics_correct\n",
    "        \n",
    "  \n",
    "    elif correct_switch==False:\n",
    "            \n",
    "        # Run-time information\n",
    "        start_time = timeit.default_timer()\n",
    "        print(\">... Starting pixel transformation for incorrect pictures for resolution: \", target_pixel, \"x\", target_pixel)\n",
    "\n",
    "        # Initialize emtpy array of fitting length\n",
    "        array_length = target_pixel*target_pixel*3 #Times 3 as we have 3 values (RGB) per pixel\n",
    "        loaded_pics_incorrect = np.empty([0,array_length])\n",
    "\n",
    "        #Running trough all correctly worn image files\n",
    "        for filename in filenames_incorrect:\n",
    "            # open picture\n",
    "            pic = PIL_Image.open(filename)\n",
    "            # Reduce size from original format to target format\n",
    "            pic_resized = pic.resize((target_pixel, target_pixel))\n",
    "            # Extract RGB data\n",
    "            pic_data = np.array(pic_resized)\n",
    "            # Include help array to reshape 3D-array(e.g.: 1024, 1024, 3) into 1D array\n",
    "            help_array = np.reshape(pic_data,(pic_data.size,))\n",
    "            # Stack each array onto each other to have one larger array of shape (#obs,#pixels*3)\n",
    "            loaded_pics_incorrect = np.vstack((loaded_pics_incorrect, help_array))\n",
    "\n",
    "        #End run-time information\n",
    "        elapsed = timeit.default_timer() - start_time\n",
    "        print(\"Finished\", target_pixel, \"x\", target_pixel ,\"pixel transformation for incorrect pictures. Run-time in seconds: \", round(elapsed,2))\n",
    "\n",
    "        # Returning\n",
    "        return loaded_pics_incorrect\n",
    "        \n",
    "   \n",
    "    else:\n",
    "        print(\"Error: Value for correct_switch muste be True or False!\")\n",
    "        \n",
    "   \n",
    "    "
   ]
  },
  {
   "cell_type": "markdown",
   "id": "earned-trauma",
   "metadata": {},
   "source": [
    "<br>\n",
    "<br>\n",
    "<br>\n",
    "<br>\n",
    "\n",
    "\n",
    "### Function for creating label vectors\n",
    "\n",
    "<br>"
   ]
  },
  {
   "cell_type": "code",
   "execution_count": 64,
   "id": "differential-enough",
   "metadata": {},
   "outputs": [],
   "source": [
    "# Defining function to create label vector\n",
    "\n",
    "def add_labels(pic_array, correct_switch):\n",
    "    # Run-time information\n",
    "    start_time = timeit.default_timer()\n",
    "    print(\">... Starting to create labels vector for array.\")\n",
    "    \n",
    "    # Define label depending on switch\n",
    "    if correct_switch==True:\n",
    "        label_item = 1\n",
    "    elif correct_switch==False:\n",
    "        label_item = 0\n",
    "    else:\n",
    "        print(\"Error: Value for correct_switch muste be True or False!\")\n",
    "        \n",
    "    # Initialize array and run for-loop\n",
    "    labels = np.array([])\n",
    "    for itr in range(len(pic_array)):\n",
    "        labels = np.append(labels, label_item)\n",
    "    # Transform to integers\n",
    "    labels = labels.astype(np.uint8)\n",
    "    \n",
    "    # End run-time information\n",
    "    elapsed = timeit.default_timer() - start_time\n",
    "    print(\"Finished to create labels vector for array. Label: \",label_item,\". Run-time in seconds: \", round(elapsed,2))\n",
    "    \n",
    "    #Returning values\n",
    "    return labels"
   ]
  },
  {
   "cell_type": "markdown",
   "id": "genetic-pursuit",
   "metadata": {},
   "source": [
    "<br>\n",
    "<br>\n",
    "<br>\n",
    "<br>\n",
    "\n",
    "\n",
    "### Function for combining arrays into dictionary\n",
    "\n",
    "<br>"
   ]
  },
  {
   "cell_type": "code",
   "execution_count": 65,
   "id": "played-swimming",
   "metadata": {},
   "outputs": [],
   "source": [
    "# Defining function to combine arrays to dictionary\n",
    "\n",
    "def comb_to_dict(feat_cor, feat_incor, labels_cor, labels_incor):\n",
    "    # Run-time information\n",
    "    start_time = timeit.default_timer()\n",
    "    print(\">... Starting to combine arrays to dictionary.\")\n",
    "    \n",
    "    # combine label arrays\n",
    "    labels = np.array([])\n",
    "    labels = np.append(labels_cor, labels_incor)\n",
    "    \n",
    "    # Combine feature arrays\n",
    "    cleaned_data = np.array([])\n",
    "    cleaned_data = np.vstack((feat_cor, feat_incor))\n",
    "    \n",
    "    # Combine pic id arrays\n",
    "    pic_ids = np.array([])\n",
    "    for i in range(len(filenames_correct)):\n",
    "        file_short = filenames_correct[i].replace(PATH_DATA_CORRECT + \"/\", \"\")\n",
    "        pic_ids = np.append(pic_ids, file_short)\n",
    "    for i in range(len(filenames_incorrect)):\n",
    "        file_short = filenames_incorrect[i].replace(PATH_DATA_INCORRECT + \"/\", \"\")\n",
    "        pic_ids = np.append(pic_ids, file_short)\n",
    "    \n",
    "    # Combine data and labels into one dictionary\n",
    "    pic_data = {}\n",
    "    pic_data[\"rgb_data\"] = cleaned_data\n",
    "    pic_data[\"labels\"] = labels\n",
    "    pic_data[\"pic_ids\"] = pic_ids\n",
    "    \n",
    "    # End run-time information\n",
    "    elapsed = timeit.default_timer() - start_time\n",
    "    print(\"Finished creating dictionary. Run-time in seconds: \", round(elapsed,2))\n",
    "    \n",
    "    #Returning values\n",
    "    return pic_data\n",
    "    "
   ]
  },
  {
   "cell_type": "markdown",
   "id": "viral-sympathy",
   "metadata": {},
   "source": [
    "<br>\n",
    "<br>\n",
    "<br>\n",
    "<br>\n",
    "\n",
    "\n",
    "### Function for storing dictionary with approriate name\n",
    "\n",
    "<br>"
   ]
  },
  {
   "cell_type": "code",
   "execution_count": 66,
   "id": "nearby-agency",
   "metadata": {},
   "outputs": [],
   "source": [
    "# Defining function for storing dictionary with appropiate name in appropriate folder\n",
    "def store_dict(pic_dict, target_pixel):\n",
    "    if full_data_switch_on == True: \n",
    "        file = open((\"01_data/01_cleaned/pic_data_full_\"+str(target_pixel)+\".pkl\"),\"wb\")\n",
    "        pickle.dump(pic_dict, file)\n",
    "        file.close()\n",
    "        print(\"Successfully stored in: 01_data/01_cleaned/pic_data_full_\"+str(target_pixel)+\".pkl\")\n",
    "    else: \n",
    "        file = open((\"01_data/01_cleaned/pic_data_dummy_toy_\"+str(target_pixel)+\".pkl\"),\"wb\")\n",
    "        pickle.dump(pic_dict, file)\n",
    "        file.close()\n",
    "        print(\"Successfully stored in: 01_data/01_cleaned/pic_data_dummy_toy_\"+str(target_pixel)+\".pkl\")"
   ]
  },
  {
   "cell_type": "markdown",
   "id": "previous-cooperative",
   "metadata": {},
   "source": [
    "<br>\n",
    "<br>\n",
    "<br>\n",
    "<br>\n",
    "\n",
    "\n",
    "### Function for storing dictionary with approriate name\n",
    "\n",
    "<br>"
   ]
  },
  {
   "cell_type": "code",
   "execution_count": 67,
   "id": "negative-chart",
   "metadata": {},
   "outputs": [],
   "source": [
    "# Defining function to run whole pipeline\n",
    "\n",
    "def pic_pipeline(pixel_res):\n",
    "    # Run-time information\n",
    "    start_time_all = timeit.default_timer()\n",
    "    print(\"\\n\\n>... Starting picture pipeline for resolution: \", pixel_res, \"x\", pixel_res, \"\\n\\n\")\n",
    "    \n",
    "    # Transformation\n",
    "    feat_correct = pixel_transformation(target_pixel=pixel_res, correct_switch=True)\n",
    "    feat_incorrect = pixel_transformation(target_pixel=pixel_res, correct_switch=False)\n",
    "    # Adding labels\n",
    "    labels_correct = add_labels(pic_array=feat_correct, correct_switch=True)\n",
    "    labels_incorrect = add_labels(pic_array=feat_incorrect, correct_switch=False)\n",
    "    # Combining\n",
    "    pic_data = comb_to_dict(feat_cor=feat_correct, \n",
    "                            feat_incor=feat_incorrect, \n",
    "                            labels_cor=labels_correct, \n",
    "                            labels_incor=labels_incorrect)\n",
    "    # Storing\n",
    "    if store_switch == True:\n",
    "        store_dict(pic_dict=pic_data, target_pixel=pixel_res)\n",
    "    elif store_switch == False:\n",
    "        print(\"Be aware. New arrays are not stored.\")\n",
    "    else:\n",
    "        print(\"Error. Store Switch must be either True or False!\")\n",
    "    \n",
    "    # End run-time information\n",
    "    elapsed = timeit.default_timer() - start_time_all\n",
    "    print(\"\\n\\nFinished picture pipeline for resultion: \", pixel_res, \"x\", pixel_res, \"Run-time in seconds:\", round(elapsed,2))"
   ]
  },
  {
   "cell_type": "markdown",
   "id": "assured-pixel",
   "metadata": {},
   "source": [
    "<br>\n",
    "<br>\n",
    "<br>\n",
    "<br>\n",
    "\n",
    "## 3. Running full transformation pipeline\n",
    "\n",
    "<br>"
   ]
  },
  {
   "cell_type": "code",
   "execution_count": 69,
   "id": "focal-detector",
   "metadata": {
    "scrolled": true
   },
   "outputs": [
    {
     "name": "stdout",
     "output_type": "stream",
     "text": [
      "\n",
      "\n",
      ">... Starting picture pipeline for resolution:  16 x 16 \n",
      "\n",
      "\n",
      ">... Starting pixel transformation for correct pictures for resolution:  16 x 16\n",
      "Finished 16 x 16 pixel transformation for correct pictures. Run-time in seconds:  1.6\n",
      ">... Starting pixel transformation for incorrect pictures for resolution:  16 x 16\n",
      "Finished 16 x 16 pixel transformation for incorrect pictures. Run-time in seconds:  1.51\n",
      ">... Starting to create labels vector for array.\n",
      "Finished to create labels vector for array. Label:  1 . Run-time in seconds:  0.0\n",
      ">... Starting to create labels vector for array.\n",
      "Finished to create labels vector for array. Label:  0 . Run-time in seconds:  0.0\n",
      ">... Starting to combine arrays to dictionary.\n",
      "Finished creating dictionary. Run-time in seconds:  0.0\n",
      "Successfully stored in: 01_data/01_cleaned/pic_data_dummy_toy_16.pkl\n",
      "\n",
      "\n",
      "Finished picture pipeline for resultion:  16 x 16 Run-time in seconds: 3.12\n",
      "\n",
      "\n",
      " Finished overall pipeline!\n",
      "\n",
      "\n",
      ">... Starting picture pipeline for resolution:  32 x 32 \n",
      "\n",
      "\n",
      ">... Starting pixel transformation for correct pictures for resolution:  32 x 32\n",
      "Finished 32 x 32 pixel transformation for correct pictures. Run-time in seconds:  1.59\n",
      ">... Starting pixel transformation for incorrect pictures for resolution:  32 x 32\n",
      "Finished 32 x 32 pixel transformation for incorrect pictures. Run-time in seconds:  1.63\n",
      ">... Starting to create labels vector for array.\n",
      "Finished to create labels vector for array. Label:  1 . Run-time in seconds:  0.0\n",
      ">... Starting to create labels vector for array.\n",
      "Finished to create labels vector for array. Label:  0 . Run-time in seconds:  0.0\n",
      ">... Starting to combine arrays to dictionary.\n",
      "Finished creating dictionary. Run-time in seconds:  0.0\n",
      "Successfully stored in: 01_data/01_cleaned/pic_data_dummy_toy_32.pkl\n",
      "\n",
      "\n",
      "Finished picture pipeline for resultion:  32 x 32 Run-time in seconds: 3.22\n",
      "\n",
      "\n",
      " Finished overall pipeline!\n",
      "\n",
      "\n",
      ">... Starting picture pipeline for resolution:  48 x 48 \n",
      "\n",
      "\n",
      ">... Starting pixel transformation for correct pictures for resolution:  48 x 48\n",
      "Finished 48 x 48 pixel transformation for correct pictures. Run-time in seconds:  1.6\n",
      ">... Starting pixel transformation for incorrect pictures for resolution:  48 x 48\n",
      "Finished 48 x 48 pixel transformation for incorrect pictures. Run-time in seconds:  1.59\n",
      ">... Starting to create labels vector for array.\n",
      "Finished to create labels vector for array. Label:  1 . Run-time in seconds:  0.0\n",
      ">... Starting to create labels vector for array.\n",
      "Finished to create labels vector for array. Label:  0 . Run-time in seconds:  0.0\n",
      ">... Starting to combine arrays to dictionary.\n",
      "Finished creating dictionary. Run-time in seconds:  0.0\n",
      "Successfully stored in: 01_data/01_cleaned/pic_data_dummy_toy_48.pkl\n",
      "\n",
      "\n",
      "Finished picture pipeline for resultion:  48 x 48 Run-time in seconds: 3.22\n",
      "\n",
      "\n",
      " Finished overall pipeline!\n",
      "\n",
      "\n",
      ">... Starting picture pipeline for resolution:  64 x 64 \n",
      "\n",
      "\n",
      ">... Starting pixel transformation for correct pictures for resolution:  64 x 64\n",
      "Finished 64 x 64 pixel transformation for correct pictures. Run-time in seconds:  1.62\n",
      ">... Starting pixel transformation for incorrect pictures for resolution:  64 x 64\n",
      "Finished 64 x 64 pixel transformation for incorrect pictures. Run-time in seconds:  1.65\n",
      ">... Starting to create labels vector for array.\n",
      "Finished to create labels vector for array. Label:  1 . Run-time in seconds:  0.0\n",
      ">... Starting to create labels vector for array.\n",
      "Finished to create labels vector for array. Label:  0 . Run-time in seconds:  0.0\n",
      ">... Starting to combine arrays to dictionary.\n",
      "Finished creating dictionary. Run-time in seconds:  0.0\n",
      "Successfully stored in: 01_data/01_cleaned/pic_data_dummy_toy_64.pkl\n",
      "\n",
      "\n",
      "Finished picture pipeline for resultion:  64 x 64 Run-time in seconds: 3.29\n",
      "\n",
      "\n",
      " Finished overall pipeline!\n"
     ]
    }
   ],
   "source": [
    "# Defining pixel resolutions to use: All pics will be reshaped quadratically: So 16 will become 16x16 resolution\n",
    "desired_pixel_res = [16, 32, 48, 64]\n",
    "\n",
    "# Define if new run shall be stored (For development of code)\n",
    "store_switch = True\n",
    "\n",
    "\n",
    "for pix in desired_pixel_res:\n",
    "    # Running transformation pipeline incl storing and adding labels\n",
    "    pic_pipeline(pixel_res=pix)\n",
    "    print(\"\\n\\n Finished overall pipeline!\")\n",
    "    "
   ]
  }
 ],
 "metadata": {
  "kernelspec": {
   "display_name": "Python 3",
   "language": "python",
   "name": "python3"
  },
  "language_info": {
   "codemirror_mode": {
    "name": "ipython",
    "version": 3
   },
   "file_extension": ".py",
   "mimetype": "text/x-python",
   "name": "python",
   "nbconvert_exporter": "python",
   "pygments_lexer": "ipython3",
   "version": "3.8.5"
  }
 },
 "nbformat": 4,
 "nbformat_minor": 5
}
