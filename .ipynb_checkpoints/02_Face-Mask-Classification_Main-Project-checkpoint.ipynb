{
 "cells": [
  {
   "cell_type": "markdown",
   "id": "specialized-technology",
   "metadata": {},
   "source": [
    "# Face-Mask-Classification Project\n",
    "\n",
    "\n",
    "Authors:\n",
    "+ Tobias Palmowski\n",
    "+ Fabian Metz\n",
    "+ Thilo Sander\n",
    "\n",
    "Date of Midterm-Report: 29.03.2021 <br>\n",
    "Date of final submission: 26.04.2021\n",
    "\n",
    "\n",
    "### Introduction\n",
    "\n",
    "This Jupyter Notebook is the core of the Face-Mask-Classification Project performed in the class \"Machine Learning\" of the Hertie School in Berlin. There is one other Jupyter Notebook which deals with combining the different datasets into one large data set - a task only performed once and therefore outsourced to another file.\n"
   ]
  },
  {
   "cell_type": "markdown",
   "id": "north-funeral",
   "metadata": {},
   "source": [
    "### Data Processing: Pipeline-Building\n",
    "\n",
    "<br>\n",
    "<br>\n",
    "<br>\n",
    "<br>\n",
    "[Short Description]"
   ]
  },
  {
   "cell_type": "code",
   "execution_count": 29,
   "id": "transparent-ukraine",
   "metadata": {
    "ExecuteTime": {
     "end_time": "2021-03-26T15:09:56.406127Z",
     "start_time": "2021-03-26T15:09:56.392460Z"
    }
   },
   "outputs": [],
   "source": [
    "# Import necessary libraries and set-up Jupyter Notebook.\n",
    "\n",
    "# Common imports\n",
    "import numpy as np\n",
    "import pandas as pd\n",
    "import os\n",
    "import matplotlib.pyplot as plt\n",
    "\n",
    "# Imports for dealing with images:\n",
    "import PIL #Pillow (install with \"pip install Pillow\")\n",
    "\n",
    "# to make this notebook's output stable across runs (safety measure)\n",
    "np.random.seed(42)\n",
    "\n",
    "# Set path to correct and incorrect data sets for keeping references short later\n",
    "ROOT_DATA = \"01_data/99_dummy_toy_data\"\n",
    "PATH_DATA_CORRECT = os.path.join(ROOT_DATA + \"/correct\")\n",
    "PATH_DATA_INCORRECT = os.path.join(ROOT_DATA + \"/incorrect\")\n",
    "\n",
    "# Where to save possible figures\n",
    "PROJECT_ROOT_DIR = \"02_figures\"\n",
    "CHAPTER_ID = \"01_data_preparation\"\n",
    "IMAGES_PATH = os.path.join(PROJECT_ROOT_DIR, CHAPTER_ID)\n",
    "os.makedirs(IMAGES_PATH, exist_ok=True)\n",
    "\n",
    "def save_fig(fig_id, tight_layout=True, fig_extension=\"png\", resolution=300):\n",
    "    path = os.path.join(IMAGES_PATH, fig_id + \".\" + fig_extension)\n",
    "    print(\"Saving figure\", fig_id)\n",
    "    if tight_layout:\n",
    "        plt.tight_layout()\n",
    "    plt.savefig(path, format=fig_extension, dpi=resolution)"
   ]
  },
  {
   "cell_type": "code",
   "execution_count": 30,
   "id": "useful-feeding",
   "metadata": {
    "ExecuteTime": {
     "end_time": "2021-03-26T15:09:56.435603Z",
     "start_time": "2021-03-26T15:09:56.412608Z"
    }
   },
   "outputs": [],
   "source": [
    "# Open pickle file that contains the directory\n",
    "import pickle\n",
    "pic_data = pickle.load(open(os.path.join(ROOT_DATA + \"/cleaned/pic_data.pkl\"),\"rb\"))"
   ]
  },
  {
   "cell_type": "code",
   "execution_count": 31,
   "id": "executed-clark",
   "metadata": {
    "ExecuteTime": {
     "end_time": "2021-03-26T15:09:56.456693Z",
     "start_time": "2021-03-26T15:09:56.445218Z"
    }
   },
   "outputs": [
    {
     "data": {
      "text/plain": [
       "{'rgb_data': array([[ 95.,  50.,  59., ...,  32.,  31.,  35.],\n",
       "        [ 79.,  48.,  25., ..., 213.,  54.,  62.],\n",
       "        [212., 212., 212., ..., 214., 215., 217.],\n",
       "        ...,\n",
       "        [212., 204., 189., ..., 188., 160., 121.],\n",
       "        [238., 242., 253., ..., 247., 251., 255.],\n",
       "        [201., 200., 169., ...,  31.,  35.,  65.]]),\n",
       " 'labels': array([1, 1, 1, 1, 1, 1, 1, 1, 1, 1, 1, 1, 1, 1, 1, 1, 1, 1, 1, 1, 1, 1,\n",
       "        1, 1, 1, 1, 1, 1, 1, 1, 1, 1, 1, 1, 1, 1, 1, 1, 1, 1, 1, 1, 1, 1,\n",
       "        1, 1, 1, 1, 1, 1, 1, 1, 1, 1, 1, 1, 1, 1, 1, 1, 1, 1, 1, 1, 1, 1,\n",
       "        1, 1, 1, 1, 1, 1, 1, 1, 1, 1, 1, 1, 1, 1, 1, 1, 1, 1, 1, 1, 1, 1,\n",
       "        1, 1, 1, 1, 1, 1, 1, 1, 1, 1, 1, 1, 0, 0, 0, 0, 0, 0, 0, 0, 0, 0,\n",
       "        0, 0, 0, 0, 0, 0, 0, 0, 0, 0, 0, 0, 0, 0, 0, 0, 0, 0, 0, 0, 0, 0,\n",
       "        0, 0, 0, 0, 0, 0, 0, 0, 0, 0, 0, 0, 0, 0, 0, 0, 0, 0, 0, 0, 0, 0,\n",
       "        0, 0, 0, 0, 0, 0, 0, 0, 0, 0, 0, 0, 0, 0, 0, 0, 0, 0, 0, 0, 0, 0,\n",
       "        0, 0, 0, 0, 0, 0, 0, 0, 0, 0, 0, 0, 0, 0, 0, 0, 0, 0, 0, 0, 0, 0,\n",
       "        0, 0], dtype=uint8)}"
      ]
     },
     "execution_count": 31,
     "metadata": {},
     "output_type": "execute_result"
    }
   ],
   "source": [
    "# Exploring dictionary structure\n",
    "pic_data"
   ]
  },
  {
   "cell_type": "code",
   "execution_count": 32,
   "id": "instructional-hanging",
   "metadata": {
    "ExecuteTime": {
     "end_time": "2021-03-26T15:09:56.468338Z",
     "start_time": "2021-03-26T15:09:56.460843Z"
    }
   },
   "outputs": [],
   "source": [
    "# Copying dictionary data into separate data frames\n",
    "rgb_data, labels = pic_data[\"rgb_data\"], pic_data[\"labels\"]"
   ]
  },
  {
   "cell_type": "code",
   "execution_count": 33,
   "id": "ready-fundamentals",
   "metadata": {
    "ExecuteTime": {
     "end_time": "2021-03-26T15:09:56.481232Z",
     "start_time": "2021-03-26T15:09:56.471307Z"
    }
   },
   "outputs": [
    {
     "name": "stdout",
     "output_type": "stream",
     "text": [
      "Dimensions of rgb_data: (200, 3072)\n",
      "Dimensions of labels: (200,)\n"
     ]
    }
   ],
   "source": [
    "# Explore dimensionalities of data frames\n",
    "print(\"Dimensions of rgb_data:\", rgb_data.shape)\n",
    "print(\"Dimensions of labels:\", labels.shape)"
   ]
  },
  {
   "cell_type": "code",
   "execution_count": 34,
   "id": "suited-content",
   "metadata": {
    "ExecuteTime": {
     "end_time": "2021-03-26T15:09:56.494365Z",
     "start_time": "2021-03-26T15:09:56.485529Z"
    }
   },
   "outputs": [],
   "source": [
    "# Split into test and training data set\n",
    "from sklearn.model_selection import train_test_split\n",
    "\n",
    "rgb_data_train, rgb_data_test, labels_train, labels_test = train_test_split(rgb_data, labels, test_size=0.10, random_state=42)"
   ]
  },
  {
   "cell_type": "markdown",
   "id": "featured-investigator",
   "metadata": {},
   "source": [
    "<div class=\"alert alert-block alert-danger\">\n",
    "<b>ATTENTION</b>\n",
    "<p>\n",
    "Adapt test size according to the size of the whole data set. \n",
    "</div>"
   ]
  },
  {
   "cell_type": "markdown",
   "id": "starting-williams",
   "metadata": {},
   "source": [
    "### Baseline: SGD Classifier\n",
    "\n",
    "<br>\n",
    "\n",
    "This section defines a Stochastic Gradient Decent method as a baseline for the project.\n",
    "[Short Description]"
   ]
  },
  {
   "cell_type": "code",
   "execution_count": 35,
   "id": "juvenile-annotation",
   "metadata": {
    "ExecuteTime": {
     "end_time": "2021-03-26T15:09:56.519140Z",
     "start_time": "2021-03-26T15:09:56.497753Z"
    },
    "scrolled": true
   },
   "outputs": [
    {
     "data": {
      "text/plain": [
       "SGDClassifier(random_state=42)"
      ]
     },
     "execution_count": 35,
     "metadata": {},
     "output_type": "execute_result"
    }
   ],
   "source": [
    "# redefining labels as True False\n",
    "labels_train_tf = (labels_train == 1)\n",
    "labels_test_tf = (labels_test == 1)\n",
    "\n",
    "\n",
    "# Code for Baseline\n",
    "from sklearn.linear_model import SGDClassifier\n",
    "\n",
    "sgd_clf = SGDClassifier(max_iter=1000, tol=1e-3, random_state=42) \n",
    "sgd_clf.fit(rgb_data_train, labels_train_tf)"
   ]
  },
  {
   "cell_type": "markdown",
   "id": "discrete-cooperative",
   "metadata": {},
   "source": [
    "Parameters need to be checked, what makes sense for a toy dataset?"
   ]
  },
  {
   "cell_type": "markdown",
   "id": "global-jungle",
   "metadata": {},
   "source": [
    "### Evaluation of Baseline\n",
    "\n",
    "<br>\n",
    "The normal Evaluation does not work with the current toy dataset as its too small."
   ]
  },
  {
   "cell_type": "markdown",
   "id": "worse-posting",
   "metadata": {},
   "source": [
    "<div class=\"alert alert-block alert-danger\">\n",
    "<b>ATTENTION</b>\n",
    "<p>\n",
    "The Evaluation Part is coded well, but does not work with the small test toy dataset.\n",
    "</div>"
   ]
  },
  {
   "cell_type": "code",
   "execution_count": 36,
   "id": "configured-article",
   "metadata": {
    "ExecuteTime": {
     "end_time": "2021-03-26T15:09:56.593213Z",
     "start_time": "2021-03-26T15:09:56.537955Z"
    }
   },
   "outputs": [],
   "source": [
    "# Cross Valuation Score\n",
    "from sklearn.model_selection import cross_val_score\n",
    "cvs = cross_val_score(sgd_clf, rgb_data_train, labels_train_tf, cv=3, scoring=\"accuracy\")"
   ]
  },
  {
   "cell_type": "markdown",
   "id": "exotic-champagne",
   "metadata": {},
   "source": [
    "<div class=\"alert alert-block alert-danger\">\n",
    "<b>Place to work on</b>\n",
    "<p>\n",
    "CV needs to be specified for whole dataset.\n",
    "</div>"
   ]
  },
  {
   "cell_type": "code",
   "execution_count": 37,
   "id": "wired-fiction",
   "metadata": {
    "ExecuteTime": {
     "end_time": "2021-03-26T15:09:56.672217Z",
     "start_time": "2021-03-26T15:09:56.596956Z"
    }
   },
   "outputs": [],
   "source": [
    "#create prediction sets\n",
    "from sklearn.model_selection import cross_val_predict\n",
    "labels_train_pred = cross_val_predict(sgd_clf, rgb_data_train, labels_train_tf, cv = 3)\n",
    "\n",
    "\n",
    "#Calculate Confusion Matrix\n",
    "from sklearn.metrics import confusion_matrix\n",
    "cm = confusion_matrix(labels_train_tf, labels_train_pred)\n"
   ]
  },
  {
   "cell_type": "markdown",
   "id": "agreed-interval",
   "metadata": {},
   "source": [
    "<div class=\"alert alert-block alert-danger\">\n",
    "<b>Place to work on</b>\n",
    "<p>\n",
    "CV needs to be specified for whole dataset.\n",
    "</div>"
   ]
  },
  {
   "cell_type": "code",
   "execution_count": 38,
   "id": "sapphire-advice",
   "metadata": {
    "ExecuteTime": {
     "end_time": "2021-03-26T15:09:56.705656Z",
     "start_time": "2021-03-26T15:09:56.444Z"
    }
   },
   "outputs": [],
   "source": [
    "# precision and recall\n",
    "from sklearn.metrics import precision_score, recall_score\n",
    "ps = precision_score(labels_train_tf, labels_train_pred)\n",
    "rs = recall_score(labels_train_tf, labels_train_pred)"
   ]
  },
  {
   "cell_type": "markdown",
   "id": "structural-latvia",
   "metadata": {},
   "source": [
    "### Preliminary Output for Working Process\n",
    "<br>\n",
    "This section gives us the output for the confusion matrix, the cross validation score and the precision and recall stores for the current code and tuning."
   ]
  },
  {
   "cell_type": "code",
   "execution_count": 39,
   "id": "loved-universal",
   "metadata": {
    "ExecuteTime": {
     "end_time": "2021-03-26T15:09:56.714599Z",
     "start_time": "2021-03-26T15:09:56.475Z"
    }
   },
   "outputs": [
    {
     "name": "stdout",
     "output_type": "stream",
     "text": [
      "Confusion Matrix\n"
     ]
    },
    {
     "data": {
      "text/html": [
       "<div>\n",
       "<style scoped>\n",
       "    .dataframe tbody tr th:only-of-type {\n",
       "        vertical-align: middle;\n",
       "    }\n",
       "\n",
       "    .dataframe tbody tr th {\n",
       "        vertical-align: top;\n",
       "    }\n",
       "\n",
       "    .dataframe thead th {\n",
       "        text-align: right;\n",
       "    }\n",
       "</style>\n",
       "<table border=\"1\" class=\"dataframe\">\n",
       "  <thead>\n",
       "    <tr style=\"text-align: right;\">\n",
       "      <th></th>\n",
       "      <th>0</th>\n",
       "      <th>1</th>\n",
       "    </tr>\n",
       "  </thead>\n",
       "  <tbody>\n",
       "    <tr>\n",
       "      <th>0</th>\n",
       "      <td>79</td>\n",
       "      <td>11</td>\n",
       "    </tr>\n",
       "    <tr>\n",
       "      <th>1</th>\n",
       "      <td>6</td>\n",
       "      <td>84</td>\n",
       "    </tr>\n",
       "  </tbody>\n",
       "</table>\n",
       "</div>"
      ],
      "text/plain": [
       "    0   1\n",
       "0  79  11\n",
       "1   6  84"
      ]
     },
     "execution_count": 39,
     "metadata": {},
     "output_type": "execute_result"
    }
   ],
   "source": [
    "# Output for us while working on it\n",
    "print(\"Confusion Matrix\")\n",
    "pd.DataFrame(cm)"
   ]
  },
  {
   "cell_type": "code",
   "execution_count": 40,
   "id": "listed-colon",
   "metadata": {
    "ExecuteTime": {
     "end_time": "2021-03-26T15:09:56.716723Z",
     "start_time": "2021-03-26T15:09:56.477Z"
    }
   },
   "outputs": [
    {
     "name": "stdout",
     "output_type": "stream",
     "text": [
      "Cross Validation Scores\n",
      "[0.91666667 0.91666667 0.88333333]\n"
     ]
    }
   ],
   "source": [
    "print('Cross Validation Scores')\n",
    "print(cvs)"
   ]
  },
  {
   "cell_type": "code",
   "execution_count": 41,
   "id": "caring-bunny",
   "metadata": {
    "ExecuteTime": {
     "end_time": "2021-03-26T15:09:56.718500Z",
     "start_time": "2021-03-26T15:09:56.480Z"
    }
   },
   "outputs": [
    {
     "name": "stdout",
     "output_type": "stream",
     "text": [
      "Precision Score\n",
      "0.8842105263157894\n"
     ]
    }
   ],
   "source": [
    "print(\"Precision Score\")\n",
    "print(ps)"
   ]
  },
  {
   "cell_type": "code",
   "execution_count": 42,
   "id": "right-hours",
   "metadata": {
    "ExecuteTime": {
     "end_time": "2021-03-26T15:09:56.720290Z",
     "start_time": "2021-03-26T15:09:56.482Z"
    }
   },
   "outputs": [
    {
     "name": "stdout",
     "output_type": "stream",
     "text": [
      "Recall Score\n",
      "0.9333333333333333\n"
     ]
    }
   ],
   "source": [
    "print(\"Recall Score\")\n",
    "print(rs)"
   ]
  },
  {
   "cell_type": "markdown",
   "id": "former-hayes",
   "metadata": {},
   "source": [
    "<div class=\"alert alert-block alert-danger\">\n",
    "<b>Place to work on</b>\n",
    "<p>\n",
    "What output do we want to generate?\n",
    "</div>"
   ]
  }
 ],
 "metadata": {
  "kernelspec": {
   "display_name": "Python 3",
   "language": "python",
   "name": "python3"
  },
  "language_info": {
   "codemirror_mode": {
    "name": "ipython",
    "version": 3
   },
   "file_extension": ".py",
   "mimetype": "text/x-python",
   "name": "python",
   "nbconvert_exporter": "python",
   "pygments_lexer": "ipython3",
   "version": "3.8.5"
  },
  "toc": {
   "base_numbering": 1,
   "nav_menu": {},
   "number_sections": true,
   "sideBar": true,
   "skip_h1_title": false,
   "title_cell": "Table of Contents",
   "title_sidebar": "Contents",
   "toc_cell": false,
   "toc_position": {},
   "toc_section_display": true,
   "toc_window_display": false
  }
 },
 "nbformat": 4,
 "nbformat_minor": 5
}
