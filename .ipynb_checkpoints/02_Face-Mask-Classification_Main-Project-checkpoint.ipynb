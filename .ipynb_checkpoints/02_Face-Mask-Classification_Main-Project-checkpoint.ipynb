{
 "cells": [
  {
   "cell_type": "markdown",
   "id": "otherwise-voluntary",
   "metadata": {},
   "source": [
    "# Face-Mask-Classification Project\n",
    "\n",
    "\n",
    "Authors:\n",
    "+ Tobias Palmowski\n",
    "+ Fabian Metz\n",
    "+ Thilo Sander\n",
    "\n",
    "Date of Midterm-Report: 29.03.2021 <br>\n",
    "Date of final submission: 26.04.2021"
   ]
  },
  {
   "cell_type": "markdown",
   "id": "coupled-alfred",
   "metadata": {},
   "source": [
    "## Table of content\n",
    "\n",
    "\n",
    "\n",
    "[1. Introduction](#1_introduction)\n",
    "\n",
    "[2. Preparation](#2_preparation)\n",
    "\n",
    "[3. Defining functions](#3_defining_functions)\n",
    "\n",
    "$\\;\\;\\;\\;\\;\\;$ [3.1. Showing and checking available pixel resolutions](#3_1_show_check_avail_pixels)\n",
    "    \n",
    "$\\;\\;\\;\\;\\;\\;$ [3.2. Loading and splitting data according to chosen pixel resolution](#3_2_load_split_data)\n",
    "\n",
    "$\\;\\;\\;\\;\\;\\;$ [3.3. Training classifier](#3_3_train_clasf)\n",
    "\n",
    "$\\;\\;\\;\\;\\;\\;$ [3.4. Evaluating classifier](#3_4_eval_clasf)\n",
    "\n",
    "$\\;\\;\\;\\;\\;\\;$ [3.5. Showing evaluations](#3_5_show_evals)\n",
    "\n",
    "$\\;\\;\\;\\;\\;\\;$ [3.6. Hyperparameter tuning grid search](#3_6_hyper_tune_grid_search)\n",
    "\n",
    "$\\;\\;\\;\\;\\;\\;$ [3.7. Training and testing classifier for test set cases](#3_7_test_clasf)\n",
    "\n",
    "$\\;\\;\\;\\;\\;\\;$ [3.8. Pipeline for loading and evaluating](#3_8_load_eval_pipeline)\n",
    "\n",
    "\n",
    "\n",
    "[4. Calculating Baseline](#4_Baseline)\n",
    "\n",
    "$\\;\\;\\;\\;\\;\\;$ [4.1. Defining classifiers to use and run evaluations](#4_1_Run_Baseline_Classifier)\n",
    "\n",
    "$\\;\\;\\;\\;\\;\\;$ [4.2. Show evaluations of baseline classifiers on train set](#4_2_Show_Evals_Train_Baseline)\n",
    "\n",
    "\n",
    "[5. Accuracy improvements](#5_Accuracy_Improvements)\n",
    "\n",
    "$\\;\\;\\;\\;\\;\\;$ [5.1. Defining grids and run grid search](#5_1_Grid_search)\n",
    "\n",
    "$\\;\\;\\;\\;\\;\\;$ [5.2. Evaluate accuracy tuned classifiers on train set](#5_2_Eval_Train_Accuracy_tuned)\n",
    "\n",
    "$\\;\\;\\;\\;\\;\\;$ [5.3. Show evaluations of accuracy tuned classifiers on train set](#5_3_Show_evals_train_accuracy_tuned)\n",
    "\n",
    "$\\;\\;\\;\\;\\;\\;$ [5.4. Voting Classifier (not used in final report)](#5_4_Voting_Classifier)\n",
    "\n",
    "$\\;\\;\\;\\;\\;\\;$ [5.5. SGD Bagging Classifier (not used in final report)](#5_5_SGD_Bagging_Classifier)\n",
    "\n",
    "\n",
    "\n",
    "[6. Speed improvements](#6_Speed_improvements)\n",
    "\n",
    "$\\;\\;\\;\\;\\;\\;$ [6.1. Plotting feature importance](#6_1_Feature_importance)\n",
    "\n",
    "$\\;\\;\\;\\;\\;\\;$ [6.2. Principal Component Analysis (PCA)](#6_2_PCA)\n",
    "\n",
    "$\\;\\;\\;\\;\\;\\;$ [6.3. Evaluate speed tuned classifiers on train set](#6_3_eval_train_speed_tuned)\n",
    "\n",
    "$\\;\\;\\;\\;\\;\\;$ [6.4. Show evaluations of speed tuned classifiers on train set](#6_4_show_evals_train_speed_tuned)\n",
    "\n",
    "$\\;\\;\\;\\;\\;\\;$ [6.5. Second round of hyperparamter tuning (not used in final report)](#6_5_second_round_hypertuning)\n",
    "\n",
    "$\\;\\;\\;\\;\\;\\;$ [6.6. Using different pixel resolution as input to improve speed (not used in final report)](#6_6_Different_pixel_resolutions)\n",
    "\n",
    "\n",
    "\n",
    "[7. Final evaluation on test set](#7_Test_evaluation)\n",
    "\n",
    "$\\;\\;\\;\\;\\;\\;$ [7.1. Baseline classifiers on test set with all features](#7_1_Test_Baseline)\n",
    "\n",
    "$\\;\\;\\;\\;\\;\\;$ [7.2. Accuracy tuned classifiers on test set with all features](#7_2_Test_Accuracy_Tuned)\n",
    "\n",
    "$\\;\\;\\;\\;\\;\\;$ [7.3. Speed tuned classifier on test set with reduced dimensionality](#7_3_Test_Speed_Tuned)\n",
    "\n",
    "$\\;\\;\\;\\;\\;\\;$ [7.4. Final output table](#7_4_Final_output_table)\n",
    "\n",
    "\n",
    "\n",
    "\n",
    "[8. Qualitative Error Analysis Preparation](#8_Qualitative_Error_Analysis)"
   ]
  },
  {
   "cell_type": "markdown",
   "id": "organic-packet",
   "metadata": {},
   "source": [
    "<a id='1_introduction'></a>\n",
    "<br>\n",
    "<br>\n",
    "<br>\n",
    "<br>\n",
    "<br>\n",
    "<br>\n",
    "\n",
    "## 1. Introduction\n",
    "\n",
    "This Jupyter Notebook is the core of the Face-Mask-Classification Project performed in the class \"Machine Learning\" of the Hertie School in Berlin. There is one other Jupyter Notebook which deals with combining the different datasets into one large data set - a task only performed once and therefore outsourced to another file.\n",
    "\n",
    "The following code is losely based on the chapter \"Classification\" from the book \"Hands-on Machine Learning with Scikit-Learn, Keras, and Tensorflow\" by Aurélien Géron."
   ]
  },
  {
   "cell_type": "markdown",
   "id": "sound-greece",
   "metadata": {},
   "source": [
    "<a id='2_preparation'></a>\n",
    "<br>\n",
    "<br>\n",
    "<br>\n",
    "<br>\n",
    "<br>\n",
    "<br>\n",
    "\n",
    "## 2. Preparation\n",
    "<br>\n",
    "This part loads the necessary libraries and packages as well as setting the Input and Output Directories."
   ]
  },
  {
   "cell_type": "code",
   "execution_count": 1,
   "id": "supreme-marine",
   "metadata": {
    "ExecuteTime": {
     "end_time": "2021-04-19T16:11:52.065767Z",
     "start_time": "2021-04-19T16:11:52.057689Z"
    },
    "init_cell": true
   },
   "outputs": [],
   "source": [
    "# Import necessary libraries and set-up Jupyter NoteMasked-Face-Net-Datasetbook.\n",
    "\n",
    "# Common imports\n",
    "import numpy as np\n",
    "import pandas as pd\n",
    "import os\n",
    "import seaborn as sns # for plotting\n",
    "import matplotlib as mpl # for plotting\n",
    "import matplotlib.pyplot as plt # for plotting\n",
    "import timeit # To keep track of calculation time\n",
    "import PIL #Python Image Library\n",
    "import pickle\n",
    "from sklearn.decomposition import PCA\n",
    "\n",
    "# to make this notebook's output stable across runs (safety measure)\n",
    "np.random.seed(42)"
   ]
  },
  {
   "cell_type": "code",
   "execution_count": 2,
   "id": "established-ending",
   "metadata": {
    "ExecuteTime": {
     "end_time": "2021-04-19T16:11:52.078743Z",
     "start_time": "2021-04-19T16:11:52.072557Z"
    },
    "init_cell": true
   },
   "outputs": [],
   "source": [
    "# Switch between toy and full data\n",
    "full_data_switch_on = False #Set True for full data set and False for Dummy Data set (see comment below)\n",
    "pixels = [24] #Available pixels: call show_avail_pixels()-function"
   ]
  },
  {
   "cell_type": "markdown",
   "id": "floating-ratio",
   "metadata": {},
   "source": [
    "<div class=\"alert alert-block alert-danger\">\n",
    "<b>Action required</b>\n",
    "<p>\n",
    "    \n",
    "You have to set the switch whether you want to use the full dataset (True) or the dummy toy dataset (False). We set aside 101 correct and 101 incorrect pictures into a dummy toy data set in order to test our code faster. For running the algorithm with the dummy toy data everything is included in the GitHub-Repository (in the folder \"01_data/99_dummy_toy_data\"). The corresponding .pkl-file that include the output of the data preprocessing Jupyter Notebook is included in the repository as well (in the folder \"01_data/01_cleaned/\")\n",
    "    \n",
    "However, if you want to run the algorithm with the full data set, you have to download the corresponding files under the Dropbox-Link below. The raw data is placed in the Dropbox folder \"00_raw\" (Hint: It is ca. 41 GB) and you have to download it into the repository folder \"01_data/00_raw/\". The corresponding pickle files depending on the pixel resolution you choose (see pixels list above) are several GB big and are also available in the Dropbox-Folder under \"01_cleaned\". This file has to be placed in the corresponding repository folder \"01_data/01_cleaned/\" to make this code run. The whole code is run with a pixel resolution of 24x24. However, different pixel resolution are available and are automatically included for calculations on the test set. If you want to create outputs for the test set with different pixel resolutions, you have to specify a new pixel resolution in the corresponding section. \n",
    "\n",
    "The reason why we cannot directly use the links here is that we do not have figured out yet how to loop through subfolders and files Dropbox online. GitHub does not allow us to upload such an amount of data.\n",
    "<br>\n",
    "Dropbox-Link: https://www.dropbox.com/sh/45vbkq1ihfnhqem/AAADdq6mJKaLsG1w7SDK-QV8a?dl=0    \n",
    "\n",
    "<br>\n",
    "<b>\n",
    "!!!  Be aware: Running this Jupyter Notebook with the full data set requires several hours to days of runtime depending on your hardware (especially the grid search takes more than 40 hours) !!!\n",
    "\n",
    "</b>    \n",
    "</div>"
   ]
  },
  {
   "cell_type": "markdown",
   "id": "german-father",
   "metadata": {},
   "source": [
    "<div class=\"alert alert-block alert-warning\">\n",
    "<b>Hint regarding showing evaluations</b>\n",
    "<p>\n",
    "    \n",
    "All evaluation metrics are stored as `.pkl`-files in the Git-Hub-Repository. You can have a separate look at outputs of the full data set if you set the parameter `full_data_switch_on = True` and run only the cells where the evaluations are coded. You can also overwrite the switch value at the beginning of the evaluation block you want to have a look at. You just should avoid runnung the whole book with the switch equal to True as this causes a lot-of run-time (see note above)! \n",
    "</div>"
   ]
  },
  {
   "cell_type": "code",
   "execution_count": 3,
   "id": "suburban-trust",
   "metadata": {
    "ExecuteTime": {
     "end_time": "2021-04-19T16:11:52.106614Z",
     "start_time": "2021-04-19T16:11:52.089682Z"
    },
    "init_cell": true
   },
   "outputs": [],
   "source": [
    "# Defining path to cleaned data folder\n",
    "PATH_CLEANED_DATA = \"01_data/01_cleaned\"\n",
    "\n",
    "# Where to save figures\n",
    "ROOT_FIGS = \"02_figures\"\n",
    "os.makedirs(ROOT_FIGS, exist_ok=True)\n",
    "\n",
    "CM_IMAGES_PATH = os.path.join(ROOT_FIGS, \"Confusion_Matrices\")\n",
    "os.makedirs(CM_IMAGES_PATH, exist_ok=True)\n",
    "\n",
    "PRP_IMAGES_PATH = os.path.join(ROOT_FIGS, \"Precision Recall Plots\")\n",
    "os.makedirs(PRP_IMAGES_PATH, exist_ok=True)\n",
    "\n",
    "def save_fig(fig_id, SAVE_PATH=ROOT_FIGS, tight_layout=True, fig_extension=\"png\", resolution=300):\n",
    "    path = os.path.join(SAVE_PATH, fig_id + \".\" + fig_extension)\n",
    "    print(\">... Saving figure\", fig_id)\n",
    "    if tight_layout:\n",
    "        plt.tight_layout()\n",
    "    plt.savefig(path, format=fig_extension, dpi=resolution)\n",
    "\n",
    "# Where to save general output (not figures)\n",
    "ROOT_OUTPUT = \"03_output\"\n",
    "TOPIC_TRAIN = \"01_training_set_evaluation\"\n",
    "TOPIC_TEST = \"02_test_set_evaluation\"\n",
    "TOPIC_EVAL_SCORES = \"01_eval_scores\"\n",
    "TOPIC_ERROR_TABLES = \"02_error_tables\"\n",
    "TOPIC_RUN_TIME = \"03_run_time_scores\"\n",
    "TOPIC_HYP_TUNING_PARAMS = \"04_hypertuning_best_params\"\n",
    "\n",
    "\n",
    "OUTPUT_PATH_TRAIN_EVAL_SCORES = os.path.join(ROOT_OUTPUT, TOPIC_TRAIN, TOPIC_EVAL_SCORES)\n",
    "os.makedirs(OUTPUT_PATH_TRAIN_EVAL_SCORES, exist_ok=True)\n",
    "\n",
    "OUTPUT_PATH_TRAIN_ERROR_TABELS = os.path.join(ROOT_OUTPUT, TOPIC_TRAIN, TOPIC_ERROR_TABLES)\n",
    "os.makedirs(OUTPUT_PATH_TRAIN_ERROR_TABELS, exist_ok=True)\n",
    "\n",
    "OUTPUT_PATH_TRAIN_RUN_TIME = os.path.join(ROOT_OUTPUT, TOPIC_TRAIN, TOPIC_RUN_TIME)\n",
    "os.makedirs(OUTPUT_PATH_TRAIN_RUN_TIME, exist_ok=True)\n",
    "\n",
    "OUTPUT_PATH_BEST_PARAMS = os.path.join(ROOT_OUTPUT, TOPIC_TRAIN, TOPIC_HYP_TUNING_PARAMS)\n",
    "os.makedirs(OUTPUT_PATH_BEST_PARAMS, exist_ok=True)\n",
    "\n",
    "OUTPUT_PATH_TEST_EVAL_SCORES = os.path.join(ROOT_OUTPUT, TOPIC_TEST, TOPIC_EVAL_SCORES)\n",
    "os.makedirs(OUTPUT_PATH_TEST_EVAL_SCORES, exist_ok=True)\n",
    "\n",
    "OUTPUT_PATH_TEST_ERROR_TABELS = os.path.join(ROOT_OUTPUT, TOPIC_TEST, TOPIC_ERROR_TABLES)\n",
    "os.makedirs(OUTPUT_PATH_TEST_ERROR_TABELS, exist_ok=True)\n",
    "\n",
    "OUTPUT_PATH_TEST_RUN_TIME = os.path.join(ROOT_OUTPUT, TOPIC_TEST, TOPIC_RUN_TIME)\n",
    "os.makedirs(OUTPUT_PATH_TEST_RUN_TIME, exist_ok=True)"
   ]
  },
  {
   "cell_type": "markdown",
   "id": "alone-arena",
   "metadata": {},
   "source": [
    "<a id='3_defining_functions'></a>\n",
    "<br>\n",
    "<br>\n",
    "<br>\n",
    "<br>\n",
    "<br>\n",
    "<br>\n",
    "<br>\n",
    "<br>\n",
    "<br>\n",
    "<br>\n",
    "<br>\n",
    "<br>\n",
    "\n",
    "## 3. Defining functions\n",
    "\n",
    "<br>\n",
    "This part defines all necessary functions used in the notebook"
   ]
  },
  {
   "cell_type": "markdown",
   "id": "civil-apartment",
   "metadata": {},
   "source": [
    "<a id='3_1_show_check_avail_pixels'></a>\n",
    "<br>\n",
    "<br>\n",
    "<br>\n",
    "<br>\n",
    "<br>\n",
    "<br>\n",
    "\n",
    "### 3.1. Showing and checking available pixel resolutions"
   ]
  },
  {
   "cell_type": "code",
   "execution_count": 4,
   "id": "awful-henry",
   "metadata": {
    "ExecuteTime": {
     "end_time": "2021-04-19T16:11:52.131566Z",
     "start_time": "2021-04-19T16:11:52.118503Z"
    },
    "init_cell": true
   },
   "outputs": [],
   "source": [
    "# Show available pixel resolutions\n",
    "def show_avail_pixels():    \n",
    "    # List all files in cleaned data folder\n",
    "    filenames = []\n",
    "    for root, dirs, files in os.walk(PATH_CLEANED_DATA):\n",
    "        for name in files:\n",
    "            filenames.append(os.path.join(root, name))\n",
    "    \n",
    "    # Separate filenames of dummy toy and full data set (and extacting available pixels)        \n",
    "    pixels_dummy_toy = []\n",
    "    pixels_full = []\n",
    "    for i in range(len(filenames)):\n",
    "        if \"dummy_toy\" in filenames[i]:\n",
    "            # Find pixel resolution in filenames\n",
    "            search_term = \"dummy_toy_\"\n",
    "            pos_start = filenames[i].find(search_term)\n",
    "            pos_end = filenames[i].find(\".\")\n",
    "            help_length = len(search_term) #To add on starting posting\n",
    "            pixel_string = filenames[i][pos_start+help_length:pos_end]\n",
    "            # Append pixel resolutions to list\n",
    "            pixels_dummy_toy.append(pixel_string)\n",
    "        elif \"full\" in filenames[i]:\n",
    "            # Find pixel resolution in filenames\n",
    "            search_term = \"full_\"\n",
    "            pos_start = filenames[i].find(search_term)\n",
    "            pos_end = filenames[i].find(\".\")\n",
    "            help_length = len(search_term) #To add on starting posting\n",
    "            pixel_string = filenames[i][pos_start+help_length:pos_end]\n",
    "            # Append pixel resolutions to list\n",
    "            pixels_full.append(pixel_string)\n",
    "        else:\n",
    "            raise ValueError(\"Check filenames! Neither 'dummy_toy' nor 'full' is in filename...\")\n",
    "    \n",
    "    # Transforming pixel resolution strings into integers and sorting\n",
    "    for itr in range(len(pixels_dummy_toy)):\n",
    "        pixels_dummy_toy[itr] = int(pixels_dummy_toy[itr])\n",
    "    pixels_dummy_toy.sort()\n",
    "    pixels_full = [int(i) for i in pixels_full]\n",
    "    pixels_full.sort()\n",
    "    \n",
    "    # Output depending on switch\n",
    "    if full_data_switch_on == True:\n",
    "        print(\"The following pixels are available for the full data set: \", pixels_full)\n",
    "        return pixels_full\n",
    "    elif full_data_switch_on == False:\n",
    "        print(\"The following pixels are available for the dummy toy data set: \", pixels_dummy_toy)\n",
    "        return pixels_dummy_toy\n",
    "    else:\n",
    "        raise ValueError(\"Full data switch not correctly defined: Binary value of True or False necessary\")"
   ]
  },
  {
   "cell_type": "code",
   "execution_count": 5,
   "id": "democratic-plaza",
   "metadata": {
    "ExecuteTime": {
     "end_time": "2021-04-19T16:11:52.138310Z",
     "start_time": "2021-04-19T16:11:52.134083Z"
    },
    "init_cell": true
   },
   "outputs": [],
   "source": [
    "# Define Check of pixel resolutions\n",
    "def check_pixels(list_of_pixels):\n",
    "    for pixel_res in list_of_pixels:\n",
    "        avail_pixels = show_avail_pixels()\n",
    "        if pixel_res in avail_pixels:\n",
    "            print(\"The specified pixel resolution {} is available!\".format(pixel_res))\n",
    "        else:\n",
    "            raise ValueError(\"The specified pixel resolution {} is not available! See available pixel resolutions above error message.\".format(pixel_res))"
   ]
  },
  {
   "cell_type": "markdown",
   "id": "domestic-ending",
   "metadata": {},
   "source": [
    "<a id='3_2_load_split_data'></a>\n",
    "<br>\n",
    "<br>\n",
    "<br>\n",
    "<br>\n",
    "<br>\n",
    "<br>\n",
    "\n",
    "### 3.2. Loading and splitting data according to chosen pixel resolution"
   ]
  },
  {
   "cell_type": "code",
   "execution_count": 6,
   "id": "traditional-runner",
   "metadata": {
    "ExecuteTime": {
     "end_time": "2021-04-19T16:11:52.151777Z",
     "start_time": "2021-04-19T16:11:52.140898Z"
    },
    "init_cell": true
   },
   "outputs": [],
   "source": [
    "# Definition of function to load corresponding pixel resolution file\n",
    "def load_data(pixel_res):\n",
    "    # Define datafile path\n",
    "    if full_data_switch_on == True:\n",
    "        DATAFILE_PATH = os.path.join(PATH_CLEANED_DATA + \"/pic_data_full_\" + str(pixel_res) + \".pkl\")\n",
    "    elif full_data_switch_on == False:\n",
    "        DATAFILE_PATH = os.path.join(PATH_CLEANED_DATA + \"/pic_data_dummy_toy_\" + str(pixel_res) + \".pkl\")\n",
    "    else:\n",
    "        raise ValueError(\"Full data switch not correctly defined: Binary value of True or False necessary\")\n",
    "    \n",
    "    # Load pickle file\n",
    "    pic_data = pickle.load(open(DATAFILE_PATH,\"rb\"))\n",
    "    print(\">... Pickle datafile successfully loaded: \", DATAFILE_PATH)\n",
    "    \n",
    "    # Copying dictionary data into separate data frames\n",
    "    rgb_data, labels, pic_ids = pic_data[\"rgb_data\"], pic_data[\"labels\"], pic_data[\"pic_ids\"]\n",
    "    print(\">... Pickle dictionary sucessfully separated into individuals arrays\")\n",
    "    \n",
    "    # Split into test and training data set\n",
    "    from sklearn.model_selection import train_test_split\n",
    "    rgb_data_train, rgb_data_test, labels_train, labels_test, pic_ids_train, pic_ids_test = train_test_split(rgb_data, labels, pic_ids, test_size=0.10, random_state=42)\n",
    "    print(\">... Data sucessfully split into test and train data\")\n",
    "    \n",
    "    # redefining labels as True False\n",
    "    labels_train_tf = (labels_train == 1)\n",
    "    labels_test_tf = (labels_test == 1)\n",
    "    \n",
    "    return rgb_data_train, rgb_data_test, labels_train_tf, labels_test_tf, pic_ids_train, pic_ids_test\n",
    "    "
   ]
  },
  {
   "cell_type": "markdown",
   "id": "naked-immigration",
   "metadata": {},
   "source": [
    "<a id='3_3_train_clasf'></a>\n",
    "<br>\n",
    "<br>\n",
    "<br>\n",
    "<br>\n",
    "<br>\n",
    "<br>\n",
    "\n",
    "### 3.3. Training classifier"
   ]
  },
  {
   "cell_type": "code",
   "execution_count": 7,
   "id": "present-illustration",
   "metadata": {
    "ExecuteTime": {
     "end_time": "2021-04-19T16:11:52.163984Z",
     "start_time": "2021-04-19T16:11:52.155283Z"
    },
    "init_cell": true
   },
   "outputs": [],
   "source": [
    "# Definition of function that trains classifier on specified data set\n",
    "def train_clasf(classifier_x, rgb_train, labels_train, pixel_res, switch_case):\n",
    "    \n",
    "    # Defining save path depening on hyperparameter \"switch_case\"\n",
    "    if \"train\" in switch_case:\n",
    "        SAVE_PATH_EVAL_SCORES=OUTPUT_PATH_TRAIN_EVAL_SCORES\n",
    "        SAVE_PATH_ERROR_TABLES=OUTPUT_PATH_TRAIN_ERROR_TABELS\n",
    "        SAVE_PATH_RUN_TIME=OUTPUT_PATH_TRAIN_RUN_TIME\n",
    "    elif \"test\" in switch_case:\n",
    "        SAVE_PATH_EVAL_SCORES=OUTPUT_PATH_TEST_EVAL_SCORES\n",
    "        SAVE_PATH_ERROR_TABLES=OUTPUT_PATH_TEST_ERROR_TABELS\n",
    "        SAVE_PATH_RUN_TIME=OUTPUT_PATH_TEST_RUN_TIME\n",
    "    else:\n",
    "        raise ValueError(\"Check hyper-parameter 'switch_case'. Must be one of: \\n'train_baseline', 'train_accuracy_tuned', 'train_speed_tuned' \\n'test_baseline', 'test_accuracy_tuned', 'test_speed_tuned'\")\n",
    "        \n",
    "    # Set classifier name\n",
    "    classifier_name = classifier_x.__class__.__name__\n",
    "       \n",
    "    #Train model\n",
    "    print(\">... Starting training of\", classifier_name)\n",
    "    start_time = timeit.default_timer()\n",
    "    classifier_x.fit(rgb_train, labels_train)\n",
    "    time_elapsed = timeit.default_timer() - start_time\n",
    "    \n",
    "    # Store run-time info\n",
    "    run_time_info = {}\n",
    "    run_time_info[str(pixel_res)] = round(time_elapsed, 3)\n",
    "    if full_data_switch_on == True:\n",
    "        FILE_PATH = os.path.join(SAVE_PATH_RUN_TIME + \"/run_time_training_classifier_\"+str(switch_case)+\"_full_\"+str(classifier_name)+\"_\"+str(pixel_res)+\".pkl\")\n",
    "    elif full_data_switch_on == False:\n",
    "        FILE_PATH = os.path.join(SAVE_PATH_RUN_TIME + \"/run_time_training_classifier_\"+str(switch_case)+\"_dummy_toy_\"+str(classifier_name)+\"_\"+str(pixel_res)+\".pkl\")\n",
    "    else:\n",
    "        raise ValueError(\"Full data switch not correctly defined: Binary value of True or False necessary\")\n",
    "    \n",
    "    file = open(FILE_PATH,\"wb\")\n",
    "    pickle.dump(run_time_info, file)\n",
    "    file.close()\n",
    "    print(\"Successfully stored in: {}\".format(FILE_PATH))\n",
    "    print(\">... Classifier {} sucessfully trained in {} seconds.\".format(classifier_name, round(time_elapsed,3)))\n"
   ]
  },
  {
   "cell_type": "markdown",
   "id": "spare-oxide",
   "metadata": {},
   "source": [
    "<a id='3_4_eval_clasf'></a>\n",
    "<br>\n",
    "<br>\n",
    "<br>\n",
    "<br>\n",
    "<br>\n",
    "<br>\n",
    "\n",
    "### 3.4. Evaluating classifier"
   ]
  },
  {
   "cell_type": "code",
   "execution_count": 8,
   "id": "collaborative-ensemble",
   "metadata": {
    "ExecuteTime": {
     "end_time": "2021-04-19T16:11:52.187939Z",
     "start_time": "2021-04-19T16:11:52.169527Z"
    },
    "code_folding": [],
    "init_cell": true
   },
   "outputs": [],
   "source": [
    "# Define Evaluation function\n",
    "def eval_clasf(classifier_x, rgb_data, labels, pic_ids, pixel_res, switch_case):\n",
    "    # Defining save path depening on hyperparameter \"switch_case\"\n",
    "    if \"train\" in switch_case:\n",
    "        SAVE_PATH_EVAL_SCORES=OUTPUT_PATH_TRAIN_EVAL_SCORES\n",
    "        SAVE_PATH_ERROR_TABLES=OUTPUT_PATH_TRAIN_ERROR_TABELS\n",
    "        SAVE_PATH_RUN_TIME=OUTPUT_PATH_TRAIN_RUN_TIME\n",
    "    elif \"test\" in switch_case:\n",
    "        SAVE_PATH_EVAL_SCORES=OUTPUT_PATH_TEST_EVAL_SCORES\n",
    "        SAVE_PATH_ERROR_TABLES=OUTPUT_PATH_TEST_ERROR_TABELS\n",
    "        SAVE_PATH_RUN_TIME=OUTPUT_PATH_TEST_RUN_TIME\n",
    "    else:\n",
    "        raise ValueError(\"Check hyper-parameter 'switch_case'. Must be one of: \\n'train_baseline', 'train_accuracy_tuned', 'train_speed_tuned' \\n'test_baseline', 'test_accuracy_tuned', 'test_speed_tuned'\")\n",
    "\n",
    "    \n",
    "    # Import metrics and validation methods\n",
    "    from sklearn.model_selection import cross_val_score, cross_val_predict\n",
    "    from sklearn.metrics import confusion_matrix, precision_score, recall_score, plot_confusion_matrix, precision_recall_curve\n",
    "    import matplotlib.pyplot as plt \n",
    "    \n",
    "    # Set classifier name\n",
    "    classifier_name = classifier_x.__class__.__name__\n",
    "       \n",
    "    #Train model\n",
    "    print(\">... Starting evaluation of\", classifier_name)\n",
    "    start_time = timeit.default_timer()\n",
    "    \n",
    "    # Evaluate classifier\n",
    "    print(\">... Starting cross validation of\", classifier_name)\n",
    "    pred=cross_val_predict(classifier_x, rgb_data, labels, cv = 3) # cross value prediction with 3 folds\n",
    "    \n",
    "    \n",
    "    # Store evaluation metrics\n",
    "    print(\">... Calculating evaluation scores of\", classifier_name)\n",
    "    # Running cross validation score\n",
    "    cvs = cross_val_score(classifier_x, rgb_data, labels, cv=3, scoring=\"accuracy\").round(3)\n",
    "    # Initialize eval dictionary and store values\n",
    "    evaluation_scores = {}\n",
    "    evaluation_scores[\"Precision Score\"] = precision_score(labels, pred).round(3)\n",
    "    evaluation_scores[\"Recall Score\"] = recall_score(labels, pred).round(3)\n",
    "    evaluation_scores[\"Confusion matrix\"] = confusion_matrix(labels, pred)\n",
    "    evaluation_scores[\"Cross Validation Accuracy Scores\"] = cvs\n",
    "    evaluation_scores[\"Cross Validation Accuracy Score Mean\"] = cvs.mean().round(3)\n",
    "    evaluation_scores[\"Cross Validation Accuracy Score Std\"] = cvs.std().round(5)\n",
    "  \n",
    "    \n",
    "    # Data for Precision recall curve //RandomForestClassifier //DecisionTreeClassifier\n",
    "    if classifier_name ==  'SGDClassifier':\n",
    "        print(\">... Calculating precision, recalls and thresholds of\", classifier_name)\n",
    "        decision_scores = cross_val_predict(classifier_x, rgb_data, labels, cv = 3, method=\"decision_function\")\n",
    "        precisions, recalls, thresholds = precision_recall_curve(labels,decision_scores)\n",
    "        #storing precision reacall and treshold values in eval directory\n",
    "        evaluation_scores[\"Precisions\"] = precisions\n",
    "        evaluation_scores[\"Recalls\"] = recalls\n",
    "        evaluation_scores[\"Thresholds\"] = thresholds\n",
    "    elif classifier_name == 'LinearSVC':\n",
    "        print(\">... Calculating precision, recalls and thresholds of\", classifier_name)\n",
    "        decision_scores = cross_val_predict(classifier_x, rgb_data, labels, cv = 3, method=\"decision_function\")\n",
    "        precisions, recalls, thresholds = precision_recall_curve(labels,decision_scores)\n",
    "        #storing precision reacall and treshold values in eval directory\n",
    "        evaluation_scores[\"Precisions\"] = precisions\n",
    "        evaluation_scores[\"Recalls\"] = recalls\n",
    "        evaluation_scores[\"Thresholds\"] = thresholds\n",
    "    else:\n",
    "        print (\">... Precision-recall-curve not applicable for this classifier\")\n",
    "    \n",
    "    # Stop timer:\n",
    "    time_elapsed = timeit.default_timer() - start_time\n",
    "    evaluation_scores[\"Evaluation run-time in seconds\"] = round(time_elapsed, 3)\n",
    "    \n",
    "    # Storing evaluations scores into pickle file to access them later\n",
    "    if full_data_switch_on == True: \n",
    "        EVAL_FILE_PATH = os.path.join(SAVE_PATH_EVAL_SCORES + \"/evaluation_scores_\" + str(switch_case) + \"_full_\" + str(classifier_name) + \"_\" + str(pixel_res) + \".pkl\")\n",
    "    elif full_data_switch_on == False:\n",
    "        EVAL_FILE_PATH = os.path.join(SAVE_PATH_EVAL_SCORES + \"/evaluation_scores_\" + str(switch_case) + \"_dummy_toy_\" + str(classifier_name) + \"_\" + str(pixel_res) + \".pkl\")\n",
    "    else:\n",
    "        raise ValueError(\"Full data switch not correctly defined: Binary value of True or False necessary\")\n",
    "    file = open(EVAL_FILE_PATH,\"wb\")\n",
    "    pickle.dump(evaluation_scores, file)\n",
    "    file.close()\n",
    "    print(\">... Evaluation scores successfully stored in: {}\".format(EVAL_FILE_PATH))\n",
    "    \n",
    "    \n",
    "    # Create output array with error-types and pic ids\n",
    "    # Combine pics ids, labels and predicted values\n",
    "    print(\">... Starting to create output array with error-types for more transparency for classifier {}.\".format(classifier_name))\n",
    "    output_dict = {}\n",
    "    output_array = np.c_[pic_ids, labels, pred]\n",
    "    \n",
    "    # Create error array with specific error type\n",
    "    err_type_arr = np.array([])\n",
    "    for i in range(len(output_array)):\n",
    "        if output_array[i,1] == \"True\" and output_array[i,2] == \"False\":\n",
    "            err_type_arr = np.append(err_type_arr, \"False negative\")\n",
    "        elif output_array[i,1] == \"False\" and output_array[i,2] == \"True\":\n",
    "            err_type_arr = np.append(err_type_arr, \"False positive\")\n",
    "        else:\n",
    "            err_type_arr = np.append(err_type_arr, \"No error\")\n",
    "    \n",
    "    # Combine error into and output array into pandas data frame\n",
    "    error_table_pd = pd.DataFrame(output_array)\n",
    "    error_table_pd.rename(columns = {0:'Filename picture ID', 1:\"Label\", 2:\"Predicted\"}, inplace = True)\n",
    "    error_table_pd[\"Error Type\"] = err_type_arr\n",
    "    \n",
    "    # Saving all in dictionary\n",
    "    output_dict[\"error_table\"] = error_table_pd\n",
    "    \n",
    "    # Saving dictionary of error table\n",
    "    if full_data_switch_on == True: \n",
    "        ERROR_TABLE_FILE_PATH = os.path.join(SAVE_PATH_ERROR_TABLES + \"/error_table_pd_\" + str(switch_case) + \"_full_\" + str(classifier_name) + \"_\" + str(pixel_res) + \".pkl\")\n",
    "    elif full_data_switch_on == False:\n",
    "        ERROR_TABLE_FILE_PATH = os.path.join(SAVE_PATH_ERROR_TABLES + \"/error_table_pd_\" + str(switch_case) + \"_dummy_toy_\" + str(classifier_name) + \"_\" + str(pixel_res) + \".pkl\")\n",
    "    else:\n",
    "        raise ValueError(\"Full data switch not correctly defined: Binary value of True or False necessary\")\n",
    "    file = open(ERROR_TABLE_FILE_PATH,\"wb\")\n",
    "    pickle.dump(output_dict, file)\n",
    "    file.close()\n",
    "    print(\">... Error table dictionary successfully stored in: {}\".format(ERROR_TABLE_FILE_PATH))\n",
    "    \n",
    "    \n",
    "    # Output message\n",
    "    print(\">... Evaluation of classifier {} sucessfully finished in {} seconds.\".format(classifier_name, round(time_elapsed,2)))\n"
   ]
  },
  {
   "cell_type": "markdown",
   "id": "formal-arkansas",
   "metadata": {},
   "source": [
    "<a id='3_5_show_evals'></a>\n",
    "<br>\n",
    "<br>\n",
    "<br>\n",
    "<br>\n",
    "<br>\n",
    "<br>\n",
    "\n",
    "### 3.5. Showing evaluations"
   ]
  },
  {
   "cell_type": "code",
   "execution_count": 9,
   "id": "superb-concert",
   "metadata": {
    "ExecuteTime": {
     "end_time": "2021-04-19T16:11:52.223145Z",
     "start_time": "2021-04-19T16:11:52.192334Z"
    },
    "init_cell": true
   },
   "outputs": [],
   "source": [
    "# Defining function that shows and stores all showable outputs\n",
    "def show_evals(pixel_res, switch_case, error_table=False, conf_matrix=False, eval_metrics=False, prec_recall_plot_switch=False):\n",
    "\n",
    "    # Defining save path depening on hyperparameter \"switch_case\"\n",
    "    if \"train\" in switch_case:\n",
    "        SAVE_PATH_EVAL_SCORES=OUTPUT_PATH_TRAIN_EVAL_SCORES\n",
    "        SAVE_PATH_ERROR_TABLES=OUTPUT_PATH_TRAIN_ERROR_TABELS\n",
    "        SAVE_PATH_RUN_TIME=OUTPUT_PATH_TRAIN_RUN_TIME\n",
    "    elif \"test\" in switch_case:\n",
    "        SAVE_PATH_EVAL_SCORES=OUTPUT_PATH_TEST_EVAL_SCORES\n",
    "        SAVE_PATH_ERROR_TABLES=OUTPUT_PATH_TEST_ERROR_TABELS\n",
    "        SAVE_PATH_RUN_TIME=OUTPUT_PATH_TEST_RUN_TIME\n",
    "    else:\n",
    "        raise ValueError(\"Check hyper-parameter 'switch_case'. Must be one of: \\n'train_baseline', 'train_accuracy_tuned', 'train_speed_tuned' \\n'test_baseline', 'test_accuracy_tuned', 'test_speed_tuned'\")\n",
    "    \n",
    "    # Defining string depending on full data switch for searching correct files\n",
    "    if full_data_switch_on == True:\n",
    "        switch_data = \"_full_\"\n",
    "    elif full_data_switch_on == False:\n",
    "        switch_data = \"_dummy_toy_\"\n",
    "    else:\n",
    "        raise ValueError(\"Full data switch not correctly defined: Binary value of True or False necessary\")\n",
    "    \n",
    "    \n",
    "    \n",
    "    \n",
    "    \n",
    "    ###### Error Table ######\n",
    "    if error_table == True:\n",
    "        # List all files of error table folder\n",
    "        filenames_error_table = []\n",
    "        for root, dirs, files in os.walk(SAVE_PATH_ERROR_TABLES):\n",
    "            for name in files:\n",
    "                filenames_error_table.append(os.path.join(root, name))\n",
    "        \n",
    "        # Select all filenames corresponding to pixel size\n",
    "        filenames_error_table_pix = []\n",
    "        for i in range(len(filenames_error_table)):\n",
    "            if str(pixel_res) in filenames_error_table[i] and switch_case in filenames_error_table[i] and switch_data in filenames_error_table[i]:\n",
    "                filenames_error_table_pix.append(filenames_error_table[i])\n",
    "        \n",
    "        # Display error table\n",
    "        for i in range(len(filenames_error_table_pix)):\n",
    "            # Extract classifier name from filename\n",
    "            if \"dummy_toy\" in filenames_error_table_pix[i]:\n",
    "                # Find starting and end position of classifier name in filenames\n",
    "                search_term_start = \"error_table_pd_\" + str(switch_case) + \"_dummy_toy_\"\n",
    "                search_term_end = \"_\" + str(pixel_res)\n",
    "                pos_start = filenames_error_table_pix[i].find(search_term_start)\n",
    "                pos_end = filenames_error_table_pix[i].find(search_term_end)\n",
    "                help_length = len(search_term_start)\n",
    "                classifier_name = filenames_error_table_pix[i][pos_start+help_length:pos_end]\n",
    "            elif \"full\" in filenames_error_table_pix[i]:\n",
    "                # Find starting and end position of classifier name in filenames\n",
    "                search_term_start = \"error_table_pd_\" + str(switch_case) + \"_full_\"\n",
    "                search_term_end = \"_\" + str(pixel_res)\n",
    "                pos_start = filenames_error_table_pix[i].find(search_term_start)\n",
    "                pos_end = filenames_error_table_pix[i].find(search_term_end)\n",
    "                help_length = len(search_term_start)\n",
    "                classifier_name = filenames_error_table_pix[i][pos_start+help_length:pos_end]\n",
    "            else:\n",
    "                raise ValueError(\"Check filenames! Neither 'dummy_toy' nor 'full' is in filename...\")\n",
    "            \n",
    "            # Load pickle-file and display pandas data frame filtered to error types\n",
    "            dict_error_table = pickle.load(open(filenames_error_table_pix[i],\"rb\"))\n",
    "            print(\">... Error table pickle file successfully loaded for {}, pixel resolution {}, and switch_case: {}\".format(classifier_name, pixel_res, switch_case))\n",
    "            error_table_pd = dict_error_table[\"error_table\"]\n",
    "            filter_options = [\"False positive\", \"False negative\"]\n",
    "            print(\">... Print error table for switch case {}, for pixel resolution {} of {}\\n\\n\".format(switch_case, pixel_res, classifier_name))\n",
    "            print(error_table_pd.loc[error_table_pd[\"Error Type\"].isin(filter_options)].sort_values(by=[\"Label\", \"Filename picture ID\"]))\n",
    "            print(\"\\n\\n\")\n",
    "    \n",
    "    elif error_table == False:\n",
    "        print(\"Error Table not selected by user.\")\n",
    "    else:\n",
    "        raise ValueError(\"Check parameter 'error_table': Has to be binary True or False\")\n",
    "\n",
    "        \n",
    "    ###### Confusion Matrix ######\n",
    "    if conf_matrix == True:\n",
    "        # List all files of eval dictionary folder\n",
    "        filenames_eval_dics = []\n",
    "        for root, dirs, files in os.walk(SAVE_PATH_EVAL_SCORES):\n",
    "            for name in files:\n",
    "                filenames_eval_dics.append(os.path.join(root, name))\n",
    "\n",
    "        # Select all filenames corresponding to pixel size\n",
    "        filenames_eval_dics_pix = []\n",
    "        for i in range(len(filenames_eval_dics)):\n",
    "            if str(pixel_res) in filenames_eval_dics[i] and switch_case in filenames_eval_dics[i] and switch_data in filenames_eval_dics[i]:\n",
    "                filenames_eval_dics_pix.append(filenames_eval_dics[i])\n",
    "                \n",
    "        # Display confusion matrix\n",
    "        for i in range(len(filenames_eval_dics_pix)):\n",
    "            # Extract classifier name from filename\n",
    "            if \"dummy_toy\" in filenames_eval_dics_pix[i]:\n",
    "                # Find starting and end position of classifier name in filenames\n",
    "                search_term_start = \"evaluation_scores_\" + str(switch_case) + \"_dummy_toy_\"\n",
    "                search_term_end = \"_\" + str(pixel_res)\n",
    "                pos_start = filenames_eval_dics_pix[i].find(search_term_start)\n",
    "                pos_end = filenames_eval_dics_pix[i].find(search_term_end)\n",
    "                help_length = len(search_term_start)\n",
    "                classifier_name = filenames_eval_dics_pix[i][pos_start+help_length:pos_end]\n",
    "            elif \"full\" in filenames_eval_dics_pix[i]:\n",
    "                # Find starting and end position of classifier name in filenames\n",
    "                search_term_start = \"evaluation_scores_\" + str(switch_case) + \"_full_\"\n",
    "                search_term_end = \"_\" + str(pixel_res)\n",
    "                pos_start = filenames_eval_dics_pix[i].find(search_term_start)\n",
    "                pos_end = filenames_eval_dics_pix[i].find(search_term_end)\n",
    "                help_length = len(search_term_start)\n",
    "                classifier_name = filenames_eval_dics_pix[i][pos_start+help_length:pos_end]\n",
    "            else:\n",
    "                raise ValueError(\"Check filenames! Neither 'dummy_toy' nor 'full' is in filename...\")\n",
    "                \n",
    "                \n",
    "                \n",
    "            # Load pikle-file and display pandas data frame filtered to error types\n",
    "            dict_eval_metrics = pickle.load(open(filenames_eval_dics_pix[i],\"rb\"))\n",
    "            print(\">... Eval metrics pickle file successfully loaded for {}, pixel resolution {} and switch case {}\".format(classifier_name, pixel_res, switch_case))\n",
    "            # Extract confusion matrix data into data frame\n",
    "            cm_data = dict_eval_metrics[\"Confusion matrix\"]\n",
    "            plot_matrix = pd.DataFrame(cm_data, columns = [\"classified as no mask\", \"classified as mask\"],\n",
    "                                index = [\"no mask\", \"mask\"])\n",
    "            \n",
    "            # Actual plot with seaborn and saving figure with different file names depending on switch\n",
    "            print(\">... Displaying confusion matrix for switch case {}, of {} with pixel resolution {}\".format(switch_case, classifier_name, pixel_res))\n",
    "\n",
    "            plt.figure(figsize = (5,5))\n",
    "            colormap = sns.color_palette(\"Reds\")\n",
    "            ax = plt.axes()\n",
    "            sns.heatmap(plot_matrix, ax = ax, annot = True, fmt='d', annot_kws={\"size\": 20}, cmap=colormap, cbar=False)\n",
    "            ax.set_title(classifier_name, fontsize= 15)\n",
    "            if full_data_switch_on ==  False:\n",
    "                save_fig(\"Confusion_Matrix_{}_dummy_toy_{}_{}\".format(switch_case, classifier_name, pixel_res), SAVE_PATH=CM_IMAGES_PATH)\n",
    "            elif \"full\" in filenames_eval_dics_pix[i]:\n",
    "                save_fig(\"Confusion_Matrix_{}_full_{}_{}\".format(switch_case, classifier_name, pixel_res), SAVE_PATH=CM_IMAGES_PATH)\n",
    "\n",
    "            else:\n",
    "                raise ValueError(\"Check filenames! Neither 'dummy_toy' nor 'full' is in filename...\")\n",
    "            plt.show()\n",
    "                \n",
    "    elif conf_matrix == False:\n",
    "        print(\"Confusion matrix not selected by user.\")\n",
    "    else:\n",
    "        raise ValueError(\"Check parameter 'conf_matrix': Has to be binary True or False\")           \n",
    "    \n",
    "    \n",
    "   \n",
    "   \n",
    "\n",
    "    ###### Eval Metrics ######\n",
    "    if eval_metrics == True:\n",
    "        # List all files of eval dictionary folder\n",
    "        filenames_eval_dics = []\n",
    "        for root, dirs, files in os.walk(SAVE_PATH_EVAL_SCORES):\n",
    "            for name in files:\n",
    "                filenames_eval_dics.append(os.path.join(root, name))\n",
    "\n",
    "        # Select all filenames corresponding to pixel size\n",
    "        filenames_eval_dics_pix = []\n",
    "        for i in range(len(filenames_eval_dics)):\n",
    "            if str(pixel_res) in filenames_eval_dics[i] and switch_case in filenames_eval_dics[i] and switch_data in filenames_eval_dics[i]:\n",
    "                filenames_eval_dics_pix.append(filenames_eval_dics[i])\n",
    "                \n",
    "        if \"train\" in switch_case:\n",
    "            eval_metrics = {}\n",
    "            for i in range(len(filenames_eval_dics_pix)):\n",
    "                # Extract classifier name from filename\n",
    "                if \"dummy_toy\" in filenames_eval_dics_pix[i]:\n",
    "                    # Find starting and end position of classifier name in filenames\n",
    "                    search_term_start = \"evaluation_scores_\" + str(switch_case) + \"_dummy_toy_\"\n",
    "                    search_term_end = \"_\" + str(pixel_res)\n",
    "                    pos_start = filenames_eval_dics_pix[i].find(search_term_start)\n",
    "                    pos_end = filenames_eval_dics_pix[i].find(search_term_end)\n",
    "                    help_length = len(search_term_start)\n",
    "                    classifier_name = filenames_eval_dics_pix[i][pos_start+help_length:pos_end]\n",
    "                elif \"full\" in filenames_eval_dics_pix[i]:\n",
    "                    # Find starting and end position of classifier name in filenames\n",
    "                    search_term_start = \"evaluation_scores_\" + str(switch_case) + \"_full_\"\n",
    "                    search_term_end = \"_\" + str(pixel_res)\n",
    "                    pos_start = filenames_eval_dics_pix[i].find(search_term_start)\n",
    "                    pos_end = filenames_eval_dics_pix[i].find(search_term_end)\n",
    "                    help_length = len(search_term_start)\n",
    "                    classifier_name = filenames_eval_dics_pix[i][pos_start+help_length:pos_end]\n",
    "                else:\n",
    "                    raise ValueError(\"Check filenames! Neither 'dummy_toy' nor 'full' is in filename...\")\n",
    "\n",
    "\n",
    "                # Load pikle-file and display pandas data frame filtered to error types\n",
    "                dict_eval_metrics = pickle.load(open(filenames_eval_dics_pix[i],\"rb\"))\n",
    "                print(\">... Eval metrics pickle file successfully loaded for {}, pixel resolution {} and switch case {}\".format(classifier_name, pixel_res, switch_case))\n",
    "                # Extract eval metrics into data frame\n",
    "                precision_score = dict_eval_metrics[\"Precision Score\"]\n",
    "                recall_score = dict_eval_metrics[\"Recall Score\"]\n",
    "                cv_acc_scores = dict_eval_metrics[\"Cross Validation Accuracy Scores\"]\n",
    "                cv_acc_scores_mean = dict_eval_metrics[\"Cross Validation Accuracy Score Mean\"]\n",
    "                cv_acc_scores_std = dict_eval_metrics[\"Cross Validation Accuracy Score Std\"]\n",
    "                eval_run_time = dict_eval_metrics[\"Evaluation run-time in seconds\"]\n",
    "\n",
    "                #Storing in eval_metrics library\n",
    "                eval_metrics[classifier_name] = [precision_score,\n",
    "                                                 recall_score,\n",
    "                                                 cv_acc_scores,\n",
    "                                                 cv_acc_scores_mean,\n",
    "                                                 cv_acc_scores_std,\n",
    "                                                 eval_run_time]\n",
    "\n",
    "            # Output table of metrics\n",
    "            print(\">... Display eval metrics table for pixel resolution {} and switch case {}\\n\\n\".format(pixel_res, switch_case))\n",
    "            index = [\"precision score\", \"recall score\", \"cross validation scores\", \"cross validation mean\", \"cross validation std\", \"eval run time in seconds\"]\n",
    "            table_eval_metrics = pd.DataFrame(eval_metrics, index)\n",
    "            print(table_eval_metrics, \"\\n\\n\")\n",
    "            \n",
    "            \n",
    "        elif \"test\" in switch_case:\n",
    "            eval_metrics = {}\n",
    "            for i in range(len(filenames_eval_dics_pix)):\n",
    "                # Extract classifier name from filename\n",
    "                if \"dummy_toy\" in filenames_eval_dics_pix[i]:\n",
    "                    # Find starting and end position of classifier name in filenames\n",
    "                    search_term_start = \"evaluation_scores_\" + str(switch_case) + \"_dummy_toy_\"\n",
    "                    search_term_end = \"_\" + str(pixel_res)\n",
    "                    pos_start = filenames_eval_dics_pix[i].find(search_term_start)\n",
    "                    pos_end = filenames_eval_dics_pix[i].find(search_term_end)\n",
    "                    help_length = len(search_term_start)\n",
    "                    classifier_name = filenames_eval_dics_pix[i][pos_start+help_length:pos_end]\n",
    "                elif \"full\" in filenames_eval_dics_pix[i]:\n",
    "                    # Find starting and end position of classifier name in filenames\n",
    "                    search_term_start = \"evaluation_scores_\" + str(switch_case) + \"_full_\"\n",
    "                    search_term_end = \"_\" + str(pixel_res)\n",
    "                    pos_start = filenames_eval_dics_pix[i].find(search_term_start)\n",
    "                    pos_end = filenames_eval_dics_pix[i].find(search_term_end)\n",
    "                    help_length = len(search_term_start)\n",
    "                    classifier_name = filenames_eval_dics_pix[i][pos_start+help_length:pos_end]\n",
    "                else:\n",
    "                    raise ValueError(\"Check filenames! Neither 'dummy_toy' nor 'full' is in filename...\")\n",
    "\n",
    "\n",
    "                # Load pikle-file and display pandas data frame filtered to error types\n",
    "                dict_eval_metrics = pickle.load(open(filenames_eval_dics_pix[i],\"rb\"))\n",
    "                print(\">... Eval metrics pickle file successfully loaded for {} and pixel resolution {}\".format(classifier_name, pix_res))\n",
    "                # Extract eval metrics into data frame\n",
    "                precision_score = dict_eval_metrics[\"Precision Score\"]\n",
    "                recall_score = dict_eval_metrics[\"Recall Score\"]\n",
    "                accuracy_score = dict_eval_metrics[\"Accuracy Score\"]\n",
    "                eval_run_time = dict_eval_metrics[\"Prediction time in seconds\"]\n",
    "\n",
    "                #Storing in eval_metrics library\n",
    "                eval_metrics[classifier_name] = [precision_score,\n",
    "                                                 recall_score,\n",
    "                                                 accuracy_score,\n",
    "                                                 eval_run_time]\n",
    "\n",
    "            # Output table of metrics\n",
    "            print(\">... Display eval metrics table for pixel resolution {} and switch case {}\\n\\n\".format(pixel_res, switch_case))\n",
    "            index = [\"precision score\", \"recall score\", \"accuracy_score\", \"prediction time in seconds\"]\n",
    "            table_eval_metrics = pd.DataFrame(eval_metrics, index)\n",
    "            print(table_eval_metrics, \"\\n\\n\")\n",
    "        \n",
    "        \n",
    "        else:\n",
    "            raise ValueError(\"Check hyper-parameter 'switch_case'. Must be one of: \\n'train_baseline', 'train_accuracy_tuned', 'train_speed_tuned' \\n'test_baseline', 'test_accuracy_tuned', 'test_speed_tuned'\")\n",
    "\n",
    "\n",
    "        \n",
    "    \n",
    "    elif eval_metrics == False:\n",
    "        print(\"Eval metrics not selected by user.\")\n",
    "    else:\n",
    "        raise ValueError(\"Check parameter 'eval_metrics': Has to be binary True or False\")  \n",
    "        \n",
    "        \n",
    "    ###### Precision Recall Plots ######\n",
    "    if prec_recall_plot_switch == True:\n",
    "        # List all files of eval dictionary folder\n",
    "        filenames_eval_dics = []\n",
    "        for root, dirs, files in os.walk(SAVE_PATH_EVAL_SCORES):\n",
    "            for name in files:\n",
    "                filenames_eval_dics.append(os.path.join(root, name))\n",
    "\n",
    "        # Select all filenames corresponding to pixel size\n",
    "        filenames_eval_dics_pix = []\n",
    "        for i in range(len(filenames_eval_dics)):\n",
    "            if str(pixel_res) in filenames_eval_dics[i] and switch_case in filenames_eval_dics[i] and switch_data in filenames_eval_dics[i]:\n",
    "                filenames_eval_dics_pix.append(filenames_eval_dics[i])\n",
    "                \n",
    "        for i in range(len(filenames_eval_dics_pix)):\n",
    "            # Extract classifier name from filename\n",
    "            if \"dummy_toy\" in filenames_eval_dics_pix[i]:\n",
    "                # Find starting and end position of classifier name in filenames\n",
    "                search_term_start = \"evaluation_scores_\" + str(switch_case) + \"_dummy_toy_\"\n",
    "                search_term_end = \"_\" + str(pixel_res)\n",
    "                pos_start = filenames_eval_dics_pix[i].find(search_term_start)\n",
    "                pos_end = filenames_eval_dics_pix[i].find(search_term_end)\n",
    "                help_length = len(search_term_start)\n",
    "                classifier_name = filenames_eval_dics_pix[i][pos_start+help_length:pos_end]\n",
    "            elif \"full\" in filenames_eval_dics_pix[i]:\n",
    "                # Find starting and end position of classifier name in filenames\n",
    "                search_term_start = \"evaluation_scores_\" + str(switch_case) + \"_full_\"\n",
    "                search_term_end = \"_\" + str(pixel_res)\n",
    "                pos_start = filenames_eval_dics_pix[i].find(search_term_start)\n",
    "                pos_end = filenames_eval_dics_pix[i].find(search_term_end)\n",
    "                help_length = len(search_term_start)\n",
    "                classifier_name = filenames_eval_dics_pix[i][pos_start+help_length:pos_end]\n",
    "            else:\n",
    "                raise ValueError(\"Check filenames! Neither 'dummy_toy' nor 'full' is in filename...\")\n",
    "            \n",
    "            if classifier_name == \"SGDClassifier\":\n",
    "                # Load pikle-file and display pandas data frame filtered to error types\n",
    "                dict_eval_metrics = pickle.load(open(filenames_eval_dics_pix[i],\"rb\"))\n",
    "                print(\">... Eval metrics pickle file successfully loaded for {}, pixel resolution {} and switch case {}\".format(classifier_name, pixel_res, switch_case))\n",
    "                # Extract eval metrics into data frame\n",
    "                print(\">... Extracting Metrics into Dataframe of classifier {}\".format(classifier_name))\n",
    "                precisions = dict_eval_metrics[\"Precisions\"]\n",
    "                recalls = dict_eval_metrics[\"Recalls\"]\n",
    "                thresholds = dict_eval_metrics[\"Thresholds\"]\n",
    "                \n",
    "                # Printing of Precision recall plot\n",
    "                print(\">... Plot precision-recall curve for {}, pixel resolution {} and switch case {}\".format(classifier_name, pixel_res, switch_case))\n",
    "                plt.figure(figsize=(8,4))\n",
    "                plt.plot(thresholds, precisions[:-1],\"b--\",label = \"Precision\", linewidth=2)\n",
    "                plt.plot(thresholds, recalls[:-1], \"g--\",label = \"Recall\", linewidth=2)\n",
    "                plt.xlabel(\"Threshold\", fontsize = 16)\n",
    "                plt.legend(loc=\"lower left\", fontsize = 16)\n",
    "                plt.ylim([0,1])\n",
    "                if \"dummy_toy\" in filenames_eval_dics_pix[i]:\n",
    "                    save_fig(\"Precision_Recall_Plot_{}_dummy_toy_{}_{}\".format(switch_case, classifier_name, pixel_res), SAVE_PATH=PRP_IMAGES_PATH)\n",
    "                elif \"full\" in filenames_eval_dics_pix[i]:\n",
    "                    save_fig(\"Precision_Recall_Plot_{}_full_{}_{}\".format(switch_case, classifier_name, pixel_res), SAVE_PATH=PRP_IMAGES_PATH)\n",
    "                else:\n",
    "                    raise ValueError(\"Check filenames! Neither 'dummy_toy' nor 'full' is in filename...\")\n",
    "                plt.show()\n",
    "            elif classifier_name == \"LinearSVC\":\n",
    "                # Load pikle-file and display pandas data frame filtered to error types\n",
    "                dict_eval_metrics = pickle.load(open(filenames_eval_dics_pix[i],\"rb\"))\n",
    "                print(\">... Eval metrics pickle file successfully loaded for {}, pixel resolution {} and switch case {}\".format(classifier_name, pixel_res, switch_case))\n",
    "                # Extract eval metrics into data frame\n",
    "                print(\">... Extracting Metrics into Dataframe of classifier {}\".format(classifier_name))\n",
    "                precisions = dict_eval_metrics[\"Precisions\"]\n",
    "                recalls = dict_eval_metrics[\"Recalls\"]\n",
    "                thresholds = dict_eval_metrics[\"Thresholds\"]\n",
    "                \n",
    "                # Printing of Precision recall plot\n",
    "                print(\">... Plot precision-recall curve for {}, pixel resolution {} and switch case {}\".format(classifier_name, pixel_res, switch_case))\n",
    "                plt.figure(figsize=(8,4))\n",
    "                plt.plot(thresholds, precisions[:-1],\"b--\",label = \"Precision\", linewidth=2)\n",
    "                plt.plot(thresholds, recalls[:-1], \"g--\",label = \"Recall\", linewidth=2)\n",
    "                plt.xlabel(\"Threshold\", fontsize = 16)\n",
    "                plt.legend(loc=\"lower left\", fontsize = 16)\n",
    "                plt.ylim([0,1])\n",
    "                if \"dummy_toy\" in filenames_eval_dics_pix[i]:\n",
    "                    save_fig(\"Precision_Recall_Plot_{}_dummy_toy_{}_{}\".format(switch_case, classifier_name, pixel_res), SAVE_PATH=PRP_IMAGES_PATH)\n",
    "                elif \"full\" in filenames_eval_dics_pix[i]:\n",
    "                    save_fig(\"Precision_Recall_Plot_{}_full_{}_{}\".format(switch_case, classifier_name, pixel_res), SAVE_PATH=PRP_IMAGES_PATH)\n",
    "                else:\n",
    "                    raise ValueError(\"Check filenames! Neither 'dummy_toy' nor 'full' is in filename...\")\n",
    "                plt.show()\n",
    "            else:\n",
    "                print(\">... Precision Recall plot not available for {}!\".format(classifier_name))\n",
    "\n",
    "    elif prec_recall_plot_switch == False:\n",
    "        print(\"Precision recall plots not selected by user.\")\n",
    "    else:\n",
    "        raise ValueError(\"Check parameter 'prec_recall_plot_switch': Has to be binary True or False\")  \n",
    "          \n",
    "        "
   ]
  },
  {
   "cell_type": "markdown",
   "id": "addressed-mileage",
   "metadata": {},
   "source": [
    "<a id='3_6_hyper_tune_grid_search'></a>\n",
    "<br>\n",
    "<br>\n",
    "<br>\n",
    "<br>\n",
    "<br>\n",
    "<br>\n",
    "\n",
    "### 3.6. Hyperparameter tuning grid search"
   ]
  },
  {
   "cell_type": "code",
   "execution_count": 10,
   "id": "enclosed-participation",
   "metadata": {
    "init_cell": true
   },
   "outputs": [],
   "source": [
    "# Define function that perform grid search\n",
    "\n",
    "def hyper_tune_grid_search(classifier_x, param_grid, pixel_res, switch_case):\n",
    "    # Defining save path depening on hyperparameter \"switch_case\"\n",
    "    if \"train\" in switch_case:\n",
    "        SAVE_PATH_EVAL_SCORES=OUTPUT_PATH_TRAIN_EVAL_SCORES\n",
    "        SAVE_PATH_ERROR_TABLES=OUTPUT_PATH_TRAIN_ERROR_TABELS\n",
    "        SAVE_PATH_RUN_TIME=OUTPUT_PATH_TRAIN_RUN_TIME\n",
    "    elif \"test\" in switch_case:\n",
    "        SAVE_PATH_EVAL_SCORES=OUTPUT_PATH_TEST_EVAL_SCORES\n",
    "        SAVE_PATH_ERROR_TABLES=OUTPUT_PATH_TEST_ERROR_TABELS\n",
    "        SAVE_PATH_RUN_TIME=OUTPUT_PATH_TEST_RUN_TIME\n",
    "    else:\n",
    "        raise ValueError(\"Check hyper-parameter 'switch_case'. Must be one of: \\n'train_baseline', 'train_accuracy_tuned', 'train_speed_tuned' \\n'test_baseline', 'test_accuracy_tuned', 'test_speed_tuned'\")\n",
    "    \n",
    "    # Defining string depending on full data switch for searching correct files\n",
    "    if full_data_switch_on == True:\n",
    "        switch_data = \"_full_\"\n",
    "    elif full_data_switch_on == False:\n",
    "        switch_data = \"_dummy_toy_\"\n",
    "    else:\n",
    "        raise ValueError(\"Full data switch not correctly defined: Binary value of True or False necessary\")\n",
    "\n",
    "    \n",
    "    # Import necessary libraries\n",
    "    from sklearn.model_selection import GridSearchCV\n",
    "    \n",
    "    # Load\n",
    "    print(\"\\n\\n\\n>... Loading data for pixel resolution: {}.\".format(pixel_res))\n",
    "    rgb_data_train, rgb_data_test, labels_train, labels_test, pic_ids_train, pic_ids_test = load_data(pixel_res)\n",
    "    \n",
    "    # Start timer pixel resolution\n",
    "    print(\"\\n\\n\\n>... Starting Grid Search for pixel resolution: {}.\".format(pixel_res))\n",
    "    start_time_pix_GSCV = timeit.default_timer()\n",
    "    # Perform Grid-Search\n",
    "    grid_search = GridSearchCV(classifier_x, param_grid, cv=3,\n",
    "                            scoring=[\"precision\", \"recall\", \"accuracy\"],\n",
    "                            refit = \"precision\",\n",
    "                            n_jobs = 4,\n",
    "                            verbose = 3,\n",
    "                            return_train_score = True)\n",
    "    \n",
    "    grid_search.fit(rgb_data_train, labels_train)\n",
    "    \n",
    "\n",
    "    #End timer\n",
    "    elapsed_pix_GSCV = timeit.default_timer() - start_time_pix_GSCV\n",
    "    \n",
    "    # Saving Run-Time for GridSearch\n",
    "    run_time_info_GSCV = {}\n",
    "    run_time_info_GSCV[str(pixel_res)] = round(elapsed_pix_GSCV, 2)\n",
    "    if full_data_switch_on == True:\n",
    "        FILE_PATH = os.path.join(SAVE_PATH_RUN_TIME + \"/run_time_grid_search_\"+str(switch_case) +\"_full_\"+str(classifier_x.__class__.__name__)+\"_\"+str(pixel_res)+\".pkl\")\n",
    "    elif full_data_switch_on == False:\n",
    "        FILE_PATH = os.path.join(SAVE_PATH_RUN_TIME + \"/run_time_grid_search_\"+str(switch_case) +\"_dummy_toy_\"+str(classifier_x.__class__.__name__)+\"_\"+str(pixel_res)+\".pkl\")\n",
    "    else:\n",
    "        raise ValueError(\"Full data switch not correctly defined: Binary value of True or False necessary\")\n",
    "    \n",
    "    file = open(FILE_PATH,\"wb\")\n",
    "    pickle.dump(run_time_info_GSCV, file)\n",
    "    file.close()\n",
    "    print(\">... Successfully stored in: {}\".format(FILE_PATH))\n",
    "    print(\"\\n>... Ending Grid Search process for classifier {} of pixel resolution: {}. Run-time: {} seconds.\".format(classifier_x, pixel_res, round(elapsed_pix_GSCV,2)))\n",
    "\n",
    "        \n",
    "    # Extract, print and save best parameters\n",
    "    print(\"\\n>... Printing best parameters for classifer {} and pixel resolution {}\\n\".format(classifier_x, pixel_res))\n",
    "    print(grid_search.best_params_)\n",
    "    best_params_dict = {}\n",
    "    best_params_dict[\"Grid_Search_Best_Params\"] = grid_search.best_params_\n",
    "\n",
    "    if full_data_switch_on == True:\n",
    "        FILE_PATH = os.path.join(OUTPUT_PATH_BEST_PARAMS + \"/best_params_grid_search_\"+str(switch_case) +\"_full_\"+str(classifier_x.__class__.__name__)+\"_\"+str(pixel_res)+\".pkl\")\n",
    "    elif full_data_switch_on == False:\n",
    "        FILE_PATH = os.path.join(OUTPUT_PATH_BEST_PARAMS + \"/best_params_grid_search_\"+str(switch_case) +\"_dummy_toy_\"+str(classifier_x.__class__.__name__)+\"_\"+str(pixel_res)+\".pkl\")\n",
    "    else:\n",
    "        raise ValueError(\"Full data switch not correctly defined: Binary value of True or False necessary\")\n",
    "    \n",
    "    file = open(FILE_PATH,\"wb\")\n",
    "    pickle.dump(best_params_dict, file)\n",
    "    file.close()\n",
    "    print(\">... Successfully stored best hyper parameters in: {}\".format(FILE_PATH))\n",
    "  \n",
    "    \n",
    "    # Extract, print best precision score\n",
    "    print(\"\\n>... Printing best precision score for classifer {} and pixel resolution {}\\n\".format(classifier_x, pixel_res))\n",
    "    print(grid_search.best_score_)"
   ]
  },
  {
   "cell_type": "markdown",
   "id": "expanded-chaos",
   "metadata": {},
   "source": [
    "<a id='3_7_test_clasf'></a>\n",
    "<br>\n",
    "<br>\n",
    "<br>\n",
    "<br>\n",
    "<br>\n",
    "<br>\n",
    "\n",
    "### 3.7. Training and testing classifier for test set cases"
   ]
  },
  {
   "cell_type": "code",
   "execution_count": 11,
   "id": "going-location",
   "metadata": {
    "init_cell": true
   },
   "outputs": [],
   "source": [
    "# Define Testing function\n",
    "def test_clasf(classifier_x, rgb_data_train, rgb_data_test, labels_train, labels_test, pic_ids_test, pixel_res, switch_case):\n",
    "    # Defining save path depening on hyperparameter \"switch_case\"\n",
    "    if \"train\" in switch_case:\n",
    "        raise ValueError(\"This function can only be called on switch cases involved the test set.\")\n",
    "    elif \"test\" in switch_case:\n",
    "        SAVE_PATH_EVAL_SCORES=OUTPUT_PATH_TEST_EVAL_SCORES\n",
    "        SAVE_PATH_ERROR_TABLES=OUTPUT_PATH_TEST_ERROR_TABELS\n",
    "        SAVE_PATH_RUN_TIME=OUTPUT_PATH_TEST_RUN_TIME\n",
    "    else:\n",
    "        raise ValueError(\"Check hyper-parameter 'switch_case'. Must be one of: \\n'train_baseline', 'train_accuracy_tuned', 'train_speed_tuned' \\n'test_baseline', 'test_accuracy_tuned', 'test_speed_tuned'\")\n",
    "\n",
    "    # Import metrics and validation methods\n",
    "    from sklearn.model_selection import cross_val_score, cross_val_predict\n",
    "    from sklearn.metrics import confusion_matrix, precision_score, recall_score, accuracy_score, plot_confusion_matrix, precision_recall_curve\n",
    "    import matplotlib.pyplot as plt \n",
    "\n",
    "    # Set classifier name and print status\n",
    "    classifier_name = classifier_x.__class__.__name__\n",
    "    print(\">... Starting testing of\", classifier_name)\n",
    "    clasf = classifier_x\n",
    "    \n",
    "    # Training\n",
    "    print(\">... Starting training of\", classifier_name)\n",
    "    start_time_train = timeit.default_timer()\n",
    "    clasf.fit(rgb_data_train, labels_train)\n",
    "    time_elapsed_train = timeit.default_timer() - start_time_train\n",
    "    \n",
    "\n",
    "    \n",
    "    # Predictions\n",
    "    print(\">... Starting prediction for\", classifier_name)\n",
    "    start_time_pred = timeit.default_timer()\n",
    "    pred=clasf.predict(rgb_data_test)\n",
    "    time_elapsed_pred = timeit.default_timer() - start_time_pred\n",
    "    \n",
    "    # Store run-time info\n",
    "    run_time_info = {}\n",
    "    run_time_info[str(pixel_res)] = round(time_elapsed_train, 3)\n",
    "    if full_data_switch_on == True:\n",
    "        FILE_PATH = os.path.join(SAVE_PATH_RUN_TIME + \"/run_time_training_classifier_\"+str(switch_case)+\"_full_\"+str(classifier_name)+\"_\"+str(pixel_res)+\".pkl\")\n",
    "    elif full_data_switch_on == False:\n",
    "        FILE_PATH = os.path.join(SAVE_PATH_RUN_TIME + \"/run_time_training_classifier_\"+str(switch_case)+\"_dummy_toy_\"+str(classifier_name)+\"_\"+str(pixel_res)+\".pkl\")\n",
    "    else:\n",
    "        raise ValueError(\"Full data switch not correctly defined: Binary value of True or False necessary\")\n",
    "    \n",
    "    file = open(FILE_PATH,\"wb\")\n",
    "    pickle.dump(run_time_info, file)\n",
    "    file.close()\n",
    "    print(\">... Run-Time successfully stored in: {}\".format(FILE_PATH))\n",
    "    print(\">... Classifier {} sucessfully trained in {} seconds.\".format(classifier_name, round(time_elapsed_train,3)))\n",
    "   \n",
    "    \n",
    "    # Store evaluation metrics\n",
    "    print(\">... Calculating evaluation metric of\", classifier_name)\n",
    "    # Initialize eval dictionary and store values\n",
    "    evaluation_scores = {}\n",
    "    evaluation_scores[\"Precision Score\"] = precision_score(labels_test, pred).round(3)\n",
    "    evaluation_scores[\"Recall Score\"] = recall_score(labels_test, pred).round(3)\n",
    "    evaluation_scores[\"Accuracy Score\"] = accuracy_score(labels_test, pred).round(3)\n",
    "    evaluation_scores[\"Confusion matrix\"] = confusion_matrix(labels_test, pred)\n",
    "    evaluation_scores[\"Prediction time in seconds\"] = round(time_elapsed_pred, 3)\n",
    "    \n",
    "    # Data for Precision recall curve\n",
    "    if classifier_name ==  'SGDClassifier':\n",
    "        print(\">... Calculating precision, recalls and thresholds of\", classifier_name)\n",
    "        decision_scores = cross_val_predict(classifier_x, rgb_data_test, labels_test, cv = 3, method=\"decision_function\")\n",
    "        precisions, recalls, thresholds = precision_recall_curve(labels_test,decision_scores)\n",
    "        #storing precision reacall and treshold values in eval directory\n",
    "        evaluation_scores[\"Precisions\"] = precisions\n",
    "        evaluation_scores[\"Recalls\"] = recalls\n",
    "        evaluation_scores[\"Thresholds\"] = thresholds\n",
    "    elif classifier_name == 'LinearSVC':\n",
    "        print(\">... Calculating precision, recalls and thresholds of\", classifier_name)\n",
    "        decision_scores = cross_val_predict(classifier_x, rgb_data_test, labels_test, cv = 3, method=\"decision_function\")\n",
    "        precisions, recalls, thresholds = precision_recall_curve(labels_test,decision_scores)\n",
    "        #storing precision reacall and treshold values in eval directory\n",
    "        evaluation_scores[\"Precisions\"] = precisions\n",
    "        evaluation_scores[\"Recalls\"] = recalls\n",
    "        evaluation_scores[\"Thresholds\"] = thresholds\n",
    "    else:\n",
    "        print (\">... Precision-recall-curve not applicable for {}.\".format(classifier_name))\n",
    "    \n",
    "    # Storing testing evaluation scores into pickle file to access them later\n",
    "    if full_data_switch_on == True: \n",
    "        EVAL_FILE_PATH = os.path.join(SAVE_PATH_EVAL_SCORES + \"/evaluation_scores_\" + str(switch_case) + \"_full_\" + str(classifier_name) + \"_\" + str(pixel_res) + \".pkl\")\n",
    "    elif full_data_switch_on == False:\n",
    "        EVAL_FILE_PATH = os.path.join(SAVE_PATH_EVAL_SCORES + \"/evaluation_scores_\" + str(switch_case) + \"_dummy_toy_\" + str(classifier_name) + \"_\" + str(pixel_res) + \".pkl\")\n",
    "    else:\n",
    "        raise ValueError(\"Full data switch not correctly defined: Binary value of True or False necessary\")\n",
    "    file = open(EVAL_FILE_PATH,\"wb\")\n",
    "    pickle.dump(evaluation_scores, file)\n",
    "    file.close()\n",
    "    print(\">... Testing scores successfully stored in: {}\".format(EVAL_FILE_PATH))\n",
    "    print(\">... Testing evaluation of classifier {} sucessfully finished in {} seconds.\".format(classifier_name, round(time_elapsed_pred,2)))\n",
    "\n",
    "    \n",
    "    # Create output array with error-types and pic ids\n",
    "    # Combine pics ids, labels and predicted values\n",
    "    print(\">... Starting to create output array with error-types for more transparency for classifier {}.\".format(classifier_name))\n",
    "    output_dict = {}\n",
    "    pred_tf = (pred == 1)\n",
    "    output_array = np.c_[pic_ids_test, labels_test, pred_tf]\n",
    "    \n",
    "    # Create error array with specific error type\n",
    "    err_type_arr = np.array([])\n",
    "    for i in range(len(output_array)):\n",
    "        if output_array[i,1] == \"True\" and output_array[i,2] == \"False\":\n",
    "            err_type_arr = np.append(err_type_arr, \"False negative\")\n",
    "        elif output_array[i,1] == \"False\" and output_array[i,2] == \"True\":\n",
    "            err_type_arr = np.append(err_type_arr, \"False positive\")\n",
    "        else:\n",
    "            err_type_arr = np.append(err_type_arr, \"No error\")\n",
    "    \n",
    "    # Combine error into and output array into pandas data frame\n",
    "    error_table_pd = pd.DataFrame(output_array)\n",
    "    error_table_pd.rename(columns = {0:'Filename picture ID', 1:\"Label\", 2:\"Predicted\"}, inplace = True)\n",
    "    error_table_pd[\"Error Type\"] = err_type_arr\n",
    "    \n",
    "    # Saving all in dictionary\n",
    "    output_dict[\"error_table\"] = error_table_pd\n",
    "    \n",
    "    # Saving dictionary of error table\n",
    "    if full_data_switch_on == True: \n",
    "        ERROR_TABLE_FILE_PATH = os.path.join(SAVE_PATH_ERROR_TABLES + \"/error_table_pd_\" + str(switch_case) + \"_full_\" + str(classifier_name) + \"_\" + str(pixel_res) + \".pkl\")\n",
    "    elif full_data_switch_on == False:\n",
    "        ERROR_TABLE_FILE_PATH = os.path.join(SAVE_PATH_ERROR_TABLES + \"/error_table_pd_\" + str(switch_case) + \"_dummy_toy_\" + str(classifier_name) + \"_\" + str(pixel_res) + \".pkl\")\n",
    "    else:\n",
    "        raise ValueError(\"Full data switch not correctly defined: Binary value of True or False necessary\")\n",
    "    file = open(ERROR_TABLE_FILE_PATH,\"wb\")\n",
    "    pickle.dump(output_dict, file)\n",
    "    file.close()\n",
    "    print(\">... Error table dictionary successfully stored in: {}\".format(ERROR_TABLE_FILE_PATH))\n"
   ]
  },
  {
   "cell_type": "markdown",
   "id": "spare-vegetable",
   "metadata": {},
   "source": [
    "<a id='3_8_load_eval_pipeline'></a>\n",
    "<br>\n",
    "<br>\n",
    "<br>\n",
    "<br>\n",
    "<br>\n",
    "<br>\n",
    "\n",
    "### 3.8. Pipeline for loading and evaluating"
   ]
  },
  {
   "cell_type": "code",
   "execution_count": 12,
   "id": "caring-staff",
   "metadata": {
    "ExecuteTime": {
     "end_time": "2021-04-19T16:29:35.906623Z",
     "start_time": "2021-04-19T16:29:35.863Z"
    },
    "init_cell": true,
    "run_control": {
     "marked": false
    }
   },
   "outputs": [],
   "source": [
    "# Defining pipeline function for load, training, evaluating of baseline\n",
    "\n",
    "def load_eval(list_of_pixels, list_of_classifiers, switch_train_test_case):\n",
    "    # Test pixels\n",
    "    check_pixels(list_of_pixels)\n",
    "    \n",
    "    # Loading and evaluating\n",
    "    for pix in list_of_pixels:\n",
    "        print(\"\\n\\n\\n>... Starting load_train_eval process for pixel resolution: {}.\".format(pix))\n",
    "        # Start timer pixel resolution\n",
    "        start_time_pix = timeit.default_timer()\n",
    "        # Load\n",
    "        rgb_data_train, rgb_data_test, labels_train, labels_test, pic_ids_train, pic_ids_test = load_data(pix)\n",
    "\n",
    "        # Run the different classifiers\n",
    "        for clasf in list_of_classifiers:\n",
    "            # Evaluate\n",
    "            eval_clasf(clasf, rgb_data_train, labels_train, pic_ids_train, pix, switch_case=switch_train_test_case)\n",
    "\n",
    "        #End timer and output message\n",
    "        elapsed_pix = timeit.default_timer() - start_time_pix\n",
    "        print(\"\\n>... Ending load_train_eval process for pixel resolution: {}. Run-time: {} seconds.\".format(pix, round(elapsed_pix,2)))"
   ]
  },
  {
   "cell_type": "markdown",
   "id": "official-junction",
   "metadata": {},
   "source": [
    "<a id='4_Baseline'></a>\n",
    "<br>\n",
    "<br>\n",
    "<br>\n",
    "<br>\n",
    "<br>\n",
    "<br>\n",
    "<br>\n",
    "<br>\n",
    "<br>\n",
    "<br>\n",
    "<br>\n",
    "<br>\n",
    "\n",
    "## 4. Calculating Baseline"
   ]
  },
  {
   "cell_type": "markdown",
   "id": "ethical-excitement",
   "metadata": {},
   "source": [
    "<a id='4_1_Run_Baseline_Classifier'></a>\n",
    "<br>\n",
    "<br>\n",
    "<br>\n",
    "<br>\n",
    "<br>\n",
    "<br>\n",
    "\n",
    "### 4.1. Defining classifiers to use and run evaluations"
   ]
  },
  {
   "cell_type": "code",
   "execution_count": 13,
   "id": "fifth-bankruptcy",
   "metadata": {
    "ExecuteTime": {
     "end_time": "2021-04-19T16:29:35.912774Z",
     "start_time": "2021-04-19T16:29:35.871Z"
    }
   },
   "outputs": [],
   "source": [
    "# Define classifiers to test in baseline\n",
    "from sklearn.ensemble import RandomForestClassifier\n",
    "from sklearn import svm, tree\n",
    "# from sklearn.neighbors import KNeighborsClassifier # KNN had several hours runtime and kernel always died before finising\n",
    "from sklearn.linear_model import SGDClassifier#, LogisticRegression # LogReg hat several hours runtime and kernel always died before finishing\n",
    "classifier_RandomForest = RandomForestClassifier(random_state=42)\n",
    "classifier_DecTree = tree.DecisionTreeClassifier(random_state=42)\n",
    "classifier_LinSVC = svm.LinearSVC(max_iter=4000, tol=1e-3, random_state=42) #linear as normal (c based) is impractical using large datasets\n",
    "classifier_SGD = SGDClassifier(random_state=42)\n",
    "# classifier_KNN = KNeighborsClassifier(n_neighbors=1)\n",
    "# classifier_LogReg = LogisticRegression(max_iter=2000, tol=1e-3,random_state=42)\n",
    "\n",
    "\n",
    "# Combine classifiers to a list through which you can loop\n",
    "classifiers_baseline= [classifier_RandomForest, classifier_DecTree, classifier_LinSVC, classifier_SGD]"
   ]
  },
  {
   "cell_type": "code",
   "execution_count": 14,
   "id": "liked-spoke",
   "metadata": {
    "ExecuteTime": {
     "end_time": "2021-04-19T16:29:35.912774Z",
     "start_time": "2021-04-19T16:29:35.871Z"
    }
   },
   "outputs": [
    {
     "name": "stdout",
     "output_type": "stream",
     "text": [
      "The following pixels are available for the dummy toy data set:  [16, 24, 32, 48, 64]\n",
      "The specified pixel resolution 24 is available!\n",
      "\n",
      "\n",
      "\n",
      ">... Starting load_train_eval process for pixel resolution: 24.\n",
      ">... Pickle datafile successfully loaded:  01_data/01_cleaned/pic_data_dummy_toy_24.pkl\n",
      ">... Pickle dictionary sucessfully separated into individuals arrays\n",
      ">... Data sucessfully split into test and train data\n",
      ">... Starting evaluation of RandomForestClassifier\n",
      ">... Starting cross validation of RandomForestClassifier\n",
      ">... Calculating evaluation scores of RandomForestClassifier\n",
      ">... Precision-recall-curve not applicable for this classifier\n",
      ">... Evaluation scores successfully stored in: 03_output/01_training_set_evaluation/01_eval_scores/evaluation_scores_train_baseline_dummy_toy_RandomForestClassifier_24.pkl\n",
      ">... Starting to create output array with error-types for more transparency for classifier RandomForestClassifier.\n",
      ">... Error table dictionary successfully stored in: 03_output/01_training_set_evaluation/02_error_tables/error_table_pd_train_baseline_dummy_toy_RandomForestClassifier_24.pkl\n",
      ">... Evaluation of classifier RandomForestClassifier sucessfully finished in 0.88 seconds.\n",
      ">... Starting evaluation of DecisionTreeClassifier\n",
      ">... Starting cross validation of DecisionTreeClassifier\n",
      ">... Calculating evaluation scores of DecisionTreeClassifier\n",
      ">... Precision-recall-curve not applicable for this classifier\n",
      ">... Evaluation scores successfully stored in: 03_output/01_training_set_evaluation/01_eval_scores/evaluation_scores_train_baseline_dummy_toy_DecisionTreeClassifier_24.pkl\n",
      ">... Starting to create output array with error-types for more transparency for classifier DecisionTreeClassifier.\n",
      ">... Error table dictionary successfully stored in: 03_output/01_training_set_evaluation/02_error_tables/error_table_pd_train_baseline_dummy_toy_DecisionTreeClassifier_24.pkl\n",
      ">... Evaluation of classifier DecisionTreeClassifier sucessfully finished in 0.15 seconds.\n",
      ">... Starting evaluation of LinearSVC\n",
      ">... Starting cross validation of LinearSVC\n"
     ]
    },
    {
     "name": "stderr",
     "output_type": "stream",
     "text": [
      "/home/thilosander/miniconda3/lib/python3.8/site-packages/sklearn/svm/_base.py:976: ConvergenceWarning: Liblinear failed to converge, increase the number of iterations.\n",
      "  warnings.warn(\"Liblinear failed to converge, increase \"\n"
     ]
    },
    {
     "name": "stdout",
     "output_type": "stream",
     "text": [
      ">... Calculating evaluation scores of LinearSVC\n"
     ]
    },
    {
     "name": "stderr",
     "output_type": "stream",
     "text": [
      "/home/thilosander/miniconda3/lib/python3.8/site-packages/sklearn/svm/_base.py:976: ConvergenceWarning: Liblinear failed to converge, increase the number of iterations.\n",
      "  warnings.warn(\"Liblinear failed to converge, increase \"\n"
     ]
    },
    {
     "name": "stdout",
     "output_type": "stream",
     "text": [
      ">... Calculating precision, recalls and thresholds of LinearSVC\n"
     ]
    },
    {
     "name": "stderr",
     "output_type": "stream",
     "text": [
      "/home/thilosander/miniconda3/lib/python3.8/site-packages/sklearn/svm/_base.py:976: ConvergenceWarning: Liblinear failed to converge, increase the number of iterations.\n",
      "  warnings.warn(\"Liblinear failed to converge, increase \"\n"
     ]
    },
    {
     "name": "stdout",
     "output_type": "stream",
     "text": [
      ">... Evaluation scores successfully stored in: 03_output/01_training_set_evaluation/01_eval_scores/evaluation_scores_train_baseline_dummy_toy_LinearSVC_24.pkl\n",
      ">... Starting to create output array with error-types for more transparency for classifier LinearSVC.\n",
      ">... Error table dictionary successfully stored in: 03_output/01_training_set_evaluation/02_error_tables/error_table_pd_train_baseline_dummy_toy_LinearSVC_24.pkl\n",
      ">... Evaluation of classifier LinearSVC sucessfully finished in 4.02 seconds.\n",
      ">... Starting evaluation of SGDClassifier\n",
      ">... Starting cross validation of SGDClassifier\n",
      ">... Calculating evaluation scores of SGDClassifier\n",
      ">... Calculating precision, recalls and thresholds of SGDClassifier\n",
      ">... Evaluation scores successfully stored in: 03_output/01_training_set_evaluation/01_eval_scores/evaluation_scores_train_baseline_dummy_toy_SGDClassifier_24.pkl\n",
      ">... Starting to create output array with error-types for more transparency for classifier SGDClassifier.\n",
      ">... Error table dictionary successfully stored in: 03_output/01_training_set_evaluation/02_error_tables/error_table_pd_train_baseline_dummy_toy_SGDClassifier_24.pkl\n",
      ">... Evaluation of classifier SGDClassifier sucessfully finished in 0.05 seconds.\n",
      "\n",
      ">... Ending load_train_eval process for pixel resolution: 24. Run-time: 5.12 seconds.\n"
     ]
    }
   ],
   "source": [
    "# Actual running and evaluating of classifiers\n",
    "load_eval(pixels, classifiers_baseline, switch_train_test_case=\"train_baseline\")"
   ]
  },
  {
   "cell_type": "markdown",
   "id": "adolescent-pittsburgh",
   "metadata": {},
   "source": [
    "<a id='4_2_Show_Evals_Train_Baseline'></a>\n",
    "<br>\n",
    "<br>\n",
    "<br>\n",
    "<br>\n",
    "<br>\n",
    "<br>\n",
    "\n",
    "### 4.2. Show evaluations of baseline classifiers on train set"
   ]
  },
  {
   "cell_type": "code",
   "execution_count": 15,
   "id": "primary-american",
   "metadata": {},
   "outputs": [
    {
     "name": "stdout",
     "output_type": "stream",
     "text": [
      "Error Table not selected by user.\n",
      "Confusion matrix not selected by user.\n",
      ">... Eval metrics pickle file successfully loaded for LinearSVC, pixel resolution 24 and switch case train_baseline\n",
      ">... Eval metrics pickle file successfully loaded for RandomForestClassifier, pixel resolution 24 and switch case train_baseline\n",
      ">... Eval metrics pickle file successfully loaded for SGDClassifier, pixel resolution 24 and switch case train_baseline\n",
      ">... Eval metrics pickle file successfully loaded for DecisionTreeClassifier, pixel resolution 24 and switch case train_baseline\n",
      ">... Display eval metrics table for pixel resolution 24 and switch case train_baseline\n",
      "\n",
      "\n",
      "                                     LinearSVC RandomForestClassifier  \\\n",
      "precision score                          0.947                  0.957   \n",
      "recall score                             0.989                  0.978   \n",
      "cross validation scores   [0.967, 0.95, 0.983]   [0.967, 0.95, 0.983]   \n",
      "cross validation mean                    0.967                  0.967   \n",
      "cross validation std                   0.01347                0.01347   \n",
      "eval run time in seconds                 4.017                  0.879   \n",
      "\n",
      "                                  SGDClassifier DecisionTreeClassifier  \n",
      "precision score                           0.934                  0.944  \n",
      "recall score                              0.934                  0.923  \n",
      "cross validation scores   [0.951, 0.883, 0.967]   [0.918, 0.933, 0.95]  \n",
      "cross validation mean                     0.934                  0.934  \n",
      "cross validation std                    0.03642                0.01307  \n",
      "eval run time in seconds                  0.048                  0.146   \n",
      "\n",
      "\n",
      "Precision recall plots not selected by user.\n"
     ]
    }
   ],
   "source": [
    "# Show evaluations: Evaluation Metrics\n",
    "for pix in pixels:\n",
    "    show_evals(pixel_res=pix, switch_case=\"train_baseline\", eval_metrics=True)"
   ]
  },
  {
   "cell_type": "code",
   "execution_count": 16,
   "id": "listed-reputation",
   "metadata": {},
   "outputs": [
    {
     "name": "stdout",
     "output_type": "stream",
     "text": [
      "Error Table not selected by user.\n",
      ">... Eval metrics pickle file successfully loaded for LinearSVC, pixel resolution 24 and switch case train_baseline\n",
      ">... Displaying confusion matrix for switch case train_baseline, of LinearSVC with pixel resolution 24\n",
      ">... Saving figure Confusion_Matrix_train_baseline_dummy_toy_LinearSVC_24\n"
     ]
    },
    {
     "data": {
      "image/png": "[encoded data removed]",
      "text/plain": [
       "<Figure size 360x360 with 1 Axes>"
      ]
     },
     "metadata": {
      "needs_background": "light"
     },
     "output_type": "display_data"
    },
    {
     "name": "stdout",
     "output_type": "stream",
     "text": [
      ">... Eval metrics pickle file successfully loaded for RandomForestClassifier, pixel resolution 24 and switch case train_baseline\n",
      ">... Displaying confusion matrix for switch case train_baseline, of RandomForestClassifier with pixel resolution 24\n",
      ">... Saving figure Confusion_Matrix_train_baseline_dummy_toy_RandomForestClassifier_24\n"
     ]
    },
    {
     "data": {
      "image/png": "[encoded data removed]",
      "text/plain": [
       "<Figure size 360x360 with 1 Axes>"
      ]
     },
     "metadata": {
      "needs_background": "light"
     },
     "output_type": "display_data"
    },
    {
     "name": "stdout",
     "output_type": "stream",
     "text": [
      ">... Eval metrics pickle file successfully loaded for SGDClassifier, pixel resolution 24 and switch case train_baseline\n",
      ">... Displaying confusion matrix for switch case train_baseline, of SGDClassifier with pixel resolution 24\n",
      ">... Saving figure Confusion_Matrix_train_baseline_dummy_toy_SGDClassifier_24\n"
     ]
    },
    {
     "data": {
      "image/png": "[encoded data removed]",
      "text/plain": [
       "<Figure size 360x360 with 1 Axes>"
      ]
     },
     "metadata": {
      "needs_background": "light"
     },
     "output_type": "display_data"
    },
    {
     "name": "stdout",
     "output_type": "stream",
     "text": [
      ">... Eval metrics pickle file successfully loaded for DecisionTreeClassifier, pixel resolution 24 and switch case train_baseline\n",
      ">... Displaying confusion matrix for switch case train_baseline, of DecisionTreeClassifier with pixel resolution 24\n",
      ">... Saving figure Confusion_Matrix_train_baseline_dummy_toy_DecisionTreeClassifier_24\n"
     ]
    },
    {
     "data": {
      "image/png": "[encoded data removed]",
      "text/plain": [
       "<Figure size 360x360 with 1 Axes>"
      ]
     },
     "metadata": {
      "needs_background": "light"
     },
     "output_type": "display_data"
    },
    {
     "name": "stdout",
     "output_type": "stream",
     "text": [
      "Eval metrics not selected by user.\n",
      "Precision recall plots not selected by user.\n"
     ]
    }
   ],
   "source": [
    "# Show evaluations: Confusion Metrics\n",
    "for pix in pixels:\n",
    "    show_evals(pixel_res=pix, switch_case=\"train_baseline\", conf_matrix=True)"
   ]
  },
  {
   "cell_type": "code",
   "execution_count": 17,
   "id": "absent-companion",
   "metadata": {},
   "outputs": [
    {
     "name": "stdout",
     "output_type": "stream",
     "text": [
      ">... Error table pickle file successfully loaded for SGDClassifier, pixel resolution 24, and switch_case: train_baseline\n",
      ">... Print error table for switch case train_baseline, for pixel resolution 24 of SGDClassifier\n",
      "\n",
      "\n",
      "                  Filename picture ID  Label Predicted      Error Type\n",
      "33   NVIDIA/00032_Mask_Mouth_Chin.jpg  False      True  False positive\n",
      "17   NVIDIA/00033_Mask_Mouth_Chin.jpg  False      True  False positive\n",
      "166  NVIDIA/00036_Mask_Nose_Mouth.jpg  False      True  False positive\n",
      "113  NVIDIA/00066_Mask_Nose_Mouth.jpg  False      True  False positive\n",
      "106  NVIDIA/00094_Mask_Nose_Mouth.jpg  False      True  False positive\n",
      "101  NVIDIA/00111_Mask_Nose_Mouth.jpg  False      True  False positive\n",
      "96              NVIDIA/00037_Mask.jpg   True     False  False negative\n",
      "64              NVIDIA/00059_Mask.jpg   True     False  False negative\n",
      "60              NVIDIA/00081_Mask.jpg   True     False  False negative\n",
      "68              NVIDIA/00084_Mask.jpg   True     False  False negative\n",
      "6               NVIDIA/00091_Mask.jpg   True     False  False negative\n",
      "139             NVIDIA/00094_Mask.jpg   True     False  False negative\n",
      "\n",
      "\n",
      "\n",
      ">... Error table pickle file successfully loaded for LinearSVC, pixel resolution 24, and switch_case: train_baseline\n",
      ">... Print error table for switch case train_baseline, for pixel resolution 24 of LinearSVC\n",
      "\n",
      "\n",
      "                  Filename picture ID  Label Predicted      Error Type\n",
      "33   NVIDIA/00032_Mask_Mouth_Chin.jpg  False      True  False positive\n",
      "17   NVIDIA/00033_Mask_Mouth_Chin.jpg  False      True  False positive\n",
      "81         NVIDIA/00046_Mask_Chin.jpg  False      True  False positive\n",
      "113  NVIDIA/00066_Mask_Nose_Mouth.jpg  False      True  False positive\n",
      "106  NVIDIA/00094_Mask_Nose_Mouth.jpg  False      True  False positive\n",
      "139             NVIDIA/00094_Mask.jpg   True     False  False negative\n",
      "\n",
      "\n",
      "\n",
      ">... Error table pickle file successfully loaded for DecisionTreeClassifier, pixel resolution 24, and switch_case: train_baseline\n",
      ">... Print error table for switch case train_baseline, for pixel resolution 24 of DecisionTreeClassifier\n",
      "\n",
      "\n",
      "                  Filename picture ID  Label Predicted      Error Type\n",
      "113  NVIDIA/00066_Mask_Nose_Mouth.jpg  False      True  False positive\n",
      "23   NVIDIA/00089_Mask_Mouth_Chin.jpg  False      True  False positive\n",
      "106  NVIDIA/00094_Mask_Nose_Mouth.jpg  False      True  False positive\n",
      "101  NVIDIA/00111_Mask_Nose_Mouth.jpg  False      True  False positive\n",
      "120  NVIDIA/00112_Mask_Mouth_Chin.jpg  False      True  False positive\n",
      "57              KAGGLE/Image_9050.jpg   True     False  False negative\n",
      "41              NVIDIA/00026_Mask.jpg   True     False  False negative\n",
      "170             NVIDIA/00036_Mask.jpg   True     False  False negative\n",
      "31              NVIDIA/00061_Mask.jpg   True     False  False negative\n",
      "169             NVIDIA/00090_Mask.jpg   True     False  False negative\n",
      "139             NVIDIA/00094_Mask.jpg   True     False  False negative\n",
      "47              NVIDIA/00102_Mask.jpg   True     False  False negative\n",
      "\n",
      "\n",
      "\n",
      ">... Error table pickle file successfully loaded for RandomForestClassifier, pixel resolution 24, and switch_case: train_baseline\n",
      ">... Print error table for switch case train_baseline, for pixel resolution 24 of RandomForestClassifier\n",
      "\n",
      "\n",
      "                  Filename picture ID  Label Predicted      Error Type\n",
      "166  NVIDIA/00036_Mask_Nose_Mouth.jpg  False      True  False positive\n",
      "113  NVIDIA/00066_Mask_Nose_Mouth.jpg  False      True  False positive\n",
      "106  NVIDIA/00094_Mask_Nose_Mouth.jpg  False      True  False positive\n",
      "101  NVIDIA/00111_Mask_Nose_Mouth.jpg  False      True  False positive\n",
      "57              KAGGLE/Image_9050.jpg   True     False  False negative\n",
      "31              NVIDIA/00061_Mask.jpg   True     False  False negative\n",
      "\n",
      "\n",
      "\n",
      "Confusion matrix not selected by user.\n",
      "Eval metrics not selected by user.\n",
      "Precision recall plots not selected by user.\n"
     ]
    }
   ],
   "source": [
    "# Show evaluations: Error Tables\n",
    "for pix in pixels:\n",
    "    show_evals(pixel_res=pix, switch_case=\"train_baseline\", error_table=True)"
   ]
  },
  {
   "cell_type": "code",
   "execution_count": 18,
   "id": "excessive-channel",
   "metadata": {},
   "outputs": [
    {
     "name": "stdout",
     "output_type": "stream",
     "text": [
      "Error Table not selected by user.\n",
      "Confusion matrix not selected by user.\n",
      "Eval metrics not selected by user.\n",
      ">... Eval metrics pickle file successfully loaded for LinearSVC, pixel resolution 24 and switch case train_baseline\n",
      ">... Extracting Metrics into Dataframe of classifier LinearSVC\n",
      ">... Plot precision-recall curve for LinearSVC, pixel resolution 24 and switch case train_baseline\n",
      ">... Saving figure Precision_Recall_Plot_train_baseline_dummy_toy_LinearSVC_24\n"
     ]
    },
    {
     "data": {
      "image/png": "[encoded data removed]",
      "text/plain": [
       "<Figure size 576x288 with 1 Axes>"
      ]
     },
     "metadata": {
      "needs_background": "light"
     },
     "output_type": "display_data"
    },
    {
     "name": "stdout",
     "output_type": "stream",
     "text": [
      ">... Precision Recall plot not available for RandomForestClassifier!\n",
      ">... Eval metrics pickle file successfully loaded for SGDClassifier, pixel resolution 24 and switch case train_baseline\n",
      ">... Extracting Metrics into Dataframe of classifier SGDClassifier\n",
      ">... Plot precision-recall curve for SGDClassifier, pixel resolution 24 and switch case train_baseline\n",
      ">... Saving figure Precision_Recall_Plot_train_baseline_dummy_toy_SGDClassifier_24\n"
     ]
    },
    {
     "data": {
      "image/png": "[encoded data removed]",
      "text/plain": [
       "<Figure size 576x288 with 1 Axes>"
      ]
     },
     "metadata": {
      "needs_background": "light"
     },
     "output_type": "display_data"
    },
    {
     "name": "stdout",
     "output_type": "stream",
     "text": [
      ">... Precision Recall plot not available for DecisionTreeClassifier!\n"
     ]
    }
   ],
   "source": [
    "# Show evaluations: Precision Recall Plots\n",
    "for pix in pixels:\n",
    "    show_evals(pixel_res=pix, switch_case=\"train_baseline\", prec_recall_plot_switch=True)"
   ]
  },
  {
   "cell_type": "markdown",
   "id": "damaged-degree",
   "metadata": {},
   "source": [
    "<a id='5_Accuracy_Improvements'></a>\n",
    "<br>\n",
    "<br>\n",
    "<br>\n",
    "<br>\n",
    "<br>\n",
    "<br>\n",
    "<br>\n",
    "<br>\n",
    "<br>\n",
    "<br>\n",
    "<br>\n",
    "<br>\n",
    "\n",
    "## 5. Accuracy improvements"
   ]
  },
  {
   "cell_type": "markdown",
   "id": "tutorial-avenue",
   "metadata": {},
   "source": [
    "<a id='5_1_Grid_search'></a>\n",
    "<br>\n",
    "<br>\n",
    "<br>\n",
    "<br>\n",
    "<br>\n",
    "<br>\n",
    "\n",
    "### 5.1. Defining grids and run grid search"
   ]
  },
  {
   "cell_type": "code",
   "execution_count": 19,
   "id": "novel-republic",
   "metadata": {},
   "outputs": [],
   "source": [
    "# Importing all classifiers again (for running only hyper-parameter tuning)\n",
    "from sklearn.ensemble import RandomForestClassifier\n",
    "from sklearn import svm, tree\n",
    "from sklearn.linear_model import SGDClassifier"
   ]
  },
  {
   "cell_type": "code",
   "execution_count": 20,
   "id": "local-policy",
   "metadata": {},
   "outputs": [
    {
     "name": "stdout",
     "output_type": "stream",
     "text": [
      "\n",
      "\n",
      "\n",
      ">... Loading data for pixel resolution: 24.\n",
      ">... Pickle datafile successfully loaded:  01_data/01_cleaned/pic_data_dummy_toy_24.pkl\n",
      ">... Pickle dictionary sucessfully separated into individuals arrays\n",
      ">... Data sucessfully split into test and train data\n",
      "\n",
      "\n",
      "\n",
      ">... Starting Grid Search for pixel resolution: 24.\n",
      "Fitting 3 folds for each of 18 candidates, totalling 54 fits\n"
     ]
    },
    {
     "name": "stderr",
     "output_type": "stream",
     "text": [
      "[Parallel(n_jobs=4)]: Using backend LokyBackend with 4 concurrent workers.\n",
      "[Parallel(n_jobs=4)]: Done  24 tasks      | elapsed:    1.0s\n"
     ]
    },
    {
     "name": "stdout",
     "output_type": "stream",
     "text": [
      ">... Successfully stored in: 03_output/01_training_set_evaluation/03_run_time_scores/run_time_grid_search_train_accuracy_tuned_dummy_toy_SGDClassifier_24.pkl\n",
      "\n",
      ">... Ending Grid Search process for classifier SGDClassifier(random_state=42) of pixel resolution: 24. Run-time: 13.18 seconds.\n",
      "\n",
      ">... Printing best parameters for classifer SGDClassifier(random_state=42) and pixel resolution 24\n",
      "\n",
      "{'alpha': 0.01, 'max_iter': 100, 'penalty': 'l1'}\n",
      ">... Successfully stored best hyper parameters in: 03_output/01_training_set_evaluation/04_hypertuning_best_params/best_params_grid_search_train_accuracy_tuned_dummy_toy_SGDClassifier_24.pkl\n",
      "\n",
      ">... Printing best precision score for classifer SGDClassifier(random_state=42) and pixel resolution 24\n",
      "\n",
      "0.9450844854070661\n"
     ]
    },
    {
     "name": "stderr",
     "output_type": "stream",
     "text": [
      "[Parallel(n_jobs=4)]: Done  54 out of  54 | elapsed:   13.0s finished\n"
     ]
    }
   ],
   "source": [
    "# SGD\n",
    "param_grid_SGD = [\n",
    "    {\"penalty\": [\"l1\", \"l2\"],\n",
    "     \"alpha\": [1e-4, 1e-2, 1],\n",
    "     \"max_iter\": [100, 1000, 10000]}    \n",
    "]\n",
    "\n",
    "classifier_SGD_hyper = SGDClassifier(random_state=42)\n",
    "\n",
    "for pix in pixels:\n",
    "    hyper_tune_grid_search(classifier_x=classifier_SGD_hyper, param_grid=param_grid_SGD,\n",
    "                           pixel_res=pix,\n",
    "                           switch_case =\"train_accuracy_tuned\")"
   ]
  },
  {
   "cell_type": "code",
   "execution_count": 21,
   "id": "peripheral-penny",
   "metadata": {},
   "outputs": [
    {
     "name": "stdout",
     "output_type": "stream",
     "text": [
      "Best parameters from grid search on full data set: \n",
      "SGD:  {'Grid_Search_Best_Params': {'alpha': 0.01, 'max_iter': 100, 'penalty': 'l2'}}\n"
     ]
    }
   ],
   "source": [
    "best_params = pickle.load(open(\"03_output/01_training_set_evaluation/04_hypertuning_best_params/best_params_grid_search_train_accuracy_tuned_full_SGDClassifier_24.pkl\",\"rb\"))\n",
    "print(\"Best parameters from grid search on full data set: \")\n",
    "print(\"SGD: \",best_params)"
   ]
  },
  {
   "cell_type": "code",
   "execution_count": 22,
   "id": "aboriginal-collective",
   "metadata": {},
   "outputs": [
    {
     "name": "stderr",
     "output_type": "stream",
     "text": [
      "[Parallel(n_jobs=4)]: Using backend LokyBackend with 4 concurrent workers.\n"
     ]
    },
    {
     "name": "stdout",
     "output_type": "stream",
     "text": [
      "\n",
      "\n",
      "\n",
      ">... Loading data for pixel resolution: 24.\n",
      ">... Pickle datafile successfully loaded:  01_data/01_cleaned/pic_data_dummy_toy_24.pkl\n",
      ">... Pickle dictionary sucessfully separated into individuals arrays\n",
      ">... Data sucessfully split into test and train data\n",
      "\n",
      "\n",
      "\n",
      ">... Starting Grid Search for pixel resolution: 24.\n",
      "Fitting 3 folds for each of 18 candidates, totalling 54 fits\n"
     ]
    },
    {
     "name": "stderr",
     "output_type": "stream",
     "text": [
      "[Parallel(n_jobs=4)]: Done  40 tasks      | elapsed:    6.7s\n",
      "[Parallel(n_jobs=4)]: Done  47 out of  54 | elapsed:   11.0s remaining:    1.6s\n"
     ]
    },
    {
     "name": "stdout",
     "output_type": "stream",
     "text": [
      ">... Successfully stored in: 03_output/01_training_set_evaluation/03_run_time_scores/run_time_grid_search_train_accuracy_tuned_dummy_toy_RandomForestClassifier_24.pkl\n",
      "\n",
      ">... Ending Grid Search process for classifier RandomForestClassifier(random_state=42) of pixel resolution: 24. Run-time: 21.62 seconds.\n",
      "\n",
      ">... Printing best parameters for classifer RandomForestClassifier(random_state=42) and pixel resolution 24\n",
      "\n",
      "{'bootstrap': False, 'max_features': 'auto', 'n_estimators': 10}\n",
      ">... Successfully stored best hyper parameters in: 03_output/01_training_set_evaluation/04_hypertuning_best_params/best_params_grid_search_train_accuracy_tuned_dummy_toy_RandomForestClassifier_24.pkl\n",
      "\n",
      ">... Printing best precision score for classifer RandomForestClassifier(random_state=42) and pixel resolution 24\n",
      "\n",
      "0.9696969696969697\n"
     ]
    },
    {
     "name": "stderr",
     "output_type": "stream",
     "text": [
      "[Parallel(n_jobs=4)]: Done  54 out of  54 | elapsed:   21.5s finished\n"
     ]
    }
   ],
   "source": [
    "# Random Forest Classifier\n",
    "param_grid_RandomForest = [\n",
    "    {\"n_estimators\": [10, 100, 250],\n",
    "     \"max_features\": [\"auto\", \"log2\", None],\n",
    "     \"bootstrap\": [True, False]}    \n",
    "]\n",
    "\n",
    "classifier_RandomForest_hyper = RandomForestClassifier(random_state=42)\n",
    "\n",
    "for pix in pixels:\n",
    "    hyper_tune_grid_search(classifier_x=classifier_RandomForest_hyper, param_grid=param_grid_RandomForest,\n",
    "                           pixel_res=pix,\n",
    "                           switch_case =\"train_accuracy_tuned\")"
   ]
  },
  {
   "cell_type": "markdown",
   "id": "tamil-investment",
   "metadata": {},
   "source": [
    "<a id='5_2_Eval_Train_Accuracy_tuned'></a>\n",
    "<br>\n",
    "<br>\n",
    "<br>\n",
    "<br>\n",
    "<br>\n",
    "<br>\n",
    "\n",
    "### 5.2. Evaluate accuracy tuned classifiers on train set"
   ]
  },
  {
   "cell_type": "code",
   "execution_count": 23,
   "id": "legal-tourist",
   "metadata": {},
   "outputs": [
    {
     "name": "stdout",
     "output_type": "stream",
     "text": [
      "Best parameters from grid search on full data set: \n",
      "Random Forest:  {'Grid_Search_Best_Params': {'bootstrap': False, 'max_features': 'auto', 'n_estimators': 250}}\n"
     ]
    }
   ],
   "source": [
    "best_params = pickle.load(open(\"03_output/01_training_set_evaluation/04_hypertuning_best_params/best_params_grid_search_train_accuracy_tuned_full_RandomForestClassifier_24.pkl\",\"rb\"))\n",
    "print(\"Best parameters from grid search on full data set: \")\n",
    "print(\"Random Forest: \",best_params)"
   ]
  },
  {
   "cell_type": "code",
   "execution_count": 24,
   "id": "guilty-finding",
   "metadata": {},
   "outputs": [],
   "source": [
    "# Evaluating both tuned classifers on training set\n",
    "\n",
    "### Defining classifiers ###\n",
    "# Random Forest\n",
    "classifier_RandomForest_best_tuned = RandomForestClassifier(random_state=42,\n",
    "                                                           n_estimators=250,\n",
    "                                                           max_features=\"auto\",\n",
    "                                                           bootstrap=False)\n",
    "\n",
    "# SGD\n",
    "classifier_SGD_best_tuned = SGDClassifier(random_state=42,\n",
    "                                         penalty=\"l2\",\n",
    "                                         alpha=0.01,\n",
    "                                         max_iter=100)\n",
    "\n",
    "# Combine classifiers to a list through which you can loop\n",
    "classifiers_best_tuned = [classifier_RandomForest_best_tuned, classifier_SGD_best_tuned]"
   ]
  },
  {
   "cell_type": "code",
   "execution_count": 25,
   "id": "saving-prime",
   "metadata": {},
   "outputs": [
    {
     "name": "stdout",
     "output_type": "stream",
     "text": [
      "The following pixels are available for the dummy toy data set:  [16, 24, 32, 48, 64]\n",
      "The specified pixel resolution 24 is available!\n",
      "\n",
      "\n",
      "\n",
      ">... Starting load_train_eval process for pixel resolution: 24.\n",
      ">... Pickle datafile successfully loaded:  01_data/01_cleaned/pic_data_dummy_toy_24.pkl\n",
      ">... Pickle dictionary sucessfully separated into individuals arrays\n",
      ">... Data sucessfully split into test and train data\n",
      ">... Starting evaluation of RandomForestClassifier\n",
      ">... Starting cross validation of RandomForestClassifier\n",
      ">... Calculating evaluation scores of RandomForestClassifier\n",
      ">... Precision-recall-curve not applicable for this classifier\n",
      ">... Evaluation scores successfully stored in: 03_output/01_training_set_evaluation/01_eval_scores/evaluation_scores_train_accuracy_tuned_dummy_toy_RandomForestClassifier_24.pkl\n",
      ">... Starting to create output array with error-types for more transparency for classifier RandomForestClassifier.\n",
      ">... Error table dictionary successfully stored in: 03_output/01_training_set_evaluation/02_error_tables/error_table_pd_train_accuracy_tuned_dummy_toy_RandomForestClassifier_24.pkl\n",
      ">... Evaluation of classifier RandomForestClassifier sucessfully finished in 2.23 seconds.\n",
      ">... Starting evaluation of SGDClassifier\n",
      ">... Starting cross validation of SGDClassifier\n",
      ">... Calculating evaluation scores of SGDClassifier\n",
      ">... Calculating precision, recalls and thresholds of SGDClassifier\n",
      ">... Evaluation scores successfully stored in: 03_output/01_training_set_evaluation/01_eval_scores/evaluation_scores_train_accuracy_tuned_dummy_toy_SGDClassifier_24.pkl\n",
      ">... Starting to create output array with error-types for more transparency for classifier SGDClassifier.\n",
      ">... Error table dictionary successfully stored in: 03_output/01_training_set_evaluation/02_error_tables/error_table_pd_train_accuracy_tuned_dummy_toy_SGDClassifier_24.pkl\n",
      ">... Evaluation of classifier SGDClassifier sucessfully finished in 0.06 seconds.\n",
      "\n",
      ">... Ending load_train_eval process for pixel resolution: 24. Run-time: 2.31 seconds.\n"
     ]
    }
   ],
   "source": [
    "# Actual running and evaluating of classifiers\n",
    "load_eval(pixels, classifiers_best_tuned, switch_train_test_case=\"train_accuracy_tuned\")"
   ]
  },
  {
   "cell_type": "markdown",
   "id": "interim-number",
   "metadata": {},
   "source": [
    "<a id='5_3_Show_evals_train_accuracy_tuned'></a>\n",
    "<br>\n",
    "<br>\n",
    "<br>\n",
    "<br>\n",
    "<br>\n",
    "<br>\n",
    "\n",
    "### 5.3. Show evaluations of accuracy tuned classifiers on train set"
   ]
  },
  {
   "cell_type": "code",
   "execution_count": 26,
   "id": "moral-pizza",
   "metadata": {},
   "outputs": [
    {
     "name": "stdout",
     "output_type": "stream",
     "text": [
      "Error Table not selected by user.\n",
      "Confusion matrix not selected by user.\n",
      ">... Eval metrics pickle file successfully loaded for RandomForestClassifier, pixel resolution 24 and switch case train_accuracy_tuned\n",
      ">... Eval metrics pickle file successfully loaded for SGDClassifier, pixel resolution 24 and switch case train_accuracy_tuned\n",
      ">... Display eval metrics table for pixel resolution 24 and switch case train_accuracy_tuned\n",
      "\n",
      "\n",
      "                         RandomForestClassifier          SGDClassifier\n",
      "precision score                           0.946                  0.934\n",
      "recall score                              0.967                  0.934\n",
      "cross validation scores    [0.951, 0.95, 0.967]  [0.951, 0.883, 0.967]\n",
      "cross validation mean                     0.956                  0.934\n",
      "cross validation std                    0.00779                0.03642\n",
      "eval run time in seconds                  2.228                  0.058 \n",
      "\n",
      "\n",
      "Precision recall plots not selected by user.\n"
     ]
    }
   ],
   "source": [
    "# Show evaluations: Evaluation Metrics\n",
    "for pix in pixels:\n",
    "    show_evals(pixel_res=pix, switch_case=\"train_accuracy_tuned\", eval_metrics=True)"
   ]
  },
  {
   "cell_type": "code",
   "execution_count": 27,
   "id": "proved-disney",
   "metadata": {
    "scrolled": true
   },
   "outputs": [
    {
     "name": "stdout",
     "output_type": "stream",
     "text": [
      "Error Table not selected by user.\n",
      ">... Eval metrics pickle file successfully loaded for RandomForestClassifier, pixel resolution 24 and switch case train_accuracy_tuned\n",
      ">... Displaying confusion matrix for switch case train_accuracy_tuned, of RandomForestClassifier with pixel resolution 24\n",
      ">... Saving figure Confusion_Matrix_train_accuracy_tuned_dummy_toy_RandomForestClassifier_24\n"
     ]
    },
    {
     "data": {
      "image/png": "[encoded data removed]",
      "text/plain": [
       "<Figure size 360x360 with 1 Axes>"
      ]
     },
     "metadata": {
      "needs_background": "light"
     },
     "output_type": "display_data"
    },
    {
     "name": "stdout",
     "output_type": "stream",
     "text": [
      ">... Eval metrics pickle file successfully loaded for SGDClassifier, pixel resolution 24 and switch case train_accuracy_tuned\n",
      ">... Displaying confusion matrix for switch case train_accuracy_tuned, of SGDClassifier with pixel resolution 24\n",
      ">... Saving figure Confusion_Matrix_train_accuracy_tuned_dummy_toy_SGDClassifier_24\n"
     ]
    },
    {
     "data": {
      "image/png": "[encoded data removed]",
      "text/plain": [
       "<Figure size 360x360 with 1 Axes>"
      ]
     },
     "metadata": {
      "needs_background": "light"
     },
     "output_type": "display_data"
    },
    {
     "name": "stdout",
     "output_type": "stream",
     "text": [
      "Eval metrics not selected by user.\n",
      "Precision recall plots not selected by user.\n"
     ]
    }
   ],
   "source": [
    "# Show evaluations: Confusion Metrics\n",
    "for pix in pixels:\n",
    "    show_evals(pixel_res=pix, switch_case=\"train_accuracy_tuned\", conf_matrix=True)"
   ]
  },
  {
   "cell_type": "code",
   "execution_count": 28,
   "id": "certified-penny",
   "metadata": {},
   "outputs": [
    {
     "name": "stdout",
     "output_type": "stream",
     "text": [
      "Error Table not selected by user.\n",
      "Confusion matrix not selected by user.\n",
      "Eval metrics not selected by user.\n",
      ">... Precision Recall plot not available for RandomForestClassifier!\n",
      ">... Eval metrics pickle file successfully loaded for SGDClassifier, pixel resolution 24 and switch case train_accuracy_tuned\n",
      ">... Extracting Metrics into Dataframe of classifier SGDClassifier\n",
      ">... Plot precision-recall curve for SGDClassifier, pixel resolution 24 and switch case train_accuracy_tuned\n",
      ">... Saving figure Precision_Recall_Plot_train_accuracy_tuned_dummy_toy_SGDClassifier_24\n"
     ]
    },
    {
     "data": {
      "image/png": "[encoded data removed]",
      "text/plain": [
       "<Figure size 576x288 with 1 Axes>"
      ]
     },
     "metadata": {
      "needs_background": "light"
     },
     "output_type": "display_data"
    }
   ],
   "source": [
    "# Show evaluations: Precision Recall Plot\n",
    "for pix in pixels:\n",
    "    show_evals(pixel_res=pix, switch_case=\"train_accuracy_tuned\", prec_recall_plot_switch=True)"
   ]
  },
  {
   "cell_type": "markdown",
   "id": "casual-permission",
   "metadata": {},
   "source": [
    "<a id='5_4_Voting_Classifier'></a>\n",
    "<br>\n",
    "<br>\n",
    "<br>\n",
    "<br>\n",
    "<br>\n",
    "\n",
    "### 5.4. Voting Classifier (not used in final report)\n",
    "\n",
    "In principal voting classifiers can improve the accuracy, by combining several weaker classifiers with a voting scheme. However, as both classifiers are both performing very well already and a voting classifier would only need more time than the individual classifiers, we are not further investigating this part."
   ]
  },
  {
   "cell_type": "code",
   "execution_count": 29,
   "id": "optical-strategy",
   "metadata": {},
   "outputs": [
    {
     "name": "stdout",
     "output_type": "stream",
     "text": [
      "Best parameters from grid search on full data set: \n",
      "Random Forest:  {'Grid_Search_Best_Params': {'bootstrap': False, 'max_features': 'auto', 'n_estimators': 250}}\n",
      "Best parameters from grid search on full data set: \n",
      "SGD:  {'Grid_Search_Best_Params': {'alpha': 0.01, 'max_iter': 100, 'penalty': 'l2'}}\n"
     ]
    }
   ],
   "source": [
    "# Output best_params again\n",
    "\n",
    "best_params = pickle.load(open(\"03_output/01_training_set_evaluation/04_hypertuning_best_params/best_params_grid_search_train_accuracy_tuned_full_RandomForestClassifier_24.pkl\",\"rb\"))\n",
    "print(\"Best parameters from grid search on full data set: \")\n",
    "print(\"Random Forest: \",best_params)\n",
    "\n",
    "best_params = pickle.load(open(\"03_output/01_training_set_evaluation/04_hypertuning_best_params/best_params_grid_search_train_accuracy_tuned_full_SGDClassifier_24.pkl\",\"rb\"))\n",
    "print(\"Best parameters from grid search on full data set: \")\n",
    "print(\"SGD: \",best_params)\n"
   ]
  },
  {
   "cell_type": "code",
   "execution_count": 30,
   "id": "muslim-lemon",
   "metadata": {},
   "outputs": [],
   "source": [
    "# Implementing Voting Classifier\n",
    "# Importing necessary libraries\n",
    "from sklearn.ensemble import VotingClassifier\n",
    "\n",
    "### Defining classifiers ###\n",
    "\n",
    "# Set hyper-parameters to best tuned classifiers\n",
    "\n",
    "# Random Forest\n",
    "classifier_RandomForest_voting = RandomForestClassifier(random_state=42,\n",
    "                                                           n_estimators=250,\n",
    "                                                           max_features=\"auto\",\n",
    "                                                           bootstrap=False)\n",
    "\n",
    "# SGD\n",
    "classifier_SGD_voting = SGDClassifier(random_state=42,\n",
    "                                         penalty=\"l2\",\n",
    "                                         alpha=0.01,\n",
    "                                         max_iter=100)\n",
    "\n",
    "\n",
    "# Combine classifiers to a voting classifier\n",
    "voting_clasf=VotingClassifier(\n",
    "    estimators=[classifier_RandomForest_voting, classifier_SGD_voting],\n",
    "    voting='soft')\n",
    "\n",
    "classifiers_voting= [voting_clasf]"
   ]
  },
  {
   "cell_type": "code",
   "execution_count": 31,
   "id": "functional-economy",
   "metadata": {},
   "outputs": [],
   "source": [
    "# Actual running and evaluating of classifiers\n",
    "# load_eval(pixels, classifiers_voting, switch_train_test_case=\"train_accuracy_tuned\")"
   ]
  },
  {
   "cell_type": "markdown",
   "id": "wrapped-motorcycle",
   "metadata": {},
   "source": [
    "<a id='5_5_SGD_Bagging_Classifier'></a>\n",
    "<br>\n",
    "<br>\n",
    "<br>\n",
    "<br>\n",
    "<br>\n",
    "\n",
    "### 5.5. SGD Bagging Classifier (not used in final report)\n",
    "\n",
    "A bagging classifier can in principal improve a classifier by training it on different subset of the data set. As a Random Forest Classifier is in principal a Bagging Classifier of Decision Tree Classifiers there will only be small improvements for this classifier. Thus, in our case only the SGD Classifier might be worth considering for Bagging. However, as this increases considerable the run-time and the SGD Classifier is our best pick for fastet run-time we don't investigate this further - also because the scope our project is limited. Below is the code with which you can test the code."
   ]
  },
  {
   "cell_type": "code",
   "execution_count": 32,
   "id": "expressed-restoration",
   "metadata": {},
   "outputs": [
    {
     "name": "stdout",
     "output_type": "stream",
     "text": [
      "Best parameters from grid search on full data set: \n",
      "SGD:  {'Grid_Search_Best_Params': {'alpha': 0.01, 'max_iter': 100, 'penalty': 'l2'}}\n"
     ]
    }
   ],
   "source": [
    "best_params = pickle.load(open(\"03_output/01_training_set_evaluation/04_hypertuning_best_params/best_params_grid_search_train_accuracy_tuned_full_SGDClassifier_24.pkl\",\"rb\"))\n",
    "print(\"Best parameters from grid search on full data set: \")\n",
    "print(\"SGD: \",best_params)\n"
   ]
  },
  {
   "cell_type": "code",
   "execution_count": 33,
   "id": "passing-graph",
   "metadata": {},
   "outputs": [],
   "source": [
    "# Bagging Classifier\n",
    "\n",
    "# Import Libraries\n",
    "from sklearn.ensemble import BaggingClassifier\n",
    "\n",
    "# SGD\n",
    "classifier_SGD_voting = SGDClassifier(random_state=42,\n",
    "                                         penalty=\"l2\",\n",
    "                                         alpha=0.01,\n",
    "                                         max_iter=100) \n",
    "\n",
    "bag_clf = BaggingClassifier(\n",
    "    classifier_SGD_voting, n_estimators=50, max_samples=50, bootstrap=True, n_jobs=4, oob_score=True\n",
    ")\n",
    "\n",
    "classifiers_bagging= [bag_clf]"
   ]
  },
  {
   "cell_type": "code",
   "execution_count": 34,
   "id": "guided-ideal",
   "metadata": {},
   "outputs": [],
   "source": [
    "# Actual running and evaluating of classifiers\n",
    "# load_eval(pixels, classifiers_bagging, switch_train_test_case=\"train_accuracy_tuned\")"
   ]
  },
  {
   "cell_type": "markdown",
   "id": "committed-production",
   "metadata": {},
   "source": [
    "<a id='6_Speed_improvements'></a>\n",
    "<br>\n",
    "<br>\n",
    "<br>\n",
    "<br>\n",
    "<br>\n",
    "<br>\n",
    "<br>\n",
    "<br>\n",
    "<br>\n",
    "<br>\n",
    "<br>\n",
    "<br>\n",
    "\n",
    "## 6. Speed improvements (dimensionality reduction)"
   ]
  },
  {
   "cell_type": "markdown",
   "id": "prompt-composition",
   "metadata": {},
   "source": [
    "<a id='6_1_Feature_importance'></a>\n",
    "<br>\n",
    "<br>\n",
    "<br>\n",
    "<br>\n",
    "<br>\n",
    "<br>\n",
    "\n",
    "### 6.1. Plotting feature importance\n",
    "\n",
    "Frist step of dimensionality reduction is get an understanding of the feature importance (i.e. the importance of every pixel). The code below implements the feature importance for the Random Forest Classifier."
   ]
  },
  {
   "cell_type": "code",
   "execution_count": 35,
   "id": "golden-dimension",
   "metadata": {
    "run_control": {
     "marked": false
    }
   },
   "outputs": [],
   "source": [
    "# Run classifiers again, if not still saved\n",
    "\n",
    "### Defining classifiers ###\n",
    "# Importing all classifiers again (for running only hyper-parameter tuning)\n",
    "from sklearn.ensemble import RandomForestClassifier\n",
    "from sklearn.linear_model import SGDClassifier\n",
    "\n",
    "# Random Forest\n",
    "classifier_RandomForest_dim_red = RandomForestClassifier(random_state=42,\n",
    "                                                           n_estimators=250,\n",
    "                                                           max_features=\"auto\",\n",
    "                                                           bootstrap=False)\n",
    "\n"
   ]
  },
  {
   "cell_type": "code",
   "execution_count": 36,
   "id": "duplicate-indian",
   "metadata": {},
   "outputs": [
    {
     "name": "stdout",
     "output_type": "stream",
     "text": [
      "The following pixels are available for the dummy toy data set:  [16, 24, 32, 48, 64]\n",
      "The specified pixel resolution 24 is available!\n",
      ">... Pickle datafile successfully loaded:  01_data/01_cleaned/pic_data_dummy_toy_24.pkl\n",
      ">... Pickle dictionary sucessfully separated into individuals arrays\n",
      ">... Data sucessfully split into test and train data\n",
      ">... RandomForestClassifier successfully trained.\n",
      "\n",
      ">... Ending loading and training process for pixel resolution: 24.\n"
     ]
    }
   ],
   "source": [
    "# Check Pixels\n",
    "pix_res = 24\n",
    "check_pixels([pix_res])\n",
    "\n",
    "# Load\n",
    "rgb_data_train, rgb_data_test, labels_train, labels_test, pic_ids_train, pic_ids_test = load_data(pix_res)\n",
    "\n",
    "# Train\n",
    "classifier_RandomForest_dim_red.fit(rgb_data_train, labels_train)\n",
    "print(\">... {} successfully trained.\".format(classifier_RandomForest_dim_red.__class__.__name__))\n",
    "#Output message\n",
    "print(\"\\n>... Ending loading and training process for pixel resolution: {}.\".format(pix_res))"
   ]
  },
  {
   "cell_type": "code",
   "execution_count": 37,
   "id": "resistant-showcase",
   "metadata": {},
   "outputs": [],
   "source": [
    "# Defining the function to plot the digits of feature importance\n",
    "# Adapted from Aurelien Geron:\n",
    "def plot_digit(data):\n",
    "    image = data.reshape(pix_res, pix_res)\n",
    "    plt.imshow(image, cmap = mpl.cm.hot,\n",
    "               interpolation=\"nearest\")\n",
    "    plt.axis(\"off\")"
   ]
  },
  {
   "cell_type": "code",
   "execution_count": 38,
   "id": "medium-rally",
   "metadata": {},
   "outputs": [],
   "source": [
    "# Adding feature importances from 3 RGB values to one pixel\n",
    "feature_imp_sum = np.empty([(int(len(classifier_RandomForest_dim_red.feature_importances_)/3)),])\n",
    "\n",
    "for itr in range(int(len(classifier_RandomForest_dim_red.feature_importances_)/3)):\n",
    "    r = int(itr*3)\n",
    "    g = int(r+1)\n",
    "    b = int(g+1)\n",
    "    feature_imp_sum[itr] = classifier_RandomForest_dim_red.feature_importances_[r] + classifier_RandomForest_dim_red.feature_importances_[g] + classifier_RandomForest_dim_red.feature_importances_[b]"
   ]
  },
  {
   "cell_type": "code",
   "execution_count": 39,
   "id": "anonymous-magic",
   "metadata": {},
   "outputs": [
    {
     "name": "stdout",
     "output_type": "stream",
     "text": [
      ">... Saving figure RandomForest_feature_importance_plot_dummy_toy_data\n"
     ]
    },
    {
     "data": {
      "image/png": "[encoded data removed]",
      "text/plain": [
       "<Figure size 432x288 with 2 Axes>"
      ]
     },
     "metadata": {
      "needs_background": "light"
     },
     "output_type": "display_data"
    }
   ],
   "source": [
    "# Plotting feature importance sum for every pixel to a plot and save it\n",
    "plot_digit(feature_imp_sum)\n",
    "\n",
    "cbar = plt.colorbar(ticks=[feature_imp_sum.min(), feature_imp_sum.max()])\n",
    "cbar.ax.set_yticklabels(['Not important', 'Very important'])\n",
    "if full_data_switch_on == True:\n",
    "    save_fig(\"RandomForest_feature_importance_plot_full_data\")\n",
    "elif full_data_switch_on == False:\n",
    "    save_fig(\"RandomForest_feature_importance_plot_dummy_toy_data\")\n",
    "else:\n",
    "    raise ValueError(\"Full data switch not correctly defined: Binary value of True or False necessary\")\n",
    "plt.show()"
   ]
  },
  {
   "cell_type": "markdown",
   "id": "affecting-imagination",
   "metadata": {},
   "source": [
    "As can be seen from the plot above only a small number of pixels (i.e. features) are taken into account during the classification. Thus a dimensionality reduction will be highly beneficial in terms of run-time."
   ]
  },
  {
   "cell_type": "markdown",
   "id": "seasonal-arthur",
   "metadata": {},
   "source": [
    "<a id='6_2_PCA'></a>\n",
    "<br>\n",
    "<br>\n",
    "<br>\n",
    "<br>\n",
    "<br>\n",
    "<br>\n",
    "\n",
    "### 6.2. Principal Component Analysis (PCA)\n",
    "\n",
    "This part implements within severel of steps a Principal Component Analysis in order to reduce the dimensionality of the data set to improve the processing speed."
   ]
  },
  {
   "cell_type": "code",
   "execution_count": 40,
   "id": "appreciated-musical",
   "metadata": {},
   "outputs": [
    {
     "name": "stdout",
     "output_type": "stream",
     "text": [
      "The following pixels are available for the dummy toy data set:  [16, 24, 32, 48, 64]\n",
      "The specified pixel resolution 24 is available!\n",
      ">... Pickle datafile successfully loaded:  01_data/01_cleaned/pic_data_dummy_toy_24.pkl\n",
      ">... Pickle dictionary sucessfully separated into individuals arrays\n"
     ]
    }
   ],
   "source": [
    "# Loading data set again and split into test and training set.\n",
    "pix_res = 24\n",
    "check_pixels([pix_res])\n",
    "\n",
    "### Loading full data-set without splitting into test and train ###\n",
    "# Define datafile path\n",
    "if full_data_switch_on == True:\n",
    "    DATAFILE_PATH = os.path.join(PATH_CLEANED_DATA + \"/pic_data_full_\" + str(pix_res) + \".pkl\")\n",
    "elif full_data_switch_on == False:\n",
    "    DATAFILE_PATH = os.path.join(PATH_CLEANED_DATA + \"/pic_data_dummy_toy_\" + str(pix_res) + \".pkl\")\n",
    "else:\n",
    "    raise ValueError(\"Full data switch not correctly defined: Binary value of True or False necessary\")\n",
    "\n",
    "# Load pickle file\n",
    "pic_data = pickle.load(open(DATAFILE_PATH,\"rb\"))\n",
    "print(\">... Pickle datafile successfully loaded: \", DATAFILE_PATH)\n",
    "\n",
    "# Copying dictionary data into separate data frames\n",
    "rgb_data, labels, pic_ids = pic_data[\"rgb_data\"], pic_data[\"labels\"], pic_data[\"pic_ids\"]\n",
    "print(\">... Pickle dictionary sucessfully separated into individuals arrays\")"
   ]
  },
  {
   "cell_type": "code",
   "execution_count": 41,
   "id": "declared-fourth",
   "metadata": {},
   "outputs": [
    {
     "data": {
      "text/plain": [
       "(202, 1728)"
      ]
     },
     "execution_count": 41,
     "metadata": {},
     "output_type": "execute_result"
    }
   ],
   "source": [
    "rgb_data.shape"
   ]
  },
  {
   "cell_type": "code",
   "execution_count": 42,
   "id": "precise-validity",
   "metadata": {},
   "outputs": [],
   "source": [
    "# Defining how much variance you want to have explained:\n",
    "threshold = 0.95\n",
    "\n",
    "pca = PCA()\n",
    "pca.fit(rgb_data)\n",
    "cumsum = np.cumsum(pca.explained_variance_ratio_)\n",
    "d = np.argmax(cumsum >= threshold) + 1"
   ]
  },
  {
   "cell_type": "code",
   "execution_count": 43,
   "id": "finnish-daniel",
   "metadata": {},
   "outputs": [
    {
     "name": "stdout",
     "output_type": "stream",
     "text": [
      "Features necessary to explain 95.0% variance: 63\n"
     ]
    }
   ],
   "source": [
    "# Showing number of features necessary to reach 95% variance explained\n",
    "print(\"Features necessary to explain {}% variance: {}\".format(threshold*100, d))"
   ]
  },
  {
   "cell_type": "code",
   "execution_count": 44,
   "id": "spare-debate",
   "metadata": {},
   "outputs": [
    {
     "name": "stdout",
     "output_type": "stream",
     "text": [
      ">... Saving figure explained_variance_plot_dummy_toy_data\n"
     ]
    },
    {
     "data": {
      "image/png": "[encoded data removed]",
      "text/plain": [
       "<Figure size 432x288 with 1 Axes>"
      ]
     },
     "metadata": {
      "needs_background": "light"
     },
     "output_type": "display_data"
    }
   ],
   "source": [
    "plt.figure(figsize=(6,4))\n",
    "plt.plot(cumsum, linewidth=3)\n",
    "plt.axis([0, rgb_data.shape[1], 0, 1])\n",
    "plt.xlabel(\"Features\")\n",
    "plt.ylabel(\"Explained Variance\")\n",
    "plt.plot([d, d], [0, threshold], \"k:\")\n",
    "plt.plot([0, d], [threshold, threshold], \"k:\")\n",
    "plt.plot(d, threshold, \"ko\")\n",
    "plt.grid(True)\n",
    "if full_data_switch_on == True:\n",
    "    save_fig(\"explained_variance_plot_full_data\")\n",
    "elif full_data_switch_on == False:\n",
    "    save_fig(\"explained_variance_plot_dummy_toy_data\")\n",
    "else:\n",
    "    raise ValueError(\"Full data switch not correctly defined: Binary value of True or False necessary\")\n",
    "plt.show()"
   ]
  },
  {
   "cell_type": "markdown",
   "id": "level-absorption",
   "metadata": {},
   "source": [
    "As you can see by the plot above a lot of dimensions are unnecessary for the purpose of variance explanation. Thus we can reduce the dimensionality heavily and still have a rather high accuracy."
   ]
  },
  {
   "cell_type": "code",
   "execution_count": 45,
   "id": "seeing-component",
   "metadata": {},
   "outputs": [],
   "source": [
    "# Finally: Reducing the original data set\n",
    "pca = PCA(n_components=threshold)\n",
    "rgb_data_reduced = pca.fit_transform(rgb_data)"
   ]
  },
  {
   "cell_type": "markdown",
   "id": "grateful-frontier",
   "metadata": {},
   "source": [
    "<a id='6_3_eval_train_speed_tuned'></a>\n",
    "<br>\n",
    "<br>\n",
    "<br>\n",
    "<br>\n",
    "<br>\n",
    "<br>\n",
    "\n",
    "### 6.3. Evaluate speed tuned classifiers on train set"
   ]
  },
  {
   "cell_type": "code",
   "execution_count": 46,
   "id": "opponent-darwin",
   "metadata": {},
   "outputs": [
    {
     "name": "stdout",
     "output_type": "stream",
     "text": [
      ">... Data sucessfully split into test and train data\n"
     ]
    }
   ],
   "source": [
    "# Splitting data into train and test\n",
    "from sklearn.model_selection import train_test_split\n",
    "rgb_data_train, rgb_data_test, rgb_data_reduced_train, rgb_data_reduced_test, labels_train, labels_test, pic_ids_train, pic_ids_test = train_test_split(rgb_data, rgb_data_reduced, labels, pic_ids, test_size=0.10, random_state=42)\n",
    "print(\">... Data sucessfully split into test and train data\")\n",
    "\n",
    "# redefining labels as True False\n",
    "labels_train_tf = (labels_train == 1)\n",
    "labels_test_tf = (labels_test == 1)"
   ]
  },
  {
   "cell_type": "code",
   "execution_count": 47,
   "id": "laden-portland",
   "metadata": {},
   "outputs": [
    {
     "name": "stdout",
     "output_type": "stream",
     "text": [
      "Best parameters from grid search on full data set: \n",
      "Random Forest:  {'Grid_Search_Best_Params': {'bootstrap': False, 'max_features': 'auto', 'n_estimators': 250}}\n",
      "Best parameters from grid search on full data set: \n",
      "SGD:  {'Grid_Search_Best_Params': {'alpha': 0.01, 'max_iter': 100, 'penalty': 'l2'}}\n"
     ]
    }
   ],
   "source": [
    "# Output best_params again\n",
    "\n",
    "best_params = pickle.load(open(\"03_output/01_training_set_evaluation/04_hypertuning_best_params/best_params_grid_search_train_accuracy_tuned_full_RandomForestClassifier_24.pkl\",\"rb\"))\n",
    "print(\"Best parameters from grid search on full data set: \")\n",
    "print(\"Random Forest: \",best_params)\n",
    "\n",
    "best_params = pickle.load(open(\"03_output/01_training_set_evaluation/04_hypertuning_best_params/best_params_grid_search_train_accuracy_tuned_full_SGDClassifier_24.pkl\",\"rb\"))\n",
    "print(\"Best parameters from grid search on full data set: \")\n",
    "print(\"SGD: \",best_params)\n"
   ]
  },
  {
   "cell_type": "code",
   "execution_count": 48,
   "id": "silent-fence",
   "metadata": {},
   "outputs": [],
   "source": [
    "# Defining classifiers again\n",
    "\n",
    "### Defining classifiers ###\n",
    "# Importing all classifiers again (if not still in memory)\n",
    "from sklearn.ensemble import RandomForestClassifier\n",
    "from sklearn.linear_model import SGDClassifier\n",
    "\n",
    "# Note: The hyperparameters from accuracy grid search are used - see report for more infos\n",
    "\n",
    "# Random Forest\n",
    "classifier_RandomForest_speed_tuned = RandomForestClassifier(random_state=42,\n",
    "                                                           n_estimators=250,\n",
    "                                                           max_features=\"auto\",\n",
    "                                                           bootstrap=False)\n",
    "\n",
    "# SGD\n",
    "classifier_SGD_speed_tuned = SGDClassifier(random_state=42,\n",
    "                                         penalty=\"l2\",\n",
    "                                         alpha=0.01,\n",
    "                                         max_iter=1000)\n",
    "\n",
    "# Combine classifiers to a list through which you can loop\n",
    "classifiers_speed_tuned= [classifier_RandomForest_speed_tuned, classifier_SGD_speed_tuned]"
   ]
  },
  {
   "cell_type": "code",
   "execution_count": 49,
   "id": "alive-blast",
   "metadata": {},
   "outputs": [
    {
     "name": "stdout",
     "output_type": "stream",
     "text": [
      ">... Starting training of RandomForestClassifier\n",
      "Successfully stored in: 03_output/01_training_set_evaluation/03_run_time_scores/run_time_training_classifier_train_speed_tuned_dummy_toy_RandomForestClassifier_24.pkl\n",
      ">... Classifier RandomForestClassifier sucessfully trained in 0.365 seconds.\n",
      ">... Starting evaluation of RandomForestClassifier\n",
      ">... Starting cross validation of RandomForestClassifier\n",
      ">... Calculating evaluation scores of RandomForestClassifier\n",
      ">... Precision-recall-curve not applicable for this classifier\n",
      ">... Evaluation scores successfully stored in: 03_output/01_training_set_evaluation/01_eval_scores/evaluation_scores_train_speed_tuned_dummy_toy_RandomForestClassifier_24.pkl\n",
      ">... Starting to create output array with error-types for more transparency for classifier RandomForestClassifier.\n",
      ">... Error table dictionary successfully stored in: 03_output/01_training_set_evaluation/02_error_tables/error_table_pd_train_speed_tuned_dummy_toy_RandomForestClassifier_24.pkl\n",
      ">... Evaluation of classifier RandomForestClassifier sucessfully finished in 1.47 seconds.\n",
      ">... Starting training of SGDClassifier\n",
      "Successfully stored in: 03_output/01_training_set_evaluation/03_run_time_scores/run_time_training_classifier_train_speed_tuned_dummy_toy_SGDClassifier_24.pkl\n",
      ">... Classifier SGDClassifier sucessfully trained in 0.001 seconds.\n",
      ">... Starting evaluation of SGDClassifier\n",
      ">... Starting cross validation of SGDClassifier\n",
      ">... Calculating evaluation scores of SGDClassifier\n",
      ">... Calculating precision, recalls and thresholds of SGDClassifier\n",
      ">... Evaluation scores successfully stored in: 03_output/01_training_set_evaluation/01_eval_scores/evaluation_scores_train_speed_tuned_dummy_toy_SGDClassifier_24.pkl\n",
      ">... Starting to create output array with error-types for more transparency for classifier SGDClassifier.\n",
      ">... Error table dictionary successfully stored in: 03_output/01_training_set_evaluation/02_error_tables/error_table_pd_train_speed_tuned_dummy_toy_SGDClassifier_24.pkl\n",
      ">... Evaluation of classifier SGDClassifier sucessfully finished in 0.01 seconds.\n"
     ]
    }
   ],
   "source": [
    "# Train and Evaluate classifiers on new, reduced test set\n",
    "for pix in pixels:\n",
    "    for clasf in classifiers_speed_tuned:\n",
    "        train_clasf(classifier_x=clasf,\n",
    "                    rgb_train=rgb_data_reduced_train,\n",
    "                    labels_train=labels_train_tf,\n",
    "                    pixel_res=pix,\n",
    "                    switch_case=\"train_speed_tuned\")\n",
    "\n",
    "\n",
    "        eval_clasf(classifier_x=clasf,\n",
    "                   rgb_data=rgb_data_reduced_train,\n",
    "                   labels=labels_train_tf,\n",
    "                   pic_ids=pic_ids_train,\n",
    "                   pixel_res=pix,\n",
    "                   switch_case=\"train_speed_tuned\")"
   ]
  },
  {
   "cell_type": "markdown",
   "id": "sublime-moldova",
   "metadata": {},
   "source": [
    "<a id='6_4_show_evals_train_speed_tuned'></a>\n",
    "<br>\n",
    "<br>\n",
    "<br>\n",
    "<br>\n",
    "<br>\n",
    "<br>\n",
    "\n",
    "### 6.4. Show evaluations of speed tuned classifiers on train set"
   ]
  },
  {
   "cell_type": "code",
   "execution_count": 50,
   "id": "round-labor",
   "metadata": {},
   "outputs": [
    {
     "name": "stdout",
     "output_type": "stream",
     "text": [
      "Error Table not selected by user.\n",
      "Confusion matrix not selected by user.\n",
      ">... Eval metrics pickle file successfully loaded for SGDClassifier, pixel resolution 24 and switch case train_speed_tuned\n",
      ">... Eval metrics pickle file successfully loaded for RandomForestClassifier, pixel resolution 24 and switch case train_speed_tuned\n",
      ">... Display eval metrics table for pixel resolution 24 and switch case train_speed_tuned\n",
      "\n",
      "\n",
      "                                SGDClassifier RandomForestClassifier\n",
      "precision score                         0.946                  0.667\n",
      "recall score                            0.967                  0.681\n",
      "cross validation scores   [0.967, 0.95, 0.95]   [0.721, 0.65, 0.633]\n",
      "cross validation mean                   0.956                  0.668\n",
      "cross validation std                  0.00801                0.03811\n",
      "eval run time in seconds                0.014                  1.466 \n",
      "\n",
      "\n",
      "Precision recall plots not selected by user.\n"
     ]
    }
   ],
   "source": [
    "# Show evaluations: Evaluation Metrics\n",
    "for pix in pixels:\n",
    "    show_evals(pixel_res=pix, switch_case=\"train_speed_tuned\", eval_metrics=True)"
   ]
  },
  {
   "cell_type": "code",
   "execution_count": 51,
   "id": "devoted-microwave",
   "metadata": {
    "scrolled": true
   },
   "outputs": [
    {
     "name": "stdout",
     "output_type": "stream",
     "text": [
      "Error Table not selected by user.\n",
      ">... Eval metrics pickle file successfully loaded for SGDClassifier, pixel resolution 24 and switch case train_speed_tuned\n",
      ">... Displaying confusion matrix for switch case train_speed_tuned, of SGDClassifier with pixel resolution 24\n",
      ">... Saving figure Confusion_Matrix_train_speed_tuned_dummy_toy_SGDClassifier_24\n"
     ]
    },
    {
     "data": {
      "image/png": "[encoded data removed]",
      "text/plain": [
       "<Figure size 360x360 with 1 Axes>"
      ]
     },
     "metadata": {
      "needs_background": "light"
     },
     "output_type": "display_data"
    },
    {
     "name": "stdout",
     "output_type": "stream",
     "text": [
      ">... Eval metrics pickle file successfully loaded for RandomForestClassifier, pixel resolution 24 and switch case train_speed_tuned\n",
      ">... Displaying confusion matrix for switch case train_speed_tuned, of RandomForestClassifier with pixel resolution 24\n",
      ">... Saving figure Confusion_Matrix_train_speed_tuned_dummy_toy_RandomForestClassifier_24\n"
     ]
    },
    {
     "data": {
      "image/png": "[encoded data removed]",
      "text/plain": [
       "<Figure size 360x360 with 1 Axes>"
      ]
     },
     "metadata": {
      "needs_background": "light"
     },
     "output_type": "display_data"
    },
    {
     "name": "stdout",
     "output_type": "stream",
     "text": [
      "Eval metrics not selected by user.\n",
      "Precision recall plots not selected by user.\n"
     ]
    }
   ],
   "source": [
    "# Show evaluations: Confusion Metrics\n",
    "for pix in pixels:\n",
    "    show_evals(pixel_res=pix, switch_case=\"train_speed_tuned\", conf_matrix=True)"
   ]
  },
  {
   "cell_type": "code",
   "execution_count": 52,
   "id": "different-consideration",
   "metadata": {},
   "outputs": [
    {
     "name": "stdout",
     "output_type": "stream",
     "text": [
      "Error Table not selected by user.\n",
      "Confusion matrix not selected by user.\n",
      "Eval metrics not selected by user.\n",
      ">... Eval metrics pickle file successfully loaded for SGDClassifier, pixel resolution 24 and switch case train_speed_tuned\n",
      ">... Extracting Metrics into Dataframe of classifier SGDClassifier\n",
      ">... Plot precision-recall curve for SGDClassifier, pixel resolution 24 and switch case train_speed_tuned\n",
      ">... Saving figure Precision_Recall_Plot_train_speed_tuned_dummy_toy_SGDClassifier_24\n"
     ]
    },
    {
     "data": {
      "image/png": "[encoded data removed]",
      "text/plain": [
       "<Figure size 576x288 with 1 Axes>"
      ]
     },
     "metadata": {
      "needs_background": "light"
     },
     "output_type": "display_data"
    },
    {
     "name": "stdout",
     "output_type": "stream",
     "text": [
      ">... Precision Recall plot not available for RandomForestClassifier!\n"
     ]
    }
   ],
   "source": [
    "# Show evaluations: Precision Recall Plots\n",
    "for pix in pixels:\n",
    "    show_evals(pixel_res=pix, switch_case=\"train_speed_tuned\", prec_recall_plot_switch=True)"
   ]
  },
  {
   "cell_type": "markdown",
   "id": "increased-approval",
   "metadata": {},
   "source": [
    "<a id='6_5_second_round_hypertuning'></a>\n",
    "<br>\n",
    "<br>\n",
    "<br>\n",
    "<br>\n",
    "<br>\n",
    "<br>\n",
    "\n",
    "### 6.5. Second round of hyperparamter tuning (not used in final report)\n",
    "\n",
    "In principal a new round of accuracy hyper-parameter tuning could be performed here, because the classifiers might perform better on the reduced feature data set with slightly different set of hyperparameters. However, as the accuarcy loss due to the PCA is not very large for the full data set, we are not following up on that here due to run-time and scope limitations of our project. "
   ]
  },
  {
   "cell_type": "code",
   "execution_count": null,
   "id": "south-ukraine",
   "metadata": {},
   "outputs": [],
   "source": []
  },
  {
   "cell_type": "markdown",
   "id": "funky-bunny",
   "metadata": {},
   "source": [
    "<a id='6_6_Different_pixel_resolutions'></a>\n",
    "<br>\n",
    "<br>\n",
    "<br>\n",
    "<br>\n",
    "<br>\n",
    "<br>\n",
    "\n",
    "### 6.6. Using different pixel resolution as input to improve speed (not used in final report)\n",
    "\n",
    "In principal different Pixel Resolutions can have an effect on the accuracy and speed as well. The whole project is performed with a 24x24 pixel resolution. However, also a 16x16 and a 32x32 pixel resolution is available for the full data set and others can be calculated with the data collection processing Jupyter Notebook. As we are time constraint in our project, and an additional run of the whole pipeline with a different pixel-resolution takes a lot of run-time we decided to stick with the originally chosen input resolution. The code in this notebook allows to follow-up on this topic in the future as everything is written that different pixel resolutions can easily be tested. The question to answer here in the future is: Does a higher pixel resolution leads a higher accuracy, even though a PCA is used, and how much additional run-time do we have to invest."
   ]
  },
  {
   "cell_type": "code",
   "execution_count": null,
   "id": "revolutionary-publicity",
   "metadata": {},
   "outputs": [],
   "source": []
  },
  {
   "cell_type": "markdown",
   "id": "median-equity",
   "metadata": {},
   "source": [
    "<a id='7_Test_evaluation'></a>\n",
    "<br>\n",
    "<br>\n",
    "<br>\n",
    "<br>\n",
    "<br>\n",
    "<br>\n",
    "\n",
    "## 7. Final evaluation on test set\n",
    "\n",
    "In the following code chunks the performance on the test set is evaluated. In the first part both classifiers are trained and tested on the data set with all features included. In the second part both classifiers are trained and tested against a data set that include only the features that account for 95% of the variance of the data set."
   ]
  },
  {
   "cell_type": "code",
   "execution_count": 53,
   "id": "vulnerable-volleyball",
   "metadata": {},
   "outputs": [
    {
     "name": "stdout",
     "output_type": "stream",
     "text": [
      "The following pixels are available for the dummy toy data set:  [16, 24, 32, 48, 64]\n",
      "The specified pixel resolution 24 is available!\n",
      ">... Pickle datafile successfully loaded:  01_data/01_cleaned/pic_data_dummy_toy_24.pkl\n",
      ">... Pickle dictionary sucessfully separated into individuals arrays\n",
      ">... Data sucessfully split into test and train data\n"
     ]
    }
   ],
   "source": [
    "# Check availiability of pixel resolution\n",
    "pix_res = 24\n",
    "check_pixels([pix_res])\n",
    "\n",
    "# Load and split the data\n",
    "rgb_full_train, rgb_full_test, labels_train_tf, labels_test_tf, pic_ids_train, pic_ids_test = load_data(pix_res)"
   ]
  },
  {
   "cell_type": "markdown",
   "id": "dutch-radiation",
   "metadata": {},
   "source": [
    "<div class=\"alert alert-block alert-warning\">\n",
    "<b>Hint regarding showing evaluations</b>\n",
    "<p>\n",
    "    \n",
    "All evaluation metrics are stored as `.pkl`-files in the Git-Hub-Repository. You can have a separate look at outputs of the full data set if you set the parameter `full_data_switch_on = True` in the beginning and run only the cells where the evaluations are shown. (Or overwrite the switch value to True at the beginning of the evaluation block you want to have a look at.)    \n",
    "    \n",
    "<br>    \n",
    "<b>\n",
    "!!! You just should avoid running the whole book with the switch equal to True as this causes a lot-of run-time (see red warning box at beginning of notebook) !!!\n",
    "\n",
    "</b>    \n",
    "</div>"
   ]
  },
  {
   "cell_type": "markdown",
   "id": "flying-observer",
   "metadata": {},
   "source": [
    "<a id='7_1_Test_Baseline'></a>\n",
    "<br>\n",
    "<br>\n",
    "<br>\n",
    "<br>\n",
    "<br>\n",
    "<br>\n",
    "\n",
    "\n",
    "### 7.1. Baseline classifiers on test set with all features"
   ]
  },
  {
   "cell_type": "code",
   "execution_count": 54,
   "id": "athletic-packet",
   "metadata": {},
   "outputs": [],
   "source": [
    "# Define Classifiers\n",
    "# Importing all classifiers again (for running only hyper-parameter tuning)\n",
    "from sklearn.ensemble import RandomForestClassifier\n",
    "from sklearn.linear_model import SGDClassifier\n",
    "# Random Forest\n",
    "classifier_RandomForest_baseline = RandomForestClassifier(random_state=42)\n",
    "\n",
    "# SGD\n",
    "classifier_SGD_baseline = SGDClassifier(random_state=42)\n",
    "\n",
    "\n",
    "# Combine classifiers to a list through which you can loop\n",
    "classifiers_test_baseline= [classifier_RandomForest_baseline, classifier_SGD_baseline]"
   ]
  },
  {
   "cell_type": "code",
   "execution_count": 55,
   "id": "adjacent-parliament",
   "metadata": {},
   "outputs": [
    {
     "name": "stdout",
     "output_type": "stream",
     "text": [
      ">... Starting testing of RandomForestClassifier\n",
      ">... Starting training of RandomForestClassifier\n",
      ">... Starting prediction for RandomForestClassifier\n",
      ">... Run-Time successfully stored in: 03_output/02_test_set_evaluation/03_run_time_scores/run_time_training_classifier_test_baseline_dummy_toy_RandomForestClassifier_24.pkl\n",
      ">... Classifier RandomForestClassifier sucessfully trained in 0.197 seconds.\n",
      ">... Calculating evaluation metric of RandomForestClassifier\n",
      ">... Precision-recall-curve not applicable for RandomForestClassifier.\n",
      ">... Testing scores successfully stored in: 03_output/02_test_set_evaluation/01_eval_scores/evaluation_scores_test_baseline_dummy_toy_RandomForestClassifier_24.pkl\n",
      ">... Testing evaluation of classifier RandomForestClassifier sucessfully finished in 0.01 seconds.\n",
      ">... Starting to create output array with error-types for more transparency for classifier RandomForestClassifier.\n",
      ">... Error table dictionary successfully stored in: 03_output/02_test_set_evaluation/02_error_tables/error_table_pd_test_baseline_dummy_toy_RandomForestClassifier_24.pkl\n",
      ">... Starting testing of SGDClassifier\n",
      ">... Starting training of SGDClassifier\n",
      ">... Starting prediction for SGDClassifier\n",
      ">... Run-Time successfully stored in: 03_output/02_test_set_evaluation/03_run_time_scores/run_time_training_classifier_test_baseline_dummy_toy_SGDClassifier_24.pkl\n",
      ">... Classifier SGDClassifier sucessfully trained in 0.011 seconds.\n",
      ">... Calculating evaluation metric of SGDClassifier\n",
      ">... Calculating precision, recalls and thresholds of SGDClassifier\n",
      ">... Testing scores successfully stored in: 03_output/02_test_set_evaluation/01_eval_scores/evaluation_scores_test_baseline_dummy_toy_SGDClassifier_24.pkl\n",
      ">... Testing evaluation of classifier SGDClassifier sucessfully finished in 0.0 seconds.\n",
      ">... Starting to create output array with error-types for more transparency for classifier SGDClassifier.\n",
      ">... Error table dictionary successfully stored in: 03_output/02_test_set_evaluation/02_error_tables/error_table_pd_test_baseline_dummy_toy_SGDClassifier_24.pkl\n"
     ]
    }
   ],
   "source": [
    "# Training and evaluate baseline classifier on test set\n",
    "for clasf in classifiers_test_baseline:\n",
    "    test_clasf(classifier_x = clasf, \n",
    "           rgb_data_train=rgb_full_train, \n",
    "           rgb_data_test=rgb_full_test, \n",
    "           labels_train=labels_train_tf, \n",
    "           labels_test=labels_test_tf, \n",
    "           pic_ids_test=pic_ids_test, \n",
    "           pixel_res=pix_res, \n",
    "           switch_case=\"test_baseline\")"
   ]
  },
  {
   "cell_type": "code",
   "execution_count": 56,
   "id": "passive-europe",
   "metadata": {},
   "outputs": [
    {
     "name": "stdout",
     "output_type": "stream",
     "text": [
      "Error Table not selected by user.\n",
      "Confusion matrix not selected by user.\n",
      ">... Eval metrics pickle file successfully loaded for RandomForestClassifier and pixel resolution 24\n",
      ">... Eval metrics pickle file successfully loaded for SGDClassifier and pixel resolution 24\n",
      ">... Display eval metrics table for pixel resolution 24 and switch case test_baseline\n",
      "\n",
      "\n",
      "                            RandomForestClassifier  SGDClassifier\n",
      "precision score                              1.000            1.0\n",
      "recall score                                 1.000            1.0\n",
      "accuracy_score                               1.000            1.0\n",
      "prediction time in seconds                   0.008            0.0 \n",
      "\n",
      "\n",
      "Precision recall plots not selected by user.\n"
     ]
    }
   ],
   "source": [
    "# Show evaluations: Evaluation Metrics\n",
    "for pix in pixels:\n",
    "    show_evals(pixel_res=pix_res, switch_case=\"test_baseline\", eval_metrics=True)"
   ]
  },
  {
   "cell_type": "code",
   "execution_count": 57,
   "id": "infrared-alcohol",
   "metadata": {},
   "outputs": [
    {
     "name": "stdout",
     "output_type": "stream",
     "text": [
      "Error Table not selected by user.\n",
      ">... Eval metrics pickle file successfully loaded for RandomForestClassifier, pixel resolution 24 and switch case test_baseline\n",
      ">... Displaying confusion matrix for switch case test_baseline, of RandomForestClassifier with pixel resolution 24\n",
      ">... Saving figure Confusion_Matrix_test_baseline_dummy_toy_RandomForestClassifier_24\n"
     ]
    },
    {
     "data": {
      "image/png": "[encoded data removed]",
      "text/plain": [
       "<Figure size 360x360 with 1 Axes>"
      ]
     },
     "metadata": {
      "needs_background": "light"
     },
     "output_type": "display_data"
    },
    {
     "name": "stdout",
     "output_type": "stream",
     "text": [
      ">... Eval metrics pickle file successfully loaded for SGDClassifier, pixel resolution 24 and switch case test_baseline\n",
      ">... Displaying confusion matrix for switch case test_baseline, of SGDClassifier with pixel resolution 24\n",
      ">... Saving figure Confusion_Matrix_test_baseline_dummy_toy_SGDClassifier_24\n"
     ]
    },
    {
     "data": {
      "image/png": "[encoded data removed]",
      "text/plain": [
       "<Figure size 360x360 with 1 Axes>"
      ]
     },
     "metadata": {
      "needs_background": "light"
     },
     "output_type": "display_data"
    },
    {
     "name": "stdout",
     "output_type": "stream",
     "text": [
      "Eval metrics not selected by user.\n",
      "Precision recall plots not selected by user.\n"
     ]
    }
   ],
   "source": [
    "# Show evaluations: Confusion Matrix\n",
    "for pix in pixels:\n",
    "    show_evals(pixel_res=pix_res, switch_case=\"test_baseline\", conf_matrix=True)"
   ]
  },
  {
   "cell_type": "code",
   "execution_count": 58,
   "id": "continent-payroll",
   "metadata": {},
   "outputs": [
    {
     "name": "stdout",
     "output_type": "stream",
     "text": [
      ">... Error table pickle file successfully loaded for RandomForestClassifier, pixel resolution 24, and switch_case: test_baseline\n",
      ">... Print error table for switch case test_baseline, for pixel resolution 24 of RandomForestClassifier\n",
      "\n",
      "\n",
      "Empty DataFrame\n",
      "Columns: [Filename picture ID, Label, Predicted, Error Type]\n",
      "Index: []\n",
      "\n",
      "\n",
      "\n",
      ">... Error table pickle file successfully loaded for SGDClassifier, pixel resolution 24, and switch_case: test_baseline\n",
      ">... Print error table for switch case test_baseline, for pixel resolution 24 of SGDClassifier\n",
      "\n",
      "\n",
      "Empty DataFrame\n",
      "Columns: [Filename picture ID, Label, Predicted, Error Type]\n",
      "Index: []\n",
      "\n",
      "\n",
      "\n",
      "Confusion matrix not selected by user.\n",
      "Eval metrics not selected by user.\n",
      "Precision recall plots not selected by user.\n"
     ]
    }
   ],
   "source": [
    "# Show evaluations: Error Table\n",
    "for pix in pixels:\n",
    "    show_evals(pixel_res=pix_res, switch_case=\"test_baseline\", error_table=True)"
   ]
  },
  {
   "cell_type": "code",
   "execution_count": 59,
   "id": "bacterial-promotion",
   "metadata": {},
   "outputs": [
    {
     "name": "stdout",
     "output_type": "stream",
     "text": [
      "Error Table not selected by user.\n",
      "Confusion matrix not selected by user.\n",
      "Eval metrics not selected by user.\n",
      ">... Precision Recall plot not available for RandomForestClassifier!\n",
      ">... Eval metrics pickle file successfully loaded for SGDClassifier, pixel resolution 24 and switch case test_baseline\n",
      ">... Extracting Metrics into Dataframe of classifier SGDClassifier\n",
      ">... Plot precision-recall curve for SGDClassifier, pixel resolution 24 and switch case test_baseline\n",
      ">... Saving figure Precision_Recall_Plot_test_baseline_dummy_toy_SGDClassifier_24\n"
     ]
    },
    {
     "data": {
      "image/png": "[encoded data removed]",
      "text/plain": [
       "<Figure size 576x288 with 1 Axes>"
      ]
     },
     "metadata": {
      "needs_background": "light"
     },
     "output_type": "display_data"
    }
   ],
   "source": [
    "# Show evaluations: Precision Recall Plot\n",
    "for pix in pixels:\n",
    "    show_evals(pixel_res=pix_res, switch_case=\"test_baseline\", prec_recall_plot_switch=True)"
   ]
  },
  {
   "cell_type": "markdown",
   "id": "radical-poker",
   "metadata": {},
   "source": [
    "<a id='7_2_Test_Accuracy_Tuned'></a>\n",
    "<br>\n",
    "<br>\n",
    "<br>\n",
    "<br>\n",
    "<br>\n",
    "<br>\n",
    "\n",
    "\n",
    "### 7.2. Accuracy tuned classifiers on test set with all features"
   ]
  },
  {
   "cell_type": "code",
   "execution_count": 60,
   "id": "adult-henry",
   "metadata": {},
   "outputs": [
    {
     "name": "stdout",
     "output_type": "stream",
     "text": [
      "Best parameters from grid search on full data set: \n",
      "Random Forest:  {'Grid_Search_Best_Params': {'bootstrap': False, 'max_features': 'auto', 'n_estimators': 250}}\n",
      "Best parameters from grid search on full data set: \n",
      "SGD:  {'Grid_Search_Best_Params': {'alpha': 0.01, 'max_iter': 100, 'penalty': 'l2'}}\n"
     ]
    }
   ],
   "source": [
    "# Output best_params again\n",
    "\n",
    "best_params = pickle.load(open(\"03_output/01_training_set_evaluation/04_hypertuning_best_params/best_params_grid_search_train_accuracy_tuned_full_RandomForestClassifier_24.pkl\",\"rb\"))\n",
    "print(\"Best parameters from grid search on full data set: \")\n",
    "print(\"Random Forest: \",best_params)\n",
    "\n",
    "best_params = pickle.load(open(\"03_output/01_training_set_evaluation/04_hypertuning_best_params/best_params_grid_search_train_accuracy_tuned_full_SGDClassifier_24.pkl\",\"rb\"))\n",
    "print(\"Best parameters from grid search on full data set: \")\n",
    "print(\"SGD: \",best_params)\n"
   ]
  },
  {
   "cell_type": "code",
   "execution_count": 61,
   "id": "caroline-instrumentation",
   "metadata": {},
   "outputs": [],
   "source": [
    "# Define Classifiers\n",
    "# Importing all classifiers again (for running only hyper-parameter tuning)\n",
    "from sklearn.ensemble import RandomForestClassifier\n",
    "from sklearn.linear_model import SGDClassifier\n",
    "# Random Forest\n",
    "classifier_RandomForest_test_tuned_accuracy = RandomForestClassifier(random_state=42,\n",
    "                                                           n_estimators=250,\n",
    "                                                           max_features=\"auto\",\n",
    "                                                           bootstrap=False)\n",
    "\n",
    "# SGD\n",
    "classifier_SGD_test_tuned_accuracy = SGDClassifier(random_state=42,\n",
    "                                         penalty=\"l2\",\n",
    "                                         alpha=0.01,\n",
    "                                         max_iter=100)\n",
    "\n",
    "\n",
    "# Combine classifiers to a list through which you can loop\n",
    "classifiers_test_tuned_accuracy= [classifier_RandomForest_test_tuned_accuracy, classifier_SGD_test_tuned_accuracy]"
   ]
  },
  {
   "cell_type": "code",
   "execution_count": 62,
   "id": "partial-notification",
   "metadata": {},
   "outputs": [
    {
     "name": "stdout",
     "output_type": "stream",
     "text": [
      ">... Starting testing of RandomForestClassifier\n",
      ">... Starting training of RandomForestClassifier\n",
      ">... Starting prediction for RandomForestClassifier\n",
      ">... Run-Time successfully stored in: 03_output/02_test_set_evaluation/03_run_time_scores/run_time_training_classifier_test_accuracy_tuned_dummy_toy_RandomForestClassifier_24.pkl\n",
      ">... Classifier RandomForestClassifier sucessfully trained in 0.524 seconds.\n",
      ">... Calculating evaluation metric of RandomForestClassifier\n",
      ">... Precision-recall-curve not applicable for RandomForestClassifier.\n",
      ">... Testing scores successfully stored in: 03_output/02_test_set_evaluation/01_eval_scores/evaluation_scores_test_accuracy_tuned_dummy_toy_RandomForestClassifier_24.pkl\n",
      ">... Testing evaluation of classifier RandomForestClassifier sucessfully finished in 0.02 seconds.\n",
      ">... Starting to create output array with error-types for more transparency for classifier RandomForestClassifier.\n",
      ">... Error table dictionary successfully stored in: 03_output/02_test_set_evaluation/02_error_tables/error_table_pd_test_accuracy_tuned_dummy_toy_RandomForestClassifier_24.pkl\n",
      ">... Starting testing of SGDClassifier\n",
      ">... Starting training of SGDClassifier\n",
      ">... Starting prediction for SGDClassifier\n",
      ">... Run-Time successfully stored in: 03_output/02_test_set_evaluation/03_run_time_scores/run_time_training_classifier_test_accuracy_tuned_dummy_toy_SGDClassifier_24.pkl\n",
      ">... Classifier SGDClassifier sucessfully trained in 0.009 seconds.\n",
      ">... Calculating evaluation metric of SGDClassifier\n",
      ">... Calculating precision, recalls and thresholds of SGDClassifier\n",
      ">... Testing scores successfully stored in: 03_output/02_test_set_evaluation/01_eval_scores/evaluation_scores_test_accuracy_tuned_dummy_toy_SGDClassifier_24.pkl\n",
      ">... Testing evaluation of classifier SGDClassifier sucessfully finished in 0.0 seconds.\n",
      ">... Starting to create output array with error-types for more transparency for classifier SGDClassifier.\n",
      ">... Error table dictionary successfully stored in: 03_output/02_test_set_evaluation/02_error_tables/error_table_pd_test_accuracy_tuned_dummy_toy_SGDClassifier_24.pkl\n"
     ]
    }
   ],
   "source": [
    "# Training and evaluate accuracy tuned classifier on test set\n",
    "for clasf in classifiers_test_tuned_accuracy:\n",
    "    test_clasf(classifier_x = clasf, \n",
    "           rgb_data_train=rgb_full_train, \n",
    "           rgb_data_test=rgb_full_test, \n",
    "           labels_train=labels_train_tf, \n",
    "           labels_test=labels_test_tf, \n",
    "           pic_ids_test=pic_ids_test, \n",
    "           pixel_res=pix_res, \n",
    "           switch_case=\"test_accuracy_tuned\")"
   ]
  },
  {
   "cell_type": "code",
   "execution_count": 63,
   "id": "printable-newman",
   "metadata": {},
   "outputs": [
    {
     "name": "stdout",
     "output_type": "stream",
     "text": [
      "Error Table not selected by user.\n",
      "Confusion matrix not selected by user.\n",
      ">... Eval metrics pickle file successfully loaded for RandomForestClassifier and pixel resolution 24\n",
      ">... Eval metrics pickle file successfully loaded for SGDClassifier and pixel resolution 24\n",
      ">... Display eval metrics table for pixel resolution 24 and switch case test_accuracy_tuned\n",
      "\n",
      "\n",
      "                            RandomForestClassifier  SGDClassifier\n",
      "precision score                              1.000            1.0\n",
      "recall score                                 1.000            1.0\n",
      "accuracy_score                               1.000            1.0\n",
      "prediction time in seconds                   0.016            0.0 \n",
      "\n",
      "\n",
      "Precision recall plots not selected by user.\n"
     ]
    }
   ],
   "source": [
    "# Show evaluations: Evaluation Metrics\n",
    "for pix in pixels:\n",
    "    show_evals(pixel_res=pix_res, switch_case=\"test_accuracy_tuned\", eval_metrics=True)"
   ]
  },
  {
   "cell_type": "code",
   "execution_count": 64,
   "id": "concerned-potter",
   "metadata": {},
   "outputs": [
    {
     "name": "stdout",
     "output_type": "stream",
     "text": [
      "Error Table not selected by user.\n",
      ">... Eval metrics pickle file successfully loaded for RandomForestClassifier, pixel resolution 24 and switch case test_accuracy_tuned\n",
      ">... Displaying confusion matrix for switch case test_accuracy_tuned, of RandomForestClassifier with pixel resolution 24\n",
      ">... Saving figure Confusion_Matrix_test_accuracy_tuned_dummy_toy_RandomForestClassifier_24\n"
     ]
    },
    {
     "data": {
      "image/png": "[encoded data removed]",
      "text/plain": [
       "<Figure size 360x360 with 1 Axes>"
      ]
     },
     "metadata": {
      "needs_background": "light"
     },
     "output_type": "display_data"
    },
    {
     "name": "stdout",
     "output_type": "stream",
     "text": [
      ">... Eval metrics pickle file successfully loaded for SGDClassifier, pixel resolution 24 and switch case test_accuracy_tuned\n",
      ">... Displaying confusion matrix for switch case test_accuracy_tuned, of SGDClassifier with pixel resolution 24\n",
      ">... Saving figure Confusion_Matrix_test_accuracy_tuned_dummy_toy_SGDClassifier_24\n"
     ]
    },
    {
     "data": {
      "image/png": "[encoded data removed]",
      "text/plain": [
       "<Figure size 360x360 with 1 Axes>"
      ]
     },
     "metadata": {
      "needs_background": "light"
     },
     "output_type": "display_data"
    },
    {
     "name": "stdout",
     "output_type": "stream",
     "text": [
      "Eval metrics not selected by user.\n",
      "Precision recall plots not selected by user.\n"
     ]
    }
   ],
   "source": [
    "# Show evaluations: Confusion Matrix\n",
    "for pix in pixels:\n",
    "    show_evals(pixel_res=pix_res, switch_case=\"test_accuracy_tuned\", conf_matrix=True)"
   ]
  },
  {
   "cell_type": "code",
   "execution_count": 65,
   "id": "aging-binding",
   "metadata": {
    "scrolled": true
   },
   "outputs": [
    {
     "name": "stdout",
     "output_type": "stream",
     "text": [
      ">... Error table pickle file successfully loaded for RandomForestClassifier, pixel resolution 24, and switch_case: test_accuracy_tuned\n",
      ">... Print error table for switch case test_accuracy_tuned, for pixel resolution 24 of RandomForestClassifier\n",
      "\n",
      "\n",
      "Empty DataFrame\n",
      "Columns: [Filename picture ID, Label, Predicted, Error Type]\n",
      "Index: []\n",
      "\n",
      "\n",
      "\n",
      ">... Error table pickle file successfully loaded for SGDClassifier, pixel resolution 24, and switch_case: test_accuracy_tuned\n",
      ">... Print error table for switch case test_accuracy_tuned, for pixel resolution 24 of SGDClassifier\n",
      "\n",
      "\n",
      "Empty DataFrame\n",
      "Columns: [Filename picture ID, Label, Predicted, Error Type]\n",
      "Index: []\n",
      "\n",
      "\n",
      "\n",
      "Confusion matrix not selected by user.\n",
      "Eval metrics not selected by user.\n",
      "Precision recall plots not selected by user.\n"
     ]
    }
   ],
   "source": [
    "# Show evaluations: Error Table\n",
    "for pix in pixels:\n",
    "    show_evals(pixel_res=pix_res, switch_case=\"test_accuracy_tuned\", error_table=True)"
   ]
  },
  {
   "cell_type": "code",
   "execution_count": 66,
   "id": "wanted-carter",
   "metadata": {},
   "outputs": [
    {
     "name": "stdout",
     "output_type": "stream",
     "text": [
      "Error Table not selected by user.\n",
      "Confusion matrix not selected by user.\n",
      "Eval metrics not selected by user.\n",
      ">... Precision Recall plot not available for RandomForestClassifier!\n",
      ">... Eval metrics pickle file successfully loaded for SGDClassifier, pixel resolution 24 and switch case test_accuracy_tuned\n",
      ">... Extracting Metrics into Dataframe of classifier SGDClassifier\n",
      ">... Plot precision-recall curve for SGDClassifier, pixel resolution 24 and switch case test_accuracy_tuned\n",
      ">... Saving figure Precision_Recall_Plot_test_accuracy_tuned_dummy_toy_SGDClassifier_24\n"
     ]
    },
    {
     "data": {
      "image/png": "[encoded data removed]",
      "text/plain": [
       "<Figure size 576x288 with 1 Axes>"
      ]
     },
     "metadata": {
      "needs_background": "light"
     },
     "output_type": "display_data"
    }
   ],
   "source": [
    "# Show evaluations: Precision Recall Plot\n",
    "for pix in pixels:\n",
    "    show_evals(pixel_res=pix_res, switch_case=\"test_accuracy_tuned\", prec_recall_plot_switch=True)"
   ]
  },
  {
   "cell_type": "markdown",
   "id": "prostate-granny",
   "metadata": {},
   "source": [
    "<a id='7_3_Test_Speed_Tuned'></a>\n",
    "<br>\n",
    "<br>\n",
    "<br>\n",
    "<br>\n",
    "<br>\n",
    "<br>\n",
    "\n",
    "\n",
    "### 7.3. Speed tuned classifier on test set with reduced dimensionality"
   ]
  },
  {
   "cell_type": "code",
   "execution_count": 67,
   "id": "standing-metabolism",
   "metadata": {},
   "outputs": [
    {
     "name": "stdout",
     "output_type": "stream",
     "text": [
      ">... Pickle datafile successfully loaded:  01_data/01_cleaned/pic_data_dummy_toy_24.pkl\n",
      ">... Pickle dictionary sucessfully separated into individuals arrays\n"
     ]
    }
   ],
   "source": [
    "# Loading data set for principal component analysis (without splitting)\n",
    "if full_data_switch_on == True:\n",
    "    DATAFILE_PATH = os.path.join(PATH_CLEANED_DATA + \"/pic_data_full_\" + str(pix_res) + \".pkl\")\n",
    "elif full_data_switch_on == False:\n",
    "    DATAFILE_PATH = os.path.join(PATH_CLEANED_DATA + \"/pic_data_dummy_toy_\" + str(pix_res) + \".pkl\")\n",
    "else:\n",
    "    raise ValueError(\"Full data switch not correctly defined: Binary value of True or False necessary\")\n",
    "\n",
    "# Load pickle file\n",
    "pic_data = pickle.load(open(DATAFILE_PATH,\"rb\"))\n",
    "print(\">... Pickle datafile successfully loaded: \", DATAFILE_PATH)\n",
    "\n",
    "# Copying dictionary data into separate data frames\n",
    "rgb_data, labels, pic_ids = pic_data[\"rgb_data\"], pic_data[\"labels\"], pic_data[\"pic_ids\"]\n",
    "print(\">... Pickle dictionary sucessfully separated into individuals arrays\")"
   ]
  },
  {
   "cell_type": "code",
   "execution_count": 68,
   "id": "tough-farmer",
   "metadata": {},
   "outputs": [],
   "source": [
    "# Reducing the original data set\n",
    "pca = PCA(n_components=0.95)\n",
    "rgb_data_reduced = pca.fit_transform(rgb_data)"
   ]
  },
  {
   "cell_type": "code",
   "execution_count": 69,
   "id": "immediate-neutral",
   "metadata": {},
   "outputs": [
    {
     "name": "stdout",
     "output_type": "stream",
     "text": [
      ">... Data sucessfully split into test and train data\n"
     ]
    }
   ],
   "source": [
    "# Splitting data into train and test\n",
    "from sklearn.model_selection import train_test_split\n",
    "rgb_full_train, rgb_full_test, rgb_reduced_train, rgb_reduced_test, labels_train, labels_test, pic_ids_train, pic_ids_test = train_test_split(rgb_data, rgb_data_reduced, labels, pic_ids, test_size=0.10, random_state=42)\n",
    "print(\">... Data sucessfully split into test and train data\")\n",
    "\n",
    "# redefining labels as True False\n",
    "labels_train_tf = (labels_train == 1)\n",
    "labels_test_tf = (labels_test == 1)"
   ]
  },
  {
   "cell_type": "code",
   "execution_count": 70,
   "id": "gorgeous-upgrade",
   "metadata": {},
   "outputs": [
    {
     "name": "stdout",
     "output_type": "stream",
     "text": [
      "Best parameters from grid search on full data set: \n",
      "Random Forest:  {'Grid_Search_Best_Params': {'bootstrap': False, 'max_features': 'auto', 'n_estimators': 250}}\n",
      "Best parameters from grid search on full data set: \n",
      "SGD:  {'Grid_Search_Best_Params': {'alpha': 0.01, 'max_iter': 100, 'penalty': 'l2'}}\n"
     ]
    }
   ],
   "source": [
    "# Output best_params again\n",
    "best_params = pickle.load(open(\"03_output/01_training_set_evaluation/04_hypertuning_best_params/best_params_grid_search_train_accuracy_tuned_full_RandomForestClassifier_24.pkl\",\"rb\"))\n",
    "print(\"Best parameters from grid search on full data set: \")\n",
    "print(\"Random Forest: \",best_params)\n",
    "\n",
    "best_params = pickle.load(open(\"03_output/01_training_set_evaluation/04_hypertuning_best_params/best_params_grid_search_train_accuracy_tuned_full_SGDClassifier_24.pkl\",\"rb\"))\n",
    "print(\"Best parameters from grid search on full data set: \")\n",
    "print(\"SGD: \",best_params)\n"
   ]
  },
  {
   "cell_type": "code",
   "execution_count": 71,
   "id": "subtle-carol",
   "metadata": {},
   "outputs": [],
   "source": [
    "# Define Classifiers\n",
    "# Importing all classifiers again (for running only hyper-parameter tuning)\n",
    "from sklearn.ensemble import RandomForestClassifier\n",
    "from sklearn.linear_model import SGDClassifier\n",
    "# Random Forest\n",
    "classifier_RandomForest_test_speed_tuned = RandomForestClassifier(random_state=42,\n",
    "                                                           n_estimators=250,\n",
    "                                                           max_features=\"auto\",\n",
    "                                                           bootstrap=False)\n",
    "\n",
    "# SGD\n",
    "classifier_SGD_test_speed_tuned = SGDClassifier(random_state=42,\n",
    "                                         penalty=\"l2\",\n",
    "                                         alpha=0.01,\n",
    "                                         max_iter=100)\n",
    "\n",
    "\n",
    "# Combine classifiers to a list through which you can loop\n",
    "classifiers_test_speed_tuned= [classifier_RandomForest_test_speed_tuned, classifier_SGD_test_speed_tuned]"
   ]
  },
  {
   "cell_type": "code",
   "execution_count": 72,
   "id": "lasting-option",
   "metadata": {},
   "outputs": [
    {
     "name": "stdout",
     "output_type": "stream",
     "text": [
      ">... Starting testing of RandomForestClassifier\n",
      ">... Starting training of RandomForestClassifier\n",
      ">... Starting prediction for RandomForestClassifier\n",
      ">... Run-Time successfully stored in: 03_output/02_test_set_evaluation/03_run_time_scores/run_time_training_classifier_test_speed_tuned_dummy_toy_RandomForestClassifier_24.pkl\n",
      ">... Classifier RandomForestClassifier sucessfully trained in 0.395 seconds.\n",
      ">... Calculating evaluation metric of RandomForestClassifier\n",
      ">... Precision-recall-curve not applicable for RandomForestClassifier.\n",
      ">... Testing scores successfully stored in: 03_output/02_test_set_evaluation/01_eval_scores/evaluation_scores_test_speed_tuned_dummy_toy_RandomForestClassifier_24.pkl\n",
      ">... Testing evaluation of classifier RandomForestClassifier sucessfully finished in 0.02 seconds.\n",
      ">... Starting to create output array with error-types for more transparency for classifier RandomForestClassifier.\n",
      ">... Error table dictionary successfully stored in: 03_output/02_test_set_evaluation/02_error_tables/error_table_pd_test_speed_tuned_dummy_toy_RandomForestClassifier_24.pkl\n",
      ">... Starting testing of SGDClassifier\n",
      ">... Starting training of SGDClassifier\n",
      ">... Starting prediction for SGDClassifier\n",
      ">... Run-Time successfully stored in: 03_output/02_test_set_evaluation/03_run_time_scores/run_time_training_classifier_test_speed_tuned_dummy_toy_SGDClassifier_24.pkl\n",
      ">... Classifier SGDClassifier sucessfully trained in 0.001 seconds.\n",
      ">... Calculating evaluation metric of SGDClassifier\n",
      ">... Calculating precision, recalls and thresholds of SGDClassifier\n",
      ">... Testing scores successfully stored in: 03_output/02_test_set_evaluation/01_eval_scores/evaluation_scores_test_speed_tuned_dummy_toy_SGDClassifier_24.pkl\n",
      ">... Testing evaluation of classifier SGDClassifier sucessfully finished in 0.0 seconds.\n",
      ">... Starting to create output array with error-types for more transparency for classifier SGDClassifier.\n",
      ">... Error table dictionary successfully stored in: 03_output/02_test_set_evaluation/02_error_tables/error_table_pd_test_speed_tuned_dummy_toy_SGDClassifier_24.pkl\n"
     ]
    }
   ],
   "source": [
    "# Training and evaluate accuracy tuned classifier on test set\n",
    "for clasf in classifiers_test_speed_tuned:\n",
    "    test_clasf(classifier_x = clasf, \n",
    "           rgb_data_train=rgb_reduced_train, \n",
    "           rgb_data_test=rgb_reduced_test, \n",
    "           labels_train=labels_train_tf, \n",
    "           labels_test=labels_test_tf, \n",
    "           pic_ids_test=pic_ids_test, \n",
    "           pixel_res=pix_res, \n",
    "           switch_case=\"test_speed_tuned\")"
   ]
  },
  {
   "cell_type": "code",
   "execution_count": 73,
   "id": "extreme-sperm",
   "metadata": {},
   "outputs": [
    {
     "name": "stdout",
     "output_type": "stream",
     "text": [
      "Error Table not selected by user.\n",
      "Confusion matrix not selected by user.\n",
      ">... Eval metrics pickle file successfully loaded for SGDClassifier and pixel resolution 24\n",
      ">... Eval metrics pickle file successfully loaded for RandomForestClassifier and pixel resolution 24\n",
      ">... Display eval metrics table for pixel resolution 24 and switch case test_speed_tuned\n",
      "\n",
      "\n",
      "                            SGDClassifier  RandomForestClassifier\n",
      "precision score                     0.909                   0.500\n",
      "recall score                        1.000                   0.500\n",
      "accuracy_score                      0.952                   0.524\n",
      "prediction time in seconds          0.000                   0.022 \n",
      "\n",
      "\n",
      "Precision recall plots not selected by user.\n"
     ]
    }
   ],
   "source": [
    "# Show evaluations: Evaluation Metrics\n",
    "for pix in pixels:\n",
    "    show_evals(pixel_res=pix_res, switch_case=\"test_speed_tuned\", eval_metrics=True)"
   ]
  },
  {
   "cell_type": "code",
   "execution_count": 74,
   "id": "reflected-fortune",
   "metadata": {},
   "outputs": [
    {
     "name": "stdout",
     "output_type": "stream",
     "text": [
      "Error Table not selected by user.\n",
      ">... Eval metrics pickle file successfully loaded for SGDClassifier, pixel resolution 24 and switch case test_speed_tuned\n",
      ">... Displaying confusion matrix for switch case test_speed_tuned, of SGDClassifier with pixel resolution 24\n",
      ">... Saving figure Confusion_Matrix_test_speed_tuned_dummy_toy_SGDClassifier_24\n"
     ]
    },
    {
     "data": {
      "image/png": "[encoded data removed]",
      "text/plain": [
       "<Figure size 360x360 with 1 Axes>"
      ]
     },
     "metadata": {
      "needs_background": "light"
     },
     "output_type": "display_data"
    },
    {
     "name": "stdout",
     "output_type": "stream",
     "text": [
      ">... Eval metrics pickle file successfully loaded for RandomForestClassifier, pixel resolution 24 and switch case test_speed_tuned\n",
      ">... Displaying confusion matrix for switch case test_speed_tuned, of RandomForestClassifier with pixel resolution 24\n",
      ">... Saving figure Confusion_Matrix_test_speed_tuned_dummy_toy_RandomForestClassifier_24\n"
     ]
    },
    {
     "data": {
      "image/png": "[encoded data removed]",
      "text/plain": [
       "<Figure size 360x360 with 1 Axes>"
      ]
     },
     "metadata": {
      "needs_background": "light"
     },
     "output_type": "display_data"
    },
    {
     "name": "stdout",
     "output_type": "stream",
     "text": [
      "Eval metrics not selected by user.\n",
      "Precision recall plots not selected by user.\n"
     ]
    }
   ],
   "source": [
    "# Show evaluations: Confusion Matrix\n",
    "for pix in pixels:\n",
    "    show_evals(pixel_res=pix_res, switch_case=\"test_speed_tuned\", conf_matrix=True)"
   ]
  },
  {
   "cell_type": "code",
   "execution_count": 75,
   "id": "informative-fantasy",
   "metadata": {
    "scrolled": true
   },
   "outputs": [
    {
     "name": "stdout",
     "output_type": "stream",
     "text": [
      ">... Error table pickle file successfully loaded for SGDClassifier, pixel resolution 24, and switch_case: test_speed_tuned\n",
      ">... Print error table for switch case test_speed_tuned, for pixel resolution 24 of SGDClassifier\n",
      "\n",
      "\n",
      "                Filename picture ID  Label Predicted      Error Type\n",
      "7  NVIDIA/00076_Mask_Mouth_Chin.jpg  False      True  False positive\n",
      "\n",
      "\n",
      "\n",
      ">... Error table pickle file successfully loaded for RandomForestClassifier, pixel resolution 24, and switch_case: test_speed_tuned\n",
      ">... Print error table for switch case test_speed_tuned, for pixel resolution 24 of RandomForestClassifier\n",
      "\n",
      "\n",
      "                 Filename picture ID  Label Predicted      Error Type\n",
      "5   NVIDIA/00005_Mask_Mouth_Chin.jpg  False      True  False positive\n",
      "4   NVIDIA/00058_Mask_Mouth_Chin.jpg  False      True  False positive\n",
      "8         NVIDIA/00068_Mask_Chin.jpg  False      True  False positive\n",
      "7   NVIDIA/00076_Mask_Mouth_Chin.jpg  False      True  False positive\n",
      "20  NVIDIA/00109_Mask_Mouth_Chin.jpg  False      True  False positive\n",
      "1              NVIDIA/00014_Mask.jpg   True     False  False negative\n",
      "13             NVIDIA/00017_Mask.jpg   True     False  False negative\n",
      "18             NVIDIA/00040_Mask.jpg   True     False  False negative\n",
      "10             NVIDIA/00055_Mask.jpg   True     False  False negative\n",
      "9              NVIDIA/00099_Mask.jpg   True     False  False negative\n",
      "\n",
      "\n",
      "\n",
      "Confusion matrix not selected by user.\n",
      "Eval metrics not selected by user.\n",
      "Precision recall plots not selected by user.\n"
     ]
    }
   ],
   "source": [
    "# Show evaluations: Error Table\n",
    "for pix in pixels:\n",
    "    show_evals(pixel_res=pix, switch_case=\"test_speed_tuned\", error_table=True)"
   ]
  },
  {
   "cell_type": "code",
   "execution_count": 76,
   "id": "checked-marble",
   "metadata": {},
   "outputs": [
    {
     "name": "stdout",
     "output_type": "stream",
     "text": [
      "Error Table not selected by user.\n",
      "Confusion matrix not selected by user.\n",
      "Eval metrics not selected by user.\n",
      ">... Eval metrics pickle file successfully loaded for SGDClassifier, pixel resolution 24 and switch case test_speed_tuned\n",
      ">... Extracting Metrics into Dataframe of classifier SGDClassifier\n",
      ">... Plot precision-recall curve for SGDClassifier, pixel resolution 24 and switch case test_speed_tuned\n",
      ">... Saving figure Precision_Recall_Plot_test_speed_tuned_dummy_toy_SGDClassifier_24\n"
     ]
    },
    {
     "data": {
      "image/png": "[encoded data removed]",
      "text/plain": [
       "<Figure size 576x288 with 1 Axes>"
      ]
     },
     "metadata": {
      "needs_background": "light"
     },
     "output_type": "display_data"
    },
    {
     "name": "stdout",
     "output_type": "stream",
     "text": [
      ">... Precision Recall plot not available for RandomForestClassifier!\n"
     ]
    }
   ],
   "source": [
    "# Show evaluations: Precision Recall Plot\n",
    "for pix in pixels:\n",
    "    show_evals(pixel_res=pix_res, switch_case=\"test_speed_tuned\", prec_recall_plot_switch=True)"
   ]
  },
  {
   "cell_type": "markdown",
   "id": "fossil-peripheral",
   "metadata": {},
   "source": [
    "<a id='7_4_Final_output_table'></a>\n",
    "<br>\n",
    "<br>\n",
    "<br>\n",
    "<br>\n",
    "<br>\n",
    "<br>\n",
    "\n",
    "### 7.4. Final output table\n",
    "\n",
    "In this part you can find the final output table also depending on the full data switch. You can switch between a table that is according to the calculations above (i.e. according to the full data switch) or if you want to see the table shown in the report regardless of what you did above, you can set the `like_calc_above_switch` to `False`."
   ]
  },
  {
   "cell_type": "code",
   "execution_count": 77,
   "id": "comparative-lawyer",
   "metadata": {},
   "outputs": [],
   "source": [
    "# Setting switch:\n",
    "like_calc_above_switch = False"
   ]
  },
  {
   "cell_type": "code",
   "execution_count": 78,
   "id": "painted-radius",
   "metadata": {},
   "outputs": [],
   "source": [
    "# Loading all necessary files depending on switch\n",
    "if like_calc_above_switch == True:\n",
    "    if full_data_switch_on == True:\n",
    "        dict_RF_Baseline_evals = pickle.load(open(\"03_output/02_test_set_evaluation/01_eval_scores/evaluation_scores_test_baseline_full_RandomForestClassifier_24.pkl\",\"rb\"))\n",
    "        dict_RF_Baseline_time = pickle.load(open(\"03_output/02_test_set_evaluation/03_run_time_scores/run_time_training_classifier_test_baseline_full_RandomForestClassifier_24.pkl\",\"rb\"))\n",
    "        dict_RF_Accuracy_Tuned_evals = pickle.load(open(\"03_output/02_test_set_evaluation/01_eval_scores/evaluation_scores_test_accuracy_tuned_full_RandomForestClassifier_24.pkl\",\"rb\"))\n",
    "        dict_RF_Accuracy_Tuned_time = pickle.load(open(\"03_output/02_test_set_evaluation/03_run_time_scores/run_time_training_classifier_test_accuracy_tuned_full_RandomForestClassifier_24.pkl\",\"rb\"))\n",
    "        dict_RF_Speed_Tuned_evals = pickle.load(open(\"03_output/02_test_set_evaluation/01_eval_scores/evaluation_scores_test_speed_tuned_full_RandomForestClassifier_24.pkl\",\"rb\"))\n",
    "        dict_RF_Speed_Tuned_time = pickle.load(open(\"03_output/02_test_set_evaluation/03_run_time_scores/run_time_training_classifier_test_speed_tuned_full_RandomForestClassifier_24.pkl\",\"rb\"))\n",
    "\n",
    "        dict_SGD_Baseline_evals = pickle.load(open(\"03_output/02_test_set_evaluation/01_eval_scores/evaluation_scores_test_baseline_full_SGDClassifier_24.pkl\",\"rb\"))\n",
    "        dict_SGD_Baseline_time = pickle.load(open(\"03_output/02_test_set_evaluation/03_run_time_scores/run_time_training_classifier_test_baseline_full_SGDClassifier_24.pkl\",\"rb\"))\n",
    "        dict_SGD_Accuracy_Tuned_evals = pickle.load(open(\"03_output/02_test_set_evaluation/01_eval_scores/evaluation_scores_test_accuracy_tuned_full_SGDClassifier_24.pkl\",\"rb\"))\n",
    "        dict_SGD_Accuracy_Tuned_time = pickle.load(open(\"03_output/02_test_set_evaluation/03_run_time_scores/run_time_training_classifier_test_accuracy_tuned_full_SGDClassifier_24.pkl\",\"rb\"))\n",
    "        dict_SGD_Speed_Tuned_evals = pickle.load(open(\"03_output/02_test_set_evaluation/01_eval_scores/evaluation_scores_test_speed_tuned_full_SGDClassifier_24.pkl\",\"rb\"))\n",
    "        dict_SGD_Speed_Tuned_time = pickle.load(open(\"03_output/02_test_set_evaluation/03_run_time_scores/run_time_training_classifier_test_speed_tuned_full_SGDClassifier_24.pkl\",\"rb\"))\n",
    "    elif full_data_switch_on == False:\n",
    "        dict_RF_Baseline_evals = pickle.load(open(\"03_output/02_test_set_evaluation/01_eval_scores/evaluation_scores_test_baseline_dummy_toy_RandomForestClassifier_24.pkl\",\"rb\"))\n",
    "        dict_RF_Baseline_time = pickle.load(open(\"03_output/02_test_set_evaluation/03_run_time_scores/run_time_training_classifier_test_baseline_dummy_toy_RandomForestClassifier_24.pkl\",\"rb\"))\n",
    "        dict_RF_Accuracy_Tuned_evals = pickle.load(open(\"03_output/02_test_set_evaluation/01_eval_scores/evaluation_scores_test_accuracy_tuned_dummy_toy_RandomForestClassifier_24.pkl\",\"rb\"))\n",
    "        dict_RF_Accuracy_Tuned_time = pickle.load(open(\"03_output/02_test_set_evaluation/03_run_time_scores/run_time_training_classifier_test_accuracy_tuned_dummy_toy_RandomForestClassifier_24.pkl\",\"rb\"))\n",
    "        dict_RF_Speed_Tuned_evals = pickle.load(open(\"03_output/02_test_set_evaluation/01_eval_scores/evaluation_scores_test_speed_tuned_dummy_toy_RandomForestClassifier_24.pkl\",\"rb\"))\n",
    "        dict_RF_Speed_Tuned_time = pickle.load(open(\"03_output/02_test_set_evaluation/03_run_time_scores/run_time_training_classifier_test_speed_tuned_dummy_toy_RandomForestClassifier_24.pkl\",\"rb\"))\n",
    "\n",
    "        dict_SGD_Baseline_evals = pickle.load(open(\"03_output/02_test_set_evaluation/01_eval_scores/evaluation_scores_test_baseline_dummy_toy_SGDClassifier_24.pkl\",\"rb\"))\n",
    "        dict_SGD_Baseline_time = pickle.load(open(\"03_output/02_test_set_evaluation/03_run_time_scores/run_time_training_classifier_test_baseline_dummy_toy_SGDClassifier_24.pkl\",\"rb\"))\n",
    "        dict_SGD_Accuracy_Tuned_evals = pickle.load(open(\"03_output/02_test_set_evaluation/01_eval_scores/evaluation_scores_test_accuracy_tuned_dummy_toy_SGDClassifier_24.pkl\",\"rb\"))\n",
    "        dict_SGD_Accuracy_Tuned_time = pickle.load(open(\"03_output/02_test_set_evaluation/03_run_time_scores/run_time_training_classifier_test_accuracy_tuned_dummy_toy_SGDClassifier_24.pkl\",\"rb\"))\n",
    "        dict_SGD_Speed_Tuned_evals = pickle.load(open(\"03_output/02_test_set_evaluation/01_eval_scores/evaluation_scores_test_speed_tuned_dummy_toy_SGDClassifier_24.pkl\",\"rb\"))\n",
    "        dict_SGD_Speed_Tuned_time = pickle.load(open(\"03_output/02_test_set_evaluation/03_run_time_scores/run_time_training_classifier_test_speed_tuned_dummy_toy_SGDClassifier_24.pkl\",\"rb\"))\n",
    "    else:\n",
    "        raise ValueError(\"Full data switch not correctly defined: Binary value of True or False necessary\")\n",
    "elif like_calc_above_switch == False:\n",
    "    dict_RF_Baseline_evals = pickle.load(open(\"03_output/02_test_set_evaluation/01_eval_scores/evaluation_scores_test_baseline_full_RandomForestClassifier_24.pkl\",\"rb\"))\n",
    "    dict_RF_Baseline_time = pickle.load(open(\"03_output/02_test_set_evaluation/03_run_time_scores/run_time_training_classifier_test_baseline_full_RandomForestClassifier_24.pkl\",\"rb\"))\n",
    "    dict_RF_Accuracy_Tuned_evals = pickle.load(open(\"03_output/02_test_set_evaluation/01_eval_scores/evaluation_scores_test_accuracy_tuned_full_RandomForestClassifier_24.pkl\",\"rb\"))\n",
    "    dict_RF_Accuracy_Tuned_time = pickle.load(open(\"03_output/02_test_set_evaluation/03_run_time_scores/run_time_training_classifier_test_accuracy_tuned_full_RandomForestClassifier_24.pkl\",\"rb\"))\n",
    "    dict_RF_Speed_Tuned_evals = pickle.load(open(\"03_output/02_test_set_evaluation/01_eval_scores/evaluation_scores_test_speed_tuned_full_RandomForestClassifier_24.pkl\",\"rb\"))\n",
    "    dict_RF_Speed_Tuned_time = pickle.load(open(\"03_output/02_test_set_evaluation/03_run_time_scores/run_time_training_classifier_test_speed_tuned_full_RandomForestClassifier_24.pkl\",\"rb\"))\n",
    "\n",
    "    dict_SGD_Baseline_evals = pickle.load(open(\"03_output/02_test_set_evaluation/01_eval_scores/evaluation_scores_test_baseline_full_SGDClassifier_24.pkl\",\"rb\"))\n",
    "    dict_SGD_Baseline_time = pickle.load(open(\"03_output/02_test_set_evaluation/03_run_time_scores/run_time_training_classifier_test_baseline_full_SGDClassifier_24.pkl\",\"rb\"))\n",
    "    dict_SGD_Accuracy_Tuned_evals = pickle.load(open(\"03_output/02_test_set_evaluation/01_eval_scores/evaluation_scores_test_accuracy_tuned_full_SGDClassifier_24.pkl\",\"rb\"))\n",
    "    dict_SGD_Accuracy_Tuned_time = pickle.load(open(\"03_output/02_test_set_evaluation/03_run_time_scores/run_time_training_classifier_test_accuracy_tuned_full_SGDClassifier_24.pkl\",\"rb\"))\n",
    "    dict_SGD_Speed_Tuned_evals = pickle.load(open(\"03_output/02_test_set_evaluation/01_eval_scores/evaluation_scores_test_speed_tuned_full_SGDClassifier_24.pkl\",\"rb\"))\n",
    "    dict_SGD_Speed_Tuned_time = pickle.load(open(\"03_output/02_test_set_evaluation/03_run_time_scores/run_time_training_classifier_test_speed_tuned_full_SGDClassifier_24.pkl\",\"rb\"))\n",
    "else:\n",
    "    raise ValueError(\"'Like_calc_above_switch' not correctly defined: Binary value of True or False necessary\")\n"
   ]
  },
  {
   "cell_type": "code",
   "execution_count": 79,
   "id": "furnished-lawrence",
   "metadata": {},
   "outputs": [
    {
     "data": {
      "text/html": [
       "<div>\n",
       "<style scoped>\n",
       "    .dataframe tbody tr th:only-of-type {\n",
       "        vertical-align: middle;\n",
       "    }\n",
       "\n",
       "    .dataframe tbody tr th {\n",
       "        vertical-align: top;\n",
       "    }\n",
       "\n",
       "    .dataframe thead th {\n",
       "        text-align: right;\n",
       "    }\n",
       "</style>\n",
       "<table border=\"1\" class=\"dataframe\">\n",
       "  <thead>\n",
       "    <tr style=\"text-align: right;\">\n",
       "      <th></th>\n",
       "      <th>Accuracy Score</th>\n",
       "      <th>Precision Score</th>\n",
       "      <th>Recall Score</th>\n",
       "      <th>Prediction time in seconds</th>\n",
       "      <th>Training time in seconds</th>\n",
       "    </tr>\n",
       "  </thead>\n",
       "  <tbody>\n",
       "    <tr>\n",
       "      <th>RF: Baseline</th>\n",
       "      <td>0.993</td>\n",
       "      <td>0.994</td>\n",
       "      <td>0.991</td>\n",
       "      <td>0.478</td>\n",
       "      <td>341.599</td>\n",
       "    </tr>\n",
       "    <tr>\n",
       "      <th>RF: Tuned Accuracy</th>\n",
       "      <td>0.993</td>\n",
       "      <td>0.994</td>\n",
       "      <td>0.993</td>\n",
       "      <td>1.164</td>\n",
       "      <td>1360.095</td>\n",
       "    </tr>\n",
       "    <tr>\n",
       "      <th>RF: Tuned Speed</th>\n",
       "      <td>0.929</td>\n",
       "      <td>0.917</td>\n",
       "      <td>0.942</td>\n",
       "      <td>1.045</td>\n",
       "      <td>698.753</td>\n",
       "    </tr>\n",
       "    <tr>\n",
       "      <th>SGD: Baseline</th>\n",
       "      <td>0.821</td>\n",
       "      <td>0.999</td>\n",
       "      <td>0.640</td>\n",
       "      <td>0.019</td>\n",
       "      <td>69.213</td>\n",
       "    </tr>\n",
       "    <tr>\n",
       "      <th>SGD: Tuned Accuracy</th>\n",
       "      <td>0.976</td>\n",
       "      <td>0.966</td>\n",
       "      <td>0.987</td>\n",
       "      <td>0.019</td>\n",
       "      <td>32.936</td>\n",
       "    </tr>\n",
       "    <tr>\n",
       "      <th>SGD: Tuned Speed</th>\n",
       "      <td>0.965</td>\n",
       "      <td>0.968</td>\n",
       "      <td>0.963</td>\n",
       "      <td>0.003</td>\n",
       "      <td>5.135</td>\n",
       "    </tr>\n",
       "  </tbody>\n",
       "</table>\n",
       "</div>"
      ],
      "text/plain": [
       "                     Accuracy Score  Precision Score  Recall Score  \\\n",
       "RF: Baseline                  0.993            0.994         0.991   \n",
       "RF: Tuned Accuracy            0.993            0.994         0.993   \n",
       "RF: Tuned Speed               0.929            0.917         0.942   \n",
       "SGD: Baseline                 0.821            0.999         0.640   \n",
       "SGD: Tuned Accuracy           0.976            0.966         0.987   \n",
       "SGD: Tuned Speed              0.965            0.968         0.963   \n",
       "\n",
       "                     Prediction time in seconds  Training time in seconds  \n",
       "RF: Baseline                              0.478                   341.599  \n",
       "RF: Tuned Accuracy                        1.164                  1360.095  \n",
       "RF: Tuned Speed                           1.045                   698.753  \n",
       "SGD: Baseline                             0.019                    69.213  \n",
       "SGD: Tuned Accuracy                       0.019                    32.936  \n",
       "SGD: Tuned Speed                          0.003                     5.135  "
      ]
     },
     "execution_count": 79,
     "metadata": {},
     "output_type": "execute_result"
    }
   ],
   "source": [
    "# Define lists to loop through\n",
    "dict_list_evals = [dict_RF_Baseline_evals, dict_RF_Accuracy_Tuned_evals, dict_RF_Speed_Tuned_evals,\n",
    "                  dict_SGD_Baseline_evals, dict_SGD_Accuracy_Tuned_evals, dict_SGD_Speed_Tuned_evals]\n",
    "dict_list_times = [dict_RF_Baseline_time, dict_RF_Accuracy_Tuned_time, dict_RF_Speed_Tuned_time,\n",
    "                  dict_SGD_Baseline_time, dict_SGD_Accuracy_Tuned_time, dict_SGD_Speed_Tuned_time]\n",
    "key_list = [\"Accuracy Score\", \"Precision Score\", \"Recall Score\", \"Prediction time in seconds\", \"24\"]\n",
    "\n",
    "#Initialize combined dictionary\n",
    "dict_total = {}\n",
    "\n",
    "# Loop through list to store metrics\n",
    "for key in key_list:\n",
    "    help_list = []\n",
    "    if key == \"24\":\n",
    "        for dict_itr in dict_list_times:\n",
    "            help_list.append(dict_itr[key])\n",
    "        dict_total[\"Training time in seconds\"] = help_list\n",
    "    else:\n",
    "        for dict_itr in dict_list_evals:\n",
    "            help_list.append(dict_itr[key])\n",
    "        dict_total[key] = help_list\n",
    "\n",
    "# Set output table\n",
    "row_headers = [\"RF: Baseline\", \"RF: Tuned Accuracy\", \"RF: Tuned Speed\",\n",
    "              \"SGD: Baseline\", \"SGD: Tuned Accuracy\", \"SGD: Tuned Speed\"]\n",
    "final_table = pd.DataFrame(dict_total, row_headers)\n",
    "final_table"
   ]
  },
  {
   "cell_type": "markdown",
   "id": "twenty-middle",
   "metadata": {},
   "source": [
    "<a id='8_Qualitative_Error_Analysis'></a>\n",
    "<br>\n",
    "<br>\n",
    "<br>\n",
    "<br>\n",
    "<br>\n",
    "<br>\n",
    "\n",
    "## 8. Qualitative Error Analysis Preparation\n",
    "\n",
    "The following code chunks are coded in order to understand on how many errors each classifiers makes on the two different data sets. Additionally we output a list of picture ids so that a qualitative analysis can be performed regarding common and different mistakes. For this, only the accuracy tuned classfiers are used for the sake of simplicity - but this can be extended in future work."
   ]
  },
  {
   "cell_type": "code",
   "execution_count": 80,
   "id": "valued-level",
   "metadata": {},
   "outputs": [],
   "source": [
    "# Loading accurate pickle files\n",
    "error_table_rfc = pickle.load(open(\"03_output/02_test_set_evaluation/02_error_tables/error_table_pd_test_accuracy_tuned_full_RandomForestClassifier_24.pkl\",\"rb\"))\n",
    "error_table_sgd = pickle.load(open(\"03_output/02_test_set_evaluation/02_error_tables/error_table_pd_test_accuracy_tuned_full_SGDClassifier_24.pkl\",\"rb\"))\n",
    "\n",
    "\n",
    "# Storing into arrays\n",
    "error_table_rfc = error_table_rfc[\"error_table\"]\n",
    "error_table_sgd = error_table_sgd[\"error_table\"]\n",
    "filter_options = [\"False positive\", \"False negative\"]\n",
    "\n",
    "# Filtering for errors\n",
    "errors_rfc = error_table_rfc.loc[error_table_rfc[\"Error Type\"].isin(filter_options)].sort_values(by=[\"Label\", \"Filename picture ID\"])\n",
    "errors_sgd = error_table_sgd.loc[error_table_sgd[\"Error Type\"].isin(filter_options)].sort_values(by=[\"Label\", \"Filename picture ID\"])\n",
    "\n",
    "# Filtering picture IDs (filenames)\n",
    "list_errors_rfc=list(errors_rfc[\"Filename picture ID\"])\n",
    "list_errors_sgd=list(errors_sgd[\"Filename picture ID\"])\n"
   ]
  },
  {
   "cell_type": "code",
   "execution_count": 81,
   "id": "supreme-anniversary",
   "metadata": {},
   "outputs": [],
   "source": [
    "# Creating specific error lists divided by source\n",
    "# for Random Forest\n",
    "nvidia_rfc_err=[k for k in list_errors_rfc if 'NVIDIA' in k]\n",
    "kaggle_rfc_err=[k for k in list_errors_rfc if 'KAGGLE' in k]\n",
    "#for SGD\n",
    "nvidia_sgd_err=[k for k in list_errors_sgd if 'NVIDIA' in k]\n",
    "kaggle_sgd_err=[k for k in list_errors_sgd if 'KAGGLE' in k]"
   ]
  },
  {
   "cell_type": "code",
   "execution_count": 82,
   "id": "radio-johnston",
   "metadata": {},
   "outputs": [],
   "source": [
    "# Creating shared error list\n",
    "shared_err=[]\n",
    "for i_rfc in range(len(list_errors_rfc)):\n",
    "    for i_sgd in range(len(list_errors_sgd)):\n",
    "        id_1=list_errors_rfc[i_rfc]\n",
    "        id_2=list_errors_sgd[i_sgd]\n",
    "        if id_1 == id_2:\n",
    "            shared_err.append(id_1)\n",
    "            break\n",
    "            \n",
    "# Splitting error list by sources\n",
    "nvidia_shared_err=[k for k in shared_err if 'NVIDIA' in k]\n",
    "kaggle_shared_err=[k for k in shared_err if 'KAGGLE' in k]"
   ]
  },
  {
   "cell_type": "code",
   "execution_count": 83,
   "id": "filled-article",
   "metadata": {},
   "outputs": [
    {
     "name": "stdout",
     "output_type": "stream",
     "text": [
      "The RFC classifier makes 29 errors from the NVIDIA dataset\n",
      "The RFC classifier makes 66 errors from the Kaggle dataset\n",
      "The SGD classifier makes 180 errors from the NVIDIA dataset\n",
      "The SGD classifier makes 164 errors from the Kaggle dataset\n",
      "\n",
      "The Kaggle dataset has a share of roughly 8% on the total data set. \n",
      "The share of the Kaggle data set in the errors is: 52%. \n",
      "Thus there is a clear dominance of errors from the Kaggle dataset.\n",
      "\n",
      "Both classifiers share 52 errors: 40 from Kaggle and 12 from the NVIDIA dataset\n",
      "\n",
      "The Share of errors from the Kaggle dataset for the SGD is: 47.7%\n",
      "The Share of errors from the Kaggle dataset for the RFC is: 69.5%\n",
      "The Share of errors from the Kaggle dataset for the shared errors is: 76.9%\n"
     ]
    }
   ],
   "source": [
    "# Output:\n",
    "print(\"The RFC classifier makes \" +str(len(nvidia_rfc_err)) +\" errors from the NVIDIA dataset\")\n",
    "print(\"The RFC classifier makes \" +str(len(kaggle_rfc_err)) +\" errors from the Kaggle dataset\")\n",
    "print(\"The SGD classifier makes \" +str(len(nvidia_sgd_err)) +\" errors from the NVIDIA dataset\")\n",
    "print(\"The SGD classifier makes \" +str(len(kaggle_sgd_err)) +\" errors from the Kaggle dataset\")\n",
    "\n",
    "kaggle_error_share_total = (len(kaggle_rfc_err)+len(kaggle_sgd_err))/(len(list_errors_rfc)+len(list_errors_sgd))*100\n",
    "\n",
    "print(\"\\nThe Kaggle dataset has a share of roughly 8% on the total data set. \\nThe share of the Kaggle data set in the errors is: {}%. \\nThus there is a clear dominance of errors from the Kaggle dataset.\".format(round(kaggle_error_share_total)))\n",
    "\n",
    "print(\"\\nBoth classifiers share \" +str(len(shared_err)) +\" errors: \"+str(len(kaggle_shared_err)) +\" from Kaggle and \" +str(len(nvidia_shared_err)) +\" from the NVIDIA dataset\" )\n",
    "\n",
    "print(\"\\nThe Share of errors from the Kaggle dataset for the SGD is: \" +str(round(len(kaggle_sgd_err)/len(list_errors_sgd)*100,1)) + \"%\") \n",
    "print(\"The Share of errors from the Kaggle dataset for the RFC is: \" +str(round(len(kaggle_rfc_err)/len(list_errors_rfc)*100,1)) + \"%\")\n",
    "print(\"The Share of errors from the Kaggle dataset for the shared errors is: \" +str(round(len(kaggle_shared_err)/len(shared_err)*100,1)) + \"%\")\n"
   ]
  }
 ],
 "metadata": {
  "celltoolbar": "Initialization Cell",
  "kernelspec": {
   "display_name": "Python 3",
   "language": "python",
   "name": "python3"
  },
  "language_info": {
   "codemirror_mode": {
    "name": "ipython",
    "version": 3
   },
   "file_extension": ".py",
   "mimetype": "text/x-python",
   "name": "python",
   "nbconvert_exporter": "python",
   "pygments_lexer": "ipython3",
   "version": "3.8.5"
  },
  "toc": {
   "base_numbering": 1,
   "nav_menu": {},
   "number_sections": true,
   "sideBar": true,
   "skip_h1_title": false,
   "title_cell": "Table of Contents",
   "title_sidebar": "Contents",
   "toc_cell": false,
   "toc_position": {},
   "toc_section_display": true,
   "toc_window_display": false
  }
 },
 "nbformat": 4,
 "nbformat_minor": 5
}
