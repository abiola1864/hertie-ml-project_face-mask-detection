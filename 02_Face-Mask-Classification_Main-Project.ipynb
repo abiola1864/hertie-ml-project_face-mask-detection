{
 "cells": [
  {
   "cell_type": "markdown",
   "id": "unique-joseph",
   "metadata": {},
   "source": [
    "# Face-Mask-Classification Project\n",
    "\n",
    "\n",
    "Authors:\n",
    "+ Tobias Palmowski\n",
    "+ Fabian Metz\n",
    "+ Thilo Sander\n",
    "\n",
    "Date of Midterm-Report: 29.03.2021 <br>\n",
    "Date of final submission: 26.04.2021\n",
    "\n",
    "\n",
    "### Introduction\n",
    "\n",
    "This Jupyter Notebook is the core of the Face-Mask-Classification Project performed in the class \"Machine Learning\" of the Hertie School in Berlin. There is one other Jupyter Notebook which deals with combining the different datasets into one large data set - a task only performed once and therefore outsourced to another file.\n"
   ]
  },
  {
   "cell_type": "markdown",
   "id": "boxed-evanescence",
   "metadata": {},
   "source": [
    "### Data Processing: Pipeline-Building\n",
    "\n",
    "<br>\n",
    "<br>\n",
    "<br>\n",
    "<br>\n",
    "[Short Description]"
   ]
  },
  {
   "cell_type": "code",
   "execution_count": 1,
   "id": "electoral-history",
   "metadata": {},
   "outputs": [],
   "source": [
    "# Code for Pipeline-Building"
   ]
  },
  {
   "cell_type": "markdown",
   "id": "organic-adelaide",
   "metadata": {},
   "source": [
    "### Baseline: SGD Classifier\n",
    "\n",
    "<br>\n",
    "<br>\n",
    "<br>\n",
    "<br>\n",
    "[Short Description]"
   ]
  },
  {
   "cell_type": "code",
   "execution_count": 1,
   "id": "absent-stylus",
   "metadata": {},
   "outputs": [],
   "source": [
    "# Code for Baseline"
   ]
  },
  {
   "cell_type": "markdown",
   "id": "formal-vector",
   "metadata": {},
   "source": [
    "### Evaluation of Baseline\n",
    "\n",
    "<br>\n",
    "<br>\n",
    "<br>\n",
    "<br>\n",
    "[Short Description]"
   ]
  },
  {
   "cell_type": "code",
   "execution_count": 2,
   "id": "civic-homeless",
   "metadata": {},
   "outputs": [],
   "source": [
    "# Code for Baseline Evaluation"
   ]
  }
 ],
 "metadata": {
  "kernelspec": {
   "display_name": "Python 3",
   "language": "python",
   "name": "python3"
  },
  "language_info": {
   "codemirror_mode": {
    "name": "ipython",
    "version": 3
   },
   "file_extension": ".py",
   "mimetype": "text/x-python",
   "name": "python",
   "nbconvert_exporter": "python",
   "pygments_lexer": "ipython3",
   "version": "3.8.5"
  }
 },
 "nbformat": 4,
 "nbformat_minor": 5
}
